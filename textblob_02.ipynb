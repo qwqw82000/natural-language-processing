{
 "cells": [
  {
   "cell_type": "code",
   "execution_count": 1,
   "metadata": {},
   "outputs": [],
   "source": [
    "from textblob import Word"
   ]
  },
  {
   "cell_type": "code",
   "execution_count": 2,
   "metadata": {},
   "outputs": [],
   "source": [
    "word = Word(\"defend\")"
   ]
  },
  {
   "cell_type": "code",
   "execution_count": 8,
   "metadata": {},
   "outputs": [
    {
     "data": {
      "text/plain": [
       "('defend', textblob.blob.Word)"
      ]
     },
     "execution_count": 8,
     "metadata": {},
     "output_type": "execute_result"
    }
   ],
   "source": [
    "word, type(word)"
   ]
  },
  {
   "cell_type": "code",
   "execution_count": 9,
   "metadata": {},
   "outputs": [],
   "source": [
    "synsets = word.get_synsets()"
   ]
  },
  {
   "cell_type": "code",
   "execution_count": 10,
   "metadata": {},
   "outputs": [
    {
     "data": {
      "text/plain": [
       "[Synset('defend.v.01'),\n",
       " Synset('defend.v.02'),\n",
       " Synset('defend.v.03'),\n",
       " Synset('fight.v.02'),\n",
       " Synset('champion.v.01'),\n",
       " Synset('defend.v.06'),\n",
       " Synset('maintain.v.08')]"
      ]
     },
     "execution_count": 10,
     "metadata": {},
     "output_type": "execute_result"
    }
   ],
   "source": [
    "synsets"
   ]
  },
  {
   "cell_type": "code",
   "execution_count": 13,
   "metadata": {},
   "outputs": [
    {
     "data": {
      "text/plain": [
       "(Synset('defend.v.01'), nltk.corpus.reader.wordnet.Synset)"
      ]
     },
     "execution_count": 13,
     "metadata": {},
     "output_type": "execute_result"
    }
   ],
   "source": [
    "top_syn = synsets[0]\n",
    "top_syn, type(top_syn)"
   ]
  },
  {
   "cell_type": "code",
   "execution_count": 15,
   "metadata": {},
   "outputs": [
    {
     "data": {
      "text/plain": [
       "'defend.v.01'"
      ]
     },
     "execution_count": 15,
     "metadata": {},
     "output_type": "execute_result"
    }
   ],
   "source": [
    "top_syn.name()"
   ]
  },
  {
   "cell_type": "code",
   "execution_count": 17,
   "metadata": {},
   "outputs": [
    {
     "data": {
      "text/plain": [
       "[Lemma('defend.v.01.defend'),\n",
       " Lemma('defend.v.01.support'),\n",
       " Lemma('defend.v.01.fend_for')]"
      ]
     },
     "execution_count": 17,
     "metadata": {},
     "output_type": "execute_result"
    }
   ],
   "source": [
    "# 표제어 추출\n",
    "lemmas = top_syn.lemmas()\n",
    "lemmas"
   ]
  },
  {
   "cell_type": "code",
   "execution_count": 18,
   "metadata": {},
   "outputs": [
    {
     "name": "stdout",
     "output_type": "stream",
     "text": [
      "defend\n",
      "support\n",
      "fend_for\n"
     ]
    }
   ],
   "source": [
    "for lem in lemmas:\n",
    "    print(lem.name())"
   ]
  },
  {
   "cell_type": "code",
   "execution_count": 24,
   "metadata": {},
   "outputs": [],
   "source": [
    "user_input = input()\n",
    "result = []\n",
    "word = Word(user_input)\n",
    "\n",
    "for syn in word.get_synsets():\n",
    "    for lem in syn.lemmas():\n",
    "        name = lem.name()\n",
    "        if name != user_input:\n",
    "            result.append(name)\n"
   ]
  },
  {
   "cell_type": "code",
   "execution_count": 25,
   "metadata": {},
   "outputs": [
    {
     "data": {
      "text/plain": [
       "['fantastic',\n",
       " 'grand',\n",
       " 'howling',\n",
       " 'marvelous',\n",
       " 'marvellous',\n",
       " 'rattling',\n",
       " 'tremendous',\n",
       " 'wonderful',\n",
       " 'wondrous',\n",
       " 'terrifying']"
      ]
     },
     "execution_count": 25,
     "metadata": {},
     "output_type": "execute_result"
    }
   ],
   "source": [
    "result"
   ]
  },
  {
   "cell_type": "code",
   "execution_count": null,
   "metadata": {},
   "outputs": [],
   "source": []
  }
 ],
 "metadata": {
  "interpreter": {
   "hash": "ac8013a75859c6925308985c5e1ee5242e6e6f0429f283ee420b8cff3c2914b2"
  },
  "kernelspec": {
   "display_name": "Python 3.9.7 64-bit ('venv_night': venv)",
   "name": "python3"
  },
  "language_info": {
   "codemirror_mode": {
    "name": "ipython",
    "version": 3
   },
   "file_extension": ".py",
   "mimetype": "text/x-python",
   "name": "python",
   "nbconvert_exporter": "python",
   "pygments_lexer": "ipython3",
   "version": "3.9.7"
  },
  "orig_nbformat": 4
 },
 "nbformat": 4,
 "nbformat_minor": 2
}
