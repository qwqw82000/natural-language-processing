{
 "cells": [
  {
   "cell_type": "code",
   "execution_count": 6,
   "metadata": {},
   "outputs": [],
   "source": [
    "# 이 문서는 비지도 학습으로 카테고리 만들어 보는 문서이다.\n",
    "# 라이브러리 불러오기\n",
    "import numpy as np\n",
    "import pandas as pd\n",
    "import matplotlib.pyplot as plt\n",
    "import nltk"
   ]
  },
  {
   "cell_type": "code",
   "execution_count": 7,
   "metadata": {},
   "outputs": [],
   "source": [
    "# 데이터 불러오기\n",
    "data = pd.read_csv(\"news_summary.csv\", encoding=\"latin-1\")"
   ]
  },
  {
   "cell_type": "code",
   "execution_count": 8,
   "metadata": {},
   "outputs": [
    {
     "data": {
      "text/html": [
       "<div>\n",
       "<style scoped>\n",
       "    .dataframe tbody tr th:only-of-type {\n",
       "        vertical-align: middle;\n",
       "    }\n",
       "\n",
       "    .dataframe tbody tr th {\n",
       "        vertical-align: top;\n",
       "    }\n",
       "\n",
       "    .dataframe thead th {\n",
       "        text-align: right;\n",
       "    }\n",
       "</style>\n",
       "<table border=\"1\" class=\"dataframe\">\n",
       "  <thead>\n",
       "    <tr style=\"text-align: right;\">\n",
       "      <th></th>\n",
       "      <th>author</th>\n",
       "      <th>date</th>\n",
       "      <th>headlines</th>\n",
       "      <th>read_more</th>\n",
       "      <th>text</th>\n",
       "      <th>ctext</th>\n",
       "    </tr>\n",
       "  </thead>\n",
       "  <tbody>\n",
       "    <tr>\n",
       "      <th>0</th>\n",
       "      <td>Chhavi Tyagi</td>\n",
       "      <td>03 Aug 2017,Thursday</td>\n",
       "      <td>Daman &amp; Diu revokes mandatory Rakshabandhan in...</td>\n",
       "      <td>http://www.hindustantimes.com/india-news/raksh...</td>\n",
       "      <td>The Administration of Union Territory Daman an...</td>\n",
       "      <td>The Daman and Diu administration on Wednesday ...</td>\n",
       "    </tr>\n",
       "    <tr>\n",
       "      <th>1</th>\n",
       "      <td>Daisy Mowke</td>\n",
       "      <td>03 Aug 2017,Thursday</td>\n",
       "      <td>Malaika slams user who trolled her for 'divorc...</td>\n",
       "      <td>http://www.hindustantimes.com/bollywood/malaik...</td>\n",
       "      <td>Malaika Arora slammed an Instagram user who tr...</td>\n",
       "      <td>From her special numbers to TV?appearances, Bo...</td>\n",
       "    </tr>\n",
       "    <tr>\n",
       "      <th>2</th>\n",
       "      <td>Arshiya Chopra</td>\n",
       "      <td>03 Aug 2017,Thursday</td>\n",
       "      <td>'Virgin' now corrected to 'Unmarried' in IGIMS...</td>\n",
       "      <td>http://www.hindustantimes.com/patna/bihar-igim...</td>\n",
       "      <td>The Indira Gandhi Institute of Medical Science...</td>\n",
       "      <td>The Indira Gandhi Institute of Medical Science...</td>\n",
       "    </tr>\n",
       "    <tr>\n",
       "      <th>3</th>\n",
       "      <td>Sumedha Sehra</td>\n",
       "      <td>03 Aug 2017,Thursday</td>\n",
       "      <td>Aaj aapne pakad liya: LeT man Dujana before be...</td>\n",
       "      <td>http://indiatoday.intoday.in/story/abu-dujana-...</td>\n",
       "      <td>Lashkar-e-Taiba's Kashmir commander Abu Dujana...</td>\n",
       "      <td>Lashkar-e-Taiba's Kashmir commander Abu Dujana...</td>\n",
       "    </tr>\n",
       "    <tr>\n",
       "      <th>4</th>\n",
       "      <td>Aarushi Maheshwari</td>\n",
       "      <td>03 Aug 2017,Thursday</td>\n",
       "      <td>Hotel staff to get training to spot signs of s...</td>\n",
       "      <td>http://indiatoday.intoday.in/story/sex-traffic...</td>\n",
       "      <td>Hotels in Maharashtra will train their staff t...</td>\n",
       "      <td>Hotels in Mumbai and other Indian cities are t...</td>\n",
       "    </tr>\n",
       "  </tbody>\n",
       "</table>\n",
       "</div>"
      ],
      "text/plain": [
       "               author                  date  \\\n",
       "0        Chhavi Tyagi  03 Aug 2017,Thursday   \n",
       "1         Daisy Mowke  03 Aug 2017,Thursday   \n",
       "2      Arshiya Chopra  03 Aug 2017,Thursday   \n",
       "3       Sumedha Sehra  03 Aug 2017,Thursday   \n",
       "4  Aarushi Maheshwari  03 Aug 2017,Thursday   \n",
       "\n",
       "                                           headlines  \\\n",
       "0  Daman & Diu revokes mandatory Rakshabandhan in...   \n",
       "1  Malaika slams user who trolled her for 'divorc...   \n",
       "2  'Virgin' now corrected to 'Unmarried' in IGIMS...   \n",
       "3  Aaj aapne pakad liya: LeT man Dujana before be...   \n",
       "4  Hotel staff to get training to spot signs of s...   \n",
       "\n",
       "                                           read_more  \\\n",
       "0  http://www.hindustantimes.com/india-news/raksh...   \n",
       "1  http://www.hindustantimes.com/bollywood/malaik...   \n",
       "2  http://www.hindustantimes.com/patna/bihar-igim...   \n",
       "3  http://indiatoday.intoday.in/story/abu-dujana-...   \n",
       "4  http://indiatoday.intoday.in/story/sex-traffic...   \n",
       "\n",
       "                                                text  \\\n",
       "0  The Administration of Union Territory Daman an...   \n",
       "1  Malaika Arora slammed an Instagram user who tr...   \n",
       "2  The Indira Gandhi Institute of Medical Science...   \n",
       "3  Lashkar-e-Taiba's Kashmir commander Abu Dujana...   \n",
       "4  Hotels in Maharashtra will train their staff t...   \n",
       "\n",
       "                                               ctext  \n",
       "0  The Daman and Diu administration on Wednesday ...  \n",
       "1  From her special numbers to TV?appearances, Bo...  \n",
       "2  The Indira Gandhi Institute of Medical Science...  \n",
       "3  Lashkar-e-Taiba's Kashmir commander Abu Dujana...  \n",
       "4  Hotels in Mumbai and other Indian cities are t...  "
      ]
     },
     "execution_count": 8,
     "metadata": {},
     "output_type": "execute_result"
    }
   ],
   "source": [
    "# 데이터 살펴보기\n",
    "data.head()"
   ]
  },
  {
   "cell_type": "code",
   "execution_count": 9,
   "metadata": {},
   "outputs": [
    {
     "data": {
      "text/html": [
       "<div>\n",
       "<style scoped>\n",
       "    .dataframe tbody tr th:only-of-type {\n",
       "        vertical-align: middle;\n",
       "    }\n",
       "\n",
       "    .dataframe tbody tr th {\n",
       "        vertical-align: top;\n",
       "    }\n",
       "\n",
       "    .dataframe thead th {\n",
       "        text-align: right;\n",
       "    }\n",
       "</style>\n",
       "<table border=\"1\" class=\"dataframe\">\n",
       "  <thead>\n",
       "    <tr style=\"text-align: right;\">\n",
       "      <th></th>\n",
       "      <th>author</th>\n",
       "      <th>date</th>\n",
       "      <th>headlines</th>\n",
       "      <th>read_more</th>\n",
       "      <th>text</th>\n",
       "      <th>ctext</th>\n",
       "    </tr>\n",
       "  </thead>\n",
       "  <tbody>\n",
       "    <tr>\n",
       "      <th>4509</th>\n",
       "      <td>Mansha Mahajan</td>\n",
       "      <td>24 Feb 2017,Friday</td>\n",
       "      <td>Rasna seeking ?250 cr revenue from snack categ...</td>\n",
       "      <td>http://indiatoday.intoday.in/story/rasna-eyes-...</td>\n",
       "      <td>Fruit juice concentrate maker Rasna is eyeing ...</td>\n",
       "      <td>Mumbai, Feb 23 (PTI) Fruit juice concentrate m...</td>\n",
       "    </tr>\n",
       "    <tr>\n",
       "      <th>4510</th>\n",
       "      <td>Dishant Sharma</td>\n",
       "      <td>03 Aug 2017,Thursday</td>\n",
       "      <td>Sachin attends Rajya Sabha after questions on ...</td>\n",
       "      <td>http://indiatoday.intoday.in/story/sachin-tend...</td>\n",
       "      <td>Former Indian cricketer Sachin Tendulkar atten...</td>\n",
       "      <td>Former cricketer Sachin Tendulkar was spotted ...</td>\n",
       "    </tr>\n",
       "    <tr>\n",
       "      <th>4511</th>\n",
       "      <td>Tanya Dhingra</td>\n",
       "      <td>03 Aug 2017,Thursday</td>\n",
       "      <td>Shouldn't rob their childhood: Aamir on kids r...</td>\n",
       "      <td>http://www.hindustantimes.com/bollywood/secret...</td>\n",
       "      <td>Aamir Khan, while talking about reality shows ...</td>\n",
       "      <td>Aamir Khan, whose last film Dangal told the st...</td>\n",
       "    </tr>\n",
       "    <tr>\n",
       "      <th>4512</th>\n",
       "      <td>Pragya Swastik</td>\n",
       "      <td>07 Dec 2016,Wednesday</td>\n",
       "      <td>Asha Bhosle gets ?53,000 power bill for unused...</td>\n",
       "      <td>http://indiatoday.intoday.in/story/singer-asha...</td>\n",
       "      <td>The Maharashtra government has initiated an in...</td>\n",
       "      <td>Maharahstra Power Minister Chandrashekhar Bawa...</td>\n",
       "    </tr>\n",
       "    <tr>\n",
       "      <th>4513</th>\n",
       "      <td>Chhavi Tyagi</td>\n",
       "      <td>03 Aug 2017,Thursday</td>\n",
       "      <td>More than half of India's languages may die in...</td>\n",
       "      <td>http://indiatoday.intoday.in/story/indian-lang...</td>\n",
       "      <td>At least 400 languages or more than half langu...</td>\n",
       "      <td>More than half of the languages spoken by Indi...</td>\n",
       "    </tr>\n",
       "  </tbody>\n",
       "</table>\n",
       "</div>"
      ],
      "text/plain": [
       "              author                   date  \\\n",
       "4509  Mansha Mahajan     24 Feb 2017,Friday   \n",
       "4510  Dishant Sharma   03 Aug 2017,Thursday   \n",
       "4511   Tanya Dhingra   03 Aug 2017,Thursday   \n",
       "4512  Pragya Swastik  07 Dec 2016,Wednesday   \n",
       "4513    Chhavi Tyagi   03 Aug 2017,Thursday   \n",
       "\n",
       "                                              headlines  \\\n",
       "4509  Rasna seeking ?250 cr revenue from snack categ...   \n",
       "4510  Sachin attends Rajya Sabha after questions on ...   \n",
       "4511  Shouldn't rob their childhood: Aamir on kids r...   \n",
       "4512  Asha Bhosle gets ?53,000 power bill for unused...   \n",
       "4513  More than half of India's languages may die in...   \n",
       "\n",
       "                                              read_more  \\\n",
       "4509  http://indiatoday.intoday.in/story/rasna-eyes-...   \n",
       "4510  http://indiatoday.intoday.in/story/sachin-tend...   \n",
       "4511  http://www.hindustantimes.com/bollywood/secret...   \n",
       "4512  http://indiatoday.intoday.in/story/singer-asha...   \n",
       "4513  http://indiatoday.intoday.in/story/indian-lang...   \n",
       "\n",
       "                                                   text  \\\n",
       "4509  Fruit juice concentrate maker Rasna is eyeing ...   \n",
       "4510  Former Indian cricketer Sachin Tendulkar atten...   \n",
       "4511  Aamir Khan, while talking about reality shows ...   \n",
       "4512  The Maharashtra government has initiated an in...   \n",
       "4513  At least 400 languages or more than half langu...   \n",
       "\n",
       "                                                  ctext  \n",
       "4509  Mumbai, Feb 23 (PTI) Fruit juice concentrate m...  \n",
       "4510  Former cricketer Sachin Tendulkar was spotted ...  \n",
       "4511  Aamir Khan, whose last film Dangal told the st...  \n",
       "4512  Maharahstra Power Minister Chandrashekhar Bawa...  \n",
       "4513  More than half of the languages spoken by Indi...  "
      ]
     },
     "execution_count": 9,
     "metadata": {},
     "output_type": "execute_result"
    }
   ],
   "source": [
    "data.tail()"
   ]
  },
  {
   "cell_type": "code",
   "execution_count": 10,
   "metadata": {},
   "outputs": [
    {
     "data": {
      "text/html": [
       "<div>\n",
       "<style scoped>\n",
       "    .dataframe tbody tr th:only-of-type {\n",
       "        vertical-align: middle;\n",
       "    }\n",
       "\n",
       "    .dataframe tbody tr th {\n",
       "        vertical-align: top;\n",
       "    }\n",
       "\n",
       "    .dataframe thead th {\n",
       "        text-align: right;\n",
       "    }\n",
       "</style>\n",
       "<table border=\"1\" class=\"dataframe\">\n",
       "  <thead>\n",
       "    <tr style=\"text-align: right;\">\n",
       "      <th></th>\n",
       "      <th>author</th>\n",
       "      <th>date</th>\n",
       "      <th>headlines</th>\n",
       "      <th>read_more</th>\n",
       "      <th>text</th>\n",
       "      <th>ctext</th>\n",
       "    </tr>\n",
       "  </thead>\n",
       "  <tbody>\n",
       "    <tr>\n",
       "      <th>0</th>\n",
       "      <td>Chhavi Tyagi</td>\n",
       "      <td>03 Aug 2017,Thursday</td>\n",
       "      <td>Daman &amp; Diu revokes mandatory Rakshabandhan in...</td>\n",
       "      <td>http://www.hindustantimes.com/india-news/raksh...</td>\n",
       "      <td>The Administration of Union Territory Daman an...</td>\n",
       "      <td>The Daman and Diu administration on Wednesday ...</td>\n",
       "    </tr>\n",
       "    <tr>\n",
       "      <th>1</th>\n",
       "      <td>Daisy Mowke</td>\n",
       "      <td>03 Aug 2017,Thursday</td>\n",
       "      <td>Malaika slams user who trolled her for 'divorc...</td>\n",
       "      <td>http://www.hindustantimes.com/bollywood/malaik...</td>\n",
       "      <td>Malaika Arora slammed an Instagram user who tr...</td>\n",
       "      <td>From her special numbers to TV?appearances, Bo...</td>\n",
       "    </tr>\n",
       "    <tr>\n",
       "      <th>2</th>\n",
       "      <td>Arshiya Chopra</td>\n",
       "      <td>03 Aug 2017,Thursday</td>\n",
       "      <td>'Virgin' now corrected to 'Unmarried' in IGIMS...</td>\n",
       "      <td>http://www.hindustantimes.com/patna/bihar-igim...</td>\n",
       "      <td>The Indira Gandhi Institute of Medical Science...</td>\n",
       "      <td>The Indira Gandhi Institute of Medical Science...</td>\n",
       "    </tr>\n",
       "    <tr>\n",
       "      <th>3</th>\n",
       "      <td>Sumedha Sehra</td>\n",
       "      <td>03 Aug 2017,Thursday</td>\n",
       "      <td>Aaj aapne pakad liya: LeT man Dujana before be...</td>\n",
       "      <td>http://indiatoday.intoday.in/story/abu-dujana-...</td>\n",
       "      <td>Lashkar-e-Taiba's Kashmir commander Abu Dujana...</td>\n",
       "      <td>Lashkar-e-Taiba's Kashmir commander Abu Dujana...</td>\n",
       "    </tr>\n",
       "    <tr>\n",
       "      <th>4</th>\n",
       "      <td>Aarushi Maheshwari</td>\n",
       "      <td>03 Aug 2017,Thursday</td>\n",
       "      <td>Hotel staff to get training to spot signs of s...</td>\n",
       "      <td>http://indiatoday.intoday.in/story/sex-traffic...</td>\n",
       "      <td>Hotels in Maharashtra will train their staff t...</td>\n",
       "      <td>Hotels in Mumbai and other Indian cities are t...</td>\n",
       "    </tr>\n",
       "    <tr>\n",
       "      <th>5</th>\n",
       "      <td>Sonu Kumari</td>\n",
       "      <td>03 Aug 2017,Thursday</td>\n",
       "      <td>Man found dead at Delhi police station, kin al...</td>\n",
       "      <td>http://www.hindustantimes.com/delhi-news/man-f...</td>\n",
       "      <td>A 32-year-old man on Wednesday was found hangi...</td>\n",
       "      <td>An alleged suspect in a kidnapping case was fo...</td>\n",
       "    </tr>\n",
       "    <tr>\n",
       "      <th>6</th>\n",
       "      <td>Parmeet Kaur</td>\n",
       "      <td>03 Aug 2017,Thursday</td>\n",
       "      <td>Delhi HC reduces aid for 'negligent' accident ...</td>\n",
       "      <td>http://indiatoday.intoday.in/story/delhi-high-...</td>\n",
       "      <td>The Delhi High Court reduced the compensation ...</td>\n",
       "      <td>In an interesting ruling, the Delhi high court...</td>\n",
       "    </tr>\n",
       "    <tr>\n",
       "      <th>7</th>\n",
       "      <td>Chhavi Tyagi</td>\n",
       "      <td>03 Aug 2017,Thursday</td>\n",
       "      <td>60-yr-old lynched over rumours she was cutting...</td>\n",
       "      <td>http://www.hindustantimes.com/india-news/60-ye...</td>\n",
       "      <td>A 60-year old Dalit woman was allegedly lynche...</td>\n",
       "      <td>A 60-year old Dalit woman was allegedly lynch...</td>\n",
       "    </tr>\n",
       "    <tr>\n",
       "      <th>8</th>\n",
       "      <td>Parmeet Kaur</td>\n",
       "      <td>03 Aug 2017,Thursday</td>\n",
       "      <td>Chopper flying critically low led to 2015 Bomb...</td>\n",
       "      <td>http://www.hindustantimes.com/mumbai-news/2015...</td>\n",
       "      <td>An inquiry by the Aircraft Accident Investigat...</td>\n",
       "      <td>Two years after a helicopter crash near the Bo...</td>\n",
       "    </tr>\n",
       "    <tr>\n",
       "      <th>9</th>\n",
       "      <td>Sumedha Sehra</td>\n",
       "      <td>03 Aug 2017,Thursday</td>\n",
       "      <td>Congress opens 'State Bank of Tomato' in Lucknow</td>\n",
       "      <td>http://indiatoday.intoday.in/story/lucknow-sta...</td>\n",
       "      <td>The Congress party has opened a bank called 'S...</td>\n",
       "      <td>It sounds like satire, but make no mistake: at...</td>\n",
       "    </tr>\n",
       "    <tr>\n",
       "      <th>10</th>\n",
       "      <td>Sumedha Sehra</td>\n",
       "      <td>03 Aug 2017,Thursday</td>\n",
       "      <td>Food regulator planning leftover banks to feed...</td>\n",
       "      <td>http://www.hindustantimes.com/india-news/india...</td>\n",
       "      <td>India's food regulator Food Safety and Standar...</td>\n",
       "      <td>The Food Safety and Standards Authority of Ind...</td>\n",
       "    </tr>\n",
       "    <tr>\n",
       "      <th>11</th>\n",
       "      <td>Sumedha Sehra</td>\n",
       "      <td>03 Aug 2017,Thursday</td>\n",
       "      <td>Call devastated his life: Mom of boy who got '...</td>\n",
       "      <td>http://www.hindustantimes.com/punjab/google-jo...</td>\n",
       "      <td>The mother of Harshit Sharma, the class 12 Cha...</td>\n",
       "      <td>Bharti Sharma, mother of the 16-year-old boy w...</td>\n",
       "    </tr>\n",
       "    <tr>\n",
       "      <th>12</th>\n",
       "      <td>Sonu Kumari</td>\n",
       "      <td>03 Aug 2017,Thursday</td>\n",
       "      <td>19 Gurugram buildings to pay property tax over...</td>\n",
       "      <td>http://www.hindustantimes.com/gurgaon/mcg-s-ne...</td>\n",
       "      <td>Municipal Corporation of Gurugram on Wednesday...</td>\n",
       "      <td>Only 26 malls and commercial centres on Mehrau...</td>\n",
       "    </tr>\n",
       "    <tr>\n",
       "      <th>13</th>\n",
       "      <td>Dishant Sharma</td>\n",
       "      <td>03 Aug 2017,Thursday</td>\n",
       "      <td>Human embryos edited to stop deadly disease fo...</td>\n",
       "      <td>https://www.theguardian.com/science/2017/aug/0...</td>\n",
       "      <td>Scientists, for the first time, successfully f...</td>\n",
       "      <td>Scientists have modified human embryos to remo...</td>\n",
       "    </tr>\n",
       "    <tr>\n",
       "      <th>14</th>\n",
       "      <td>Sonu Kumari</td>\n",
       "      <td>03 Aug 2017,Thursday</td>\n",
       "      <td>Nearly 2,300 CPWD buildings in Delhi unsafe: U...</td>\n",
       "      <td>http://www.hindustantimes.com/delhi-news/nearl...</td>\n",
       "      <td>A Union Minister of State for Home Affairs inf...</td>\n",
       "      <td>As many as 2,297 residential buildings under t...</td>\n",
       "    </tr>\n",
       "    <tr>\n",
       "      <th>15</th>\n",
       "      <td>Chhavi Tyagi</td>\n",
       "      <td>03 Aug 2017,Thursday</td>\n",
       "      <td>Gujarat Rajya Sabha polls to be held with NOTA...</td>\n",
       "      <td>http://www.hindustantimes.com/india-news/supre...</td>\n",
       "      <td>The Supreme Court today refused to stay the ex...</td>\n",
       "      <td>The Supreme Court on Thursday refused to stay ...</td>\n",
       "    </tr>\n",
       "    <tr>\n",
       "      <th>16</th>\n",
       "      <td>Dishant Sharma</td>\n",
       "      <td>03 Aug 2017,Thursday</td>\n",
       "      <td>Indian athlete indicted on sex abuse charge in US</td>\n",
       "      <td>http://www.hindustantimes.com/other-sports/ind...</td>\n",
       "      <td>Tanveer Hussain, a 24-year-old Indian athlete ...</td>\n",
       "      <td>A 24-year-old Indian athlete has been indicted...</td>\n",
       "    </tr>\n",
       "    <tr>\n",
       "      <th>17</th>\n",
       "      <td>Aarushi Maheshwari</td>\n",
       "      <td>03 Aug 2017,Thursday</td>\n",
       "      <td>Maruti spare parts trigger bomb scare at Delhi...</td>\n",
       "      <td>http://indiatoday.intoday.in/story/maruti-spar...</td>\n",
       "      <td>Bomb squads and canine teams were rushed to ch...</td>\n",
       "      <td>New Delhi, Aug 2 (PTI) Bomb squads and canine ...</td>\n",
       "    </tr>\n",
       "    <tr>\n",
       "      <th>18</th>\n",
       "      <td>Arshiya Chopra</td>\n",
       "      <td>03 Aug 2017,Thursday</td>\n",
       "      <td>Virgin means unmarried, nothing offensive in i...</td>\n",
       "      <td>http://indiatoday.intoday.in/story/virgin-igim...</td>\n",
       "      <td>Defending the IGIMS marital declaration form, ...</td>\n",
       "      <td>Bihar Health Minister Mangal Pandey has defend...</td>\n",
       "    </tr>\n",
       "    <tr>\n",
       "      <th>19</th>\n",
       "      <td>Aarushi Maheshwari</td>\n",
       "      <td>03 Aug 2017,Thursday</td>\n",
       "      <td>Bus seats mistaken for burqas by Norway anti-i...</td>\n",
       "      <td>https://www.theguardian.com/world/2017/aug/02/...</td>\n",
       "      <td>The members of a Norwegian anti-immigrant grou...</td>\n",
       "      <td>A Norwegian anti-immigrant group has been roun...</td>\n",
       "    </tr>\n",
       "  </tbody>\n",
       "</table>\n",
       "</div>"
      ],
      "text/plain": [
       "                author                  date  \\\n",
       "0         Chhavi Tyagi  03 Aug 2017,Thursday   \n",
       "1          Daisy Mowke  03 Aug 2017,Thursday   \n",
       "2       Arshiya Chopra  03 Aug 2017,Thursday   \n",
       "3        Sumedha Sehra  03 Aug 2017,Thursday   \n",
       "4   Aarushi Maheshwari  03 Aug 2017,Thursday   \n",
       "5          Sonu Kumari  03 Aug 2017,Thursday   \n",
       "6         Parmeet Kaur  03 Aug 2017,Thursday   \n",
       "7         Chhavi Tyagi  03 Aug 2017,Thursday   \n",
       "8         Parmeet Kaur  03 Aug 2017,Thursday   \n",
       "9        Sumedha Sehra  03 Aug 2017,Thursday   \n",
       "10       Sumedha Sehra  03 Aug 2017,Thursday   \n",
       "11       Sumedha Sehra  03 Aug 2017,Thursday   \n",
       "12         Sonu Kumari  03 Aug 2017,Thursday   \n",
       "13      Dishant Sharma  03 Aug 2017,Thursday   \n",
       "14         Sonu Kumari  03 Aug 2017,Thursday   \n",
       "15        Chhavi Tyagi  03 Aug 2017,Thursday   \n",
       "16      Dishant Sharma  03 Aug 2017,Thursday   \n",
       "17  Aarushi Maheshwari  03 Aug 2017,Thursday   \n",
       "18      Arshiya Chopra  03 Aug 2017,Thursday   \n",
       "19  Aarushi Maheshwari  03 Aug 2017,Thursday   \n",
       "\n",
       "                                            headlines  \\\n",
       "0   Daman & Diu revokes mandatory Rakshabandhan in...   \n",
       "1   Malaika slams user who trolled her for 'divorc...   \n",
       "2   'Virgin' now corrected to 'Unmarried' in IGIMS...   \n",
       "3   Aaj aapne pakad liya: LeT man Dujana before be...   \n",
       "4   Hotel staff to get training to spot signs of s...   \n",
       "5   Man found dead at Delhi police station, kin al...   \n",
       "6   Delhi HC reduces aid for 'negligent' accident ...   \n",
       "7   60-yr-old lynched over rumours she was cutting...   \n",
       "8   Chopper flying critically low led to 2015 Bomb...   \n",
       "9    Congress opens 'State Bank of Tomato' in Lucknow   \n",
       "10  Food regulator planning leftover banks to feed...   \n",
       "11  Call devastated his life: Mom of boy who got '...   \n",
       "12  19 Gurugram buildings to pay property tax over...   \n",
       "13  Human embryos edited to stop deadly disease fo...   \n",
       "14  Nearly 2,300 CPWD buildings in Delhi unsafe: U...   \n",
       "15  Gujarat Rajya Sabha polls to be held with NOTA...   \n",
       "16  Indian athlete indicted on sex abuse charge in US   \n",
       "17  Maruti spare parts trigger bomb scare at Delhi...   \n",
       "18  Virgin means unmarried, nothing offensive in i...   \n",
       "19  Bus seats mistaken for burqas by Norway anti-i...   \n",
       "\n",
       "                                            read_more  \\\n",
       "0   http://www.hindustantimes.com/india-news/raksh...   \n",
       "1   http://www.hindustantimes.com/bollywood/malaik...   \n",
       "2   http://www.hindustantimes.com/patna/bihar-igim...   \n",
       "3   http://indiatoday.intoday.in/story/abu-dujana-...   \n",
       "4   http://indiatoday.intoday.in/story/sex-traffic...   \n",
       "5   http://www.hindustantimes.com/delhi-news/man-f...   \n",
       "6   http://indiatoday.intoday.in/story/delhi-high-...   \n",
       "7   http://www.hindustantimes.com/india-news/60-ye...   \n",
       "8   http://www.hindustantimes.com/mumbai-news/2015...   \n",
       "9   http://indiatoday.intoday.in/story/lucknow-sta...   \n",
       "10  http://www.hindustantimes.com/india-news/india...   \n",
       "11  http://www.hindustantimes.com/punjab/google-jo...   \n",
       "12  http://www.hindustantimes.com/gurgaon/mcg-s-ne...   \n",
       "13  https://www.theguardian.com/science/2017/aug/0...   \n",
       "14  http://www.hindustantimes.com/delhi-news/nearl...   \n",
       "15  http://www.hindustantimes.com/india-news/supre...   \n",
       "16  http://www.hindustantimes.com/other-sports/ind...   \n",
       "17  http://indiatoday.intoday.in/story/maruti-spar...   \n",
       "18  http://indiatoday.intoday.in/story/virgin-igim...   \n",
       "19  https://www.theguardian.com/world/2017/aug/02/...   \n",
       "\n",
       "                                                 text  \\\n",
       "0   The Administration of Union Territory Daman an...   \n",
       "1   Malaika Arora slammed an Instagram user who tr...   \n",
       "2   The Indira Gandhi Institute of Medical Science...   \n",
       "3   Lashkar-e-Taiba's Kashmir commander Abu Dujana...   \n",
       "4   Hotels in Maharashtra will train their staff t...   \n",
       "5   A 32-year-old man on Wednesday was found hangi...   \n",
       "6   The Delhi High Court reduced the compensation ...   \n",
       "7   A 60-year old Dalit woman was allegedly lynche...   \n",
       "8   An inquiry by the Aircraft Accident Investigat...   \n",
       "9   The Congress party has opened a bank called 'S...   \n",
       "10  India's food regulator Food Safety and Standar...   \n",
       "11  The mother of Harshit Sharma, the class 12 Cha...   \n",
       "12  Municipal Corporation of Gurugram on Wednesday...   \n",
       "13  Scientists, for the first time, successfully f...   \n",
       "14  A Union Minister of State for Home Affairs inf...   \n",
       "15  The Supreme Court today refused to stay the ex...   \n",
       "16  Tanveer Hussain, a 24-year-old Indian athlete ...   \n",
       "17  Bomb squads and canine teams were rushed to ch...   \n",
       "18  Defending the IGIMS marital declaration form, ...   \n",
       "19  The members of a Norwegian anti-immigrant grou...   \n",
       "\n",
       "                                                ctext  \n",
       "0   The Daman and Diu administration on Wednesday ...  \n",
       "1   From her special numbers to TV?appearances, Bo...  \n",
       "2   The Indira Gandhi Institute of Medical Science...  \n",
       "3   Lashkar-e-Taiba's Kashmir commander Abu Dujana...  \n",
       "4   Hotels in Mumbai and other Indian cities are t...  \n",
       "5   An alleged suspect in a kidnapping case was fo...  \n",
       "6   In an interesting ruling, the Delhi high court...  \n",
       "7    A 60-year old Dalit woman was allegedly lynch...  \n",
       "8   Two years after a helicopter crash near the Bo...  \n",
       "9   It sounds like satire, but make no mistake: at...  \n",
       "10  The Food Safety and Standards Authority of Ind...  \n",
       "11  Bharti Sharma, mother of the 16-year-old boy w...  \n",
       "12  Only 26 malls and commercial centres on Mehrau...  \n",
       "13  Scientists have modified human embryos to remo...  \n",
       "14  As many as 2,297 residential buildings under t...  \n",
       "15  The Supreme Court on Thursday refused to stay ...  \n",
       "16  A 24-year-old Indian athlete has been indicted...  \n",
       "17  New Delhi, Aug 2 (PTI) Bomb squads and canine ...  \n",
       "18  Bihar Health Minister Mangal Pandey has defend...  \n",
       "19  A Norwegian anti-immigrant group has been roun...  "
      ]
     },
     "execution_count": 10,
     "metadata": {},
     "output_type": "execute_result"
    }
   ],
   "source": [
    "data.head(20)"
   ]
  },
  {
   "cell_type": "code",
   "execution_count": 11,
   "metadata": {},
   "outputs": [
    {
     "data": {
      "text/html": [
       "<div>\n",
       "<style scoped>\n",
       "    .dataframe tbody tr th:only-of-type {\n",
       "        vertical-align: middle;\n",
       "    }\n",
       "\n",
       "    .dataframe tbody tr th {\n",
       "        vertical-align: top;\n",
       "    }\n",
       "\n",
       "    .dataframe thead th {\n",
       "        text-align: right;\n",
       "    }\n",
       "</style>\n",
       "<table border=\"1\" class=\"dataframe\">\n",
       "  <thead>\n",
       "    <tr style=\"text-align: right;\">\n",
       "      <th></th>\n",
       "      <th>author</th>\n",
       "      <th>date</th>\n",
       "      <th>headlines</th>\n",
       "      <th>read_more</th>\n",
       "      <th>text</th>\n",
       "      <th>ctext</th>\n",
       "    </tr>\n",
       "  </thead>\n",
       "  <tbody>\n",
       "    <tr>\n",
       "      <th>4494</th>\n",
       "      <td>Anmol Sharma</td>\n",
       "      <td>25 Feb 2017,Saturday</td>\n",
       "      <td>WBO Oriental champion refuses to fight Vijende...</td>\n",
       "      <td>http://indiatoday.intoday.in/story/vijender-si...</td>\n",
       "      <td>WBO Oriental Champion China's Zulpikar Maimait...</td>\n",
       "      <td>WBO Oriental Champion Zulpikar Maimaitiali of ...</td>\n",
       "    </tr>\n",
       "    <tr>\n",
       "      <th>4495</th>\n",
       "      <td>Abhishek Bansal</td>\n",
       "      <td>24 Feb 2017,Friday</td>\n",
       "      <td>Just one bad day for India: Anil Kumble defend...</td>\n",
       "      <td>http://indiatoday.intoday.in/story/anil-kumble...</td>\n",
       "      <td>Speaking about India's performance on Day 2 of...</td>\n",
       "      <td>India coach Anil Kumble gave a measured respon...</td>\n",
       "    </tr>\n",
       "    <tr>\n",
       "      <th>4496</th>\n",
       "      <td>Prashanti Moktan</td>\n",
       "      <td>24 Feb 2017,Friday</td>\n",
       "      <td>Bachchan turns down rare invitation from Queen...</td>\n",
       "      <td>http://indiatoday.intoday.in/story/amitabh-bac...</td>\n",
       "      <td>Amitabh Bachchan has turned down a rare invita...</td>\n",
       "      <td>Amitabh Bachchan will not be able to attend th...</td>\n",
       "    </tr>\n",
       "    <tr>\n",
       "      <th>4497</th>\n",
       "      <td>Chhavi Tyagi</td>\n",
       "      <td>24 Feb 2017,Friday</td>\n",
       "      <td>BJP, Shiv Sena have no option but to come toge...</td>\n",
       "      <td>http://indiatoday.intoday.in/story/bmc-electio...</td>\n",
       "      <td>A day after a fractured verdict in the Brihanm...</td>\n",
       "      <td>A day after the Brihanmumbai Municipal Corpora...</td>\n",
       "    </tr>\n",
       "    <tr>\n",
       "      <th>4498</th>\n",
       "      <td>Daisy Mowke</td>\n",
       "      <td>24 Feb 2017,Friday</td>\n",
       "      <td>Stop hypocrisy, open your mind: Disha to slut-...</td>\n",
       "      <td>http://indiatoday.intoday.in/story/disha-patan...</td>\n",
       "      <td>Actress Disha Patani, while responding to a pe...</td>\n",
       "      <td>Disha Patani's outfit at Filmfare Awards this ...</td>\n",
       "    </tr>\n",
       "    <tr>\n",
       "      <th>4499</th>\n",
       "      <td>Mansha Mahajan</td>\n",
       "      <td>24 Feb 2017,Friday</td>\n",
       "      <td>Note ban sucked in cash like a vacuum cleaner:...</td>\n",
       "      <td>http://indiatoday.intoday.in/story/demonetisat...</td>\n",
       "      <td>According to IMF's Asia and Pacific Department...</td>\n",
       "      <td>From Lalit K Jha Washington, Feb 24 (PTI) Indi...</td>\n",
       "    </tr>\n",
       "    <tr>\n",
       "      <th>4500</th>\n",
       "      <td>Mansha Mahajan</td>\n",
       "      <td>24 Feb 2017,Friday</td>\n",
       "      <td>Business models of e-tailers have not worked: ...</td>\n",
       "      <td>http://indiatoday.intoday.in/story/biz-models-...</td>\n",
       "      <td>Former Infosys CFO Mohandas Pai has said that ...</td>\n",
       "      <td>NaN</td>\n",
       "    </tr>\n",
       "    <tr>\n",
       "      <th>4501</th>\n",
       "      <td>Prashanti Moktan</td>\n",
       "      <td>24 Feb 2017,Friday</td>\n",
       "      <td>Akshay equals SRK's number of ?100 cr films wi...</td>\n",
       "      <td>http://indiatoday.intoday.in/story/jolly-llb-2...</td>\n",
       "      <td>With 'Jolly LLB 2' becoming actor Akshay Kumar...</td>\n",
       "      <td>Akshay Kumar is on a roll these days. The 49-y...</td>\n",
       "    </tr>\n",
       "    <tr>\n",
       "      <th>4502</th>\n",
       "      <td>Daisy Mowke</td>\n",
       "      <td>24 Feb 2017,Friday</td>\n",
       "      <td>New poster of 'Baahubali 2' featuring Prabhas ...</td>\n",
       "      <td>http://indiatoday.intoday.in/story/baahubali-2...</td>\n",
       "      <td>A new poster of the upcoming epic historical f...</td>\n",
       "      <td>Be it the visuals or its core, SS Rajamouli's ...</td>\n",
       "    </tr>\n",
       "    <tr>\n",
       "      <th>4503</th>\n",
       "      <td>Anmol Sharma</td>\n",
       "      <td>24 Feb 2017,Friday</td>\n",
       "      <td>Virat Kohli out for a duck for first time in T...</td>\n",
       "      <td>http://indiatoday.intoday.in/story/virat-kohli...</td>\n",
       "      <td>Indian captain Virat Kohli on Friday got out w...</td>\n",
       "      <td>Virat Kohli, the most in-form batsman in world...</td>\n",
       "    </tr>\n",
       "    <tr>\n",
       "      <th>4504</th>\n",
       "      <td>Tarun Khanna</td>\n",
       "      <td>24 Feb 2017,Friday</td>\n",
       "      <td>Indian shot dead in US over alleged racism</td>\n",
       "      <td>http://indiatoday.intoday.in/story/kansas-city...</td>\n",
       "      <td>Srinivas Kunchubhotla (32), an Indian engineer...</td>\n",
       "      <td>The US Embassy in New Delhi has strongly cond...</td>\n",
       "    </tr>\n",
       "    <tr>\n",
       "      <th>4505</th>\n",
       "      <td>Tarun Khanna</td>\n",
       "      <td>24 Feb 2017,Friday</td>\n",
       "      <td>Prosthetic fingers on sale to rig UP election:...</td>\n",
       "      <td>http://indiatoday.intoday.in/story/uttar-prade...</td>\n",
       "      <td>An investigation by India Today has unmasked a...</td>\n",
       "      <td>If some unscrupulous elements in the prostheti...</td>\n",
       "    </tr>\n",
       "    <tr>\n",
       "      <th>4506</th>\n",
       "      <td>Daisy Mowke</td>\n",
       "      <td>24 Feb 2017,Friday</td>\n",
       "      <td>Kangana, Shahid, Saif starrer 'Rangoon' hits t...</td>\n",
       "      <td>http://indiatoday.intoday.in/story/rangoon-mov...</td>\n",
       "      <td>The Kangana Ranaut, Shahid Kapoor and Saif Ali...</td>\n",
       "      <td>Rangoon is a triangular love story set in the ...</td>\n",
       "    </tr>\n",
       "    <tr>\n",
       "      <th>4507</th>\n",
       "      <td>Tarun Khanna</td>\n",
       "      <td>24 Feb 2017,Friday</td>\n",
       "      <td>BMC Mayor will be from Shiv Sena: Uddhav Thack...</td>\n",
       "      <td>http://indiatoday.intoday.in/story/shiv-sena-w...</td>\n",
       "      <td>After emerging as the single largest party in ...</td>\n",
       "      <td>As uncertainty loomed large in the BMC polls d...</td>\n",
       "    </tr>\n",
       "    <tr>\n",
       "      <th>4508</th>\n",
       "      <td>Tarun Khanna</td>\n",
       "      <td>24 Feb 2017,Friday</td>\n",
       "      <td>Ticket collector bites off senior officer?s no...</td>\n",
       "      <td>http://indiatoday.intoday.in/story/tc-allegedl...</td>\n",
       "      <td>A ticket collector on Thursday allegedly bit o...</td>\n",
       "      <td>NaN</td>\n",
       "    </tr>\n",
       "    <tr>\n",
       "      <th>4509</th>\n",
       "      <td>Mansha Mahajan</td>\n",
       "      <td>24 Feb 2017,Friday</td>\n",
       "      <td>Rasna seeking ?250 cr revenue from snack categ...</td>\n",
       "      <td>http://indiatoday.intoday.in/story/rasna-eyes-...</td>\n",
       "      <td>Fruit juice concentrate maker Rasna is eyeing ...</td>\n",
       "      <td>Mumbai, Feb 23 (PTI) Fruit juice concentrate m...</td>\n",
       "    </tr>\n",
       "    <tr>\n",
       "      <th>4510</th>\n",
       "      <td>Dishant Sharma</td>\n",
       "      <td>03 Aug 2017,Thursday</td>\n",
       "      <td>Sachin attends Rajya Sabha after questions on ...</td>\n",
       "      <td>http://indiatoday.intoday.in/story/sachin-tend...</td>\n",
       "      <td>Former Indian cricketer Sachin Tendulkar atten...</td>\n",
       "      <td>Former cricketer Sachin Tendulkar was spotted ...</td>\n",
       "    </tr>\n",
       "    <tr>\n",
       "      <th>4511</th>\n",
       "      <td>Tanya Dhingra</td>\n",
       "      <td>03 Aug 2017,Thursday</td>\n",
       "      <td>Shouldn't rob their childhood: Aamir on kids r...</td>\n",
       "      <td>http://www.hindustantimes.com/bollywood/secret...</td>\n",
       "      <td>Aamir Khan, while talking about reality shows ...</td>\n",
       "      <td>Aamir Khan, whose last film Dangal told the st...</td>\n",
       "    </tr>\n",
       "    <tr>\n",
       "      <th>4512</th>\n",
       "      <td>Pragya Swastik</td>\n",
       "      <td>07 Dec 2016,Wednesday</td>\n",
       "      <td>Asha Bhosle gets ?53,000 power bill for unused...</td>\n",
       "      <td>http://indiatoday.intoday.in/story/singer-asha...</td>\n",
       "      <td>The Maharashtra government has initiated an in...</td>\n",
       "      <td>Maharahstra Power Minister Chandrashekhar Bawa...</td>\n",
       "    </tr>\n",
       "    <tr>\n",
       "      <th>4513</th>\n",
       "      <td>Chhavi Tyagi</td>\n",
       "      <td>03 Aug 2017,Thursday</td>\n",
       "      <td>More than half of India's languages may die in...</td>\n",
       "      <td>http://indiatoday.intoday.in/story/indian-lang...</td>\n",
       "      <td>At least 400 languages or more than half langu...</td>\n",
       "      <td>More than half of the languages spoken by Indi...</td>\n",
       "    </tr>\n",
       "  </tbody>\n",
       "</table>\n",
       "</div>"
      ],
      "text/plain": [
       "                author                   date  \\\n",
       "4494      Anmol Sharma   25 Feb 2017,Saturday   \n",
       "4495   Abhishek Bansal     24 Feb 2017,Friday   \n",
       "4496  Prashanti Moktan     24 Feb 2017,Friday   \n",
       "4497      Chhavi Tyagi     24 Feb 2017,Friday   \n",
       "4498       Daisy Mowke     24 Feb 2017,Friday   \n",
       "4499    Mansha Mahajan     24 Feb 2017,Friday   \n",
       "4500    Mansha Mahajan     24 Feb 2017,Friday   \n",
       "4501  Prashanti Moktan     24 Feb 2017,Friday   \n",
       "4502       Daisy Mowke     24 Feb 2017,Friday   \n",
       "4503      Anmol Sharma     24 Feb 2017,Friday   \n",
       "4504      Tarun Khanna     24 Feb 2017,Friday   \n",
       "4505      Tarun Khanna     24 Feb 2017,Friday   \n",
       "4506       Daisy Mowke     24 Feb 2017,Friday   \n",
       "4507      Tarun Khanna     24 Feb 2017,Friday   \n",
       "4508      Tarun Khanna     24 Feb 2017,Friday   \n",
       "4509    Mansha Mahajan     24 Feb 2017,Friday   \n",
       "4510    Dishant Sharma   03 Aug 2017,Thursday   \n",
       "4511     Tanya Dhingra   03 Aug 2017,Thursday   \n",
       "4512    Pragya Swastik  07 Dec 2016,Wednesday   \n",
       "4513      Chhavi Tyagi   03 Aug 2017,Thursday   \n",
       "\n",
       "                                              headlines  \\\n",
       "4494  WBO Oriental champion refuses to fight Vijende...   \n",
       "4495  Just one bad day for India: Anil Kumble defend...   \n",
       "4496  Bachchan turns down rare invitation from Queen...   \n",
       "4497  BJP, Shiv Sena have no option but to come toge...   \n",
       "4498  Stop hypocrisy, open your mind: Disha to slut-...   \n",
       "4499  Note ban sucked in cash like a vacuum cleaner:...   \n",
       "4500  Business models of e-tailers have not worked: ...   \n",
       "4501  Akshay equals SRK's number of ?100 cr films wi...   \n",
       "4502  New poster of 'Baahubali 2' featuring Prabhas ...   \n",
       "4503  Virat Kohli out for a duck for first time in T...   \n",
       "4504         Indian shot dead in US over alleged racism   \n",
       "4505  Prosthetic fingers on sale to rig UP election:...   \n",
       "4506  Kangana, Shahid, Saif starrer 'Rangoon' hits t...   \n",
       "4507  BMC Mayor will be from Shiv Sena: Uddhav Thack...   \n",
       "4508  Ticket collector bites off senior officer?s no...   \n",
       "4509  Rasna seeking ?250 cr revenue from snack categ...   \n",
       "4510  Sachin attends Rajya Sabha after questions on ...   \n",
       "4511  Shouldn't rob their childhood: Aamir on kids r...   \n",
       "4512  Asha Bhosle gets ?53,000 power bill for unused...   \n",
       "4513  More than half of India's languages may die in...   \n",
       "\n",
       "                                              read_more  \\\n",
       "4494  http://indiatoday.intoday.in/story/vijender-si...   \n",
       "4495  http://indiatoday.intoday.in/story/anil-kumble...   \n",
       "4496  http://indiatoday.intoday.in/story/amitabh-bac...   \n",
       "4497  http://indiatoday.intoday.in/story/bmc-electio...   \n",
       "4498  http://indiatoday.intoday.in/story/disha-patan...   \n",
       "4499  http://indiatoday.intoday.in/story/demonetisat...   \n",
       "4500  http://indiatoday.intoday.in/story/biz-models-...   \n",
       "4501  http://indiatoday.intoday.in/story/jolly-llb-2...   \n",
       "4502  http://indiatoday.intoday.in/story/baahubali-2...   \n",
       "4503  http://indiatoday.intoday.in/story/virat-kohli...   \n",
       "4504  http://indiatoday.intoday.in/story/kansas-city...   \n",
       "4505  http://indiatoday.intoday.in/story/uttar-prade...   \n",
       "4506  http://indiatoday.intoday.in/story/rangoon-mov...   \n",
       "4507  http://indiatoday.intoday.in/story/shiv-sena-w...   \n",
       "4508  http://indiatoday.intoday.in/story/tc-allegedl...   \n",
       "4509  http://indiatoday.intoday.in/story/rasna-eyes-...   \n",
       "4510  http://indiatoday.intoday.in/story/sachin-tend...   \n",
       "4511  http://www.hindustantimes.com/bollywood/secret...   \n",
       "4512  http://indiatoday.intoday.in/story/singer-asha...   \n",
       "4513  http://indiatoday.intoday.in/story/indian-lang...   \n",
       "\n",
       "                                                   text  \\\n",
       "4494  WBO Oriental Champion China's Zulpikar Maimait...   \n",
       "4495  Speaking about India's performance on Day 2 of...   \n",
       "4496  Amitabh Bachchan has turned down a rare invita...   \n",
       "4497  A day after a fractured verdict in the Brihanm...   \n",
       "4498  Actress Disha Patani, while responding to a pe...   \n",
       "4499  According to IMF's Asia and Pacific Department...   \n",
       "4500  Former Infosys CFO Mohandas Pai has said that ...   \n",
       "4501  With 'Jolly LLB 2' becoming actor Akshay Kumar...   \n",
       "4502  A new poster of the upcoming epic historical f...   \n",
       "4503  Indian captain Virat Kohli on Friday got out w...   \n",
       "4504  Srinivas Kunchubhotla (32), an Indian engineer...   \n",
       "4505  An investigation by India Today has unmasked a...   \n",
       "4506  The Kangana Ranaut, Shahid Kapoor and Saif Ali...   \n",
       "4507  After emerging as the single largest party in ...   \n",
       "4508  A ticket collector on Thursday allegedly bit o...   \n",
       "4509  Fruit juice concentrate maker Rasna is eyeing ...   \n",
       "4510  Former Indian cricketer Sachin Tendulkar atten...   \n",
       "4511  Aamir Khan, while talking about reality shows ...   \n",
       "4512  The Maharashtra government has initiated an in...   \n",
       "4513  At least 400 languages or more than half langu...   \n",
       "\n",
       "                                                  ctext  \n",
       "4494  WBO Oriental Champion Zulpikar Maimaitiali of ...  \n",
       "4495  India coach Anil Kumble gave a measured respon...  \n",
       "4496  Amitabh Bachchan will not be able to attend th...  \n",
       "4497  A day after the Brihanmumbai Municipal Corpora...  \n",
       "4498  Disha Patani's outfit at Filmfare Awards this ...  \n",
       "4499  From Lalit K Jha Washington, Feb 24 (PTI) Indi...  \n",
       "4500                                                NaN  \n",
       "4501  Akshay Kumar is on a roll these days. The 49-y...  \n",
       "4502  Be it the visuals or its core, SS Rajamouli's ...  \n",
       "4503  Virat Kohli, the most in-form batsman in world...  \n",
       "4504   The US Embassy in New Delhi has strongly cond...  \n",
       "4505  If some unscrupulous elements in the prostheti...  \n",
       "4506  Rangoon is a triangular love story set in the ...  \n",
       "4507  As uncertainty loomed large in the BMC polls d...  \n",
       "4508                                                NaN  \n",
       "4509  Mumbai, Feb 23 (PTI) Fruit juice concentrate m...  \n",
       "4510  Former cricketer Sachin Tendulkar was spotted ...  \n",
       "4511  Aamir Khan, whose last film Dangal told the st...  \n",
       "4512  Maharahstra Power Minister Chandrashekhar Bawa...  \n",
       "4513  More than half of the languages spoken by Indi...  "
      ]
     },
     "execution_count": 11,
     "metadata": {},
     "output_type": "execute_result"
    }
   ],
   "source": [
    "data.tail(20)"
   ]
  },
  {
   "cell_type": "code",
   "execution_count": 12,
   "metadata": {},
   "outputs": [
    {
     "name": "stdout",
     "output_type": "stream",
     "text": [
      "(4514, 6)\n"
     ]
    },
    {
     "data": {
      "text/plain": [
       "Index(['author', 'date', 'headlines', 'read_more', 'text', 'ctext'], dtype='object')"
      ]
     },
     "execution_count": 12,
     "metadata": {},
     "output_type": "execute_result"
    }
   ],
   "source": [
    "print(data.shape)\n",
    "data.columns"
   ]
  },
  {
   "cell_type": "code",
   "execution_count": null,
   "metadata": {},
   "outputs": [],
   "source": []
  },
  {
   "cell_type": "code",
   "execution_count": 13,
   "metadata": {},
   "outputs": [
    {
     "name": "stdout",
     "output_type": "stream",
     "text": [
      "author         0\n",
      "date           0\n",
      "headlines      0\n",
      "read_more      0\n",
      "text           0\n",
      "ctext        118\n",
      "dtype: int64\n"
     ]
    }
   ],
   "source": [
    "# 결측치 확인\n",
    "print(data.isna().sum())"
   ]
  },
  {
   "cell_type": "code",
   "execution_count": 14,
   "metadata": {},
   "outputs": [
    {
     "name": "stderr",
     "output_type": "stream",
     "text": [
      "Done! Use 'show' commands to display/save.   |██████████| [100%]   00:00 -> (00:00 left)\n"
     ]
    },
    {
     "name": "stdout",
     "output_type": "stream",
     "text": [
      "Report SWEETVIZ_REPORT.html was generated! NOTEBOOK/COLAB USERS: the web browser MAY not pop up, regardless, the report IS saved in your notebook/colab files.\n"
     ]
    }
   ],
   "source": [
    "#스위트 비즈로 확인하기\n",
    "import sweetviz as sv\n",
    "\n",
    "my_report = sv.analyze(data)\n",
    "my_report.show_html()"
   ]
  },
  {
   "cell_type": "code",
   "execution_count": 15,
   "metadata": {},
   "outputs": [
    {
     "name": "stderr",
     "output_type": "stream",
     "text": [
      "Summarize dataset: 100%|██████████| 20/20 [00:05<00:00,  3.81it/s, Completed]\n",
      "Generate report structure: 100%|██████████| 1/1 [00:00<00:00,  1.98it/s]\n",
      "Render HTML: 100%|██████████| 1/1 [00:00<00:00,  4.57it/s]\n",
      "Export report to file: 100%|██████████| 1/1 [00:00<00:00, 500.10it/s]\n"
     ]
    }
   ],
   "source": [
    "# 판다스 ProfileReport로 확인하기\n",
    "from pandas_profiling import ProfileReport\n",
    "\n",
    "profile = ProfileReport(data, title=\"Pandas Profiling Report\", explorative=True)\n",
    "# profile.to_notebook_iframe()\n",
    "profile.to_file(\"pandas-profiling-result.html\")"
   ]
  },
  {
   "cell_type": "code",
   "execution_count": 16,
   "metadata": {},
   "outputs": [
    {
     "data": {
      "text/plain": [
       "(4396, 6)"
      ]
     },
     "execution_count": 16,
     "metadata": {},
     "output_type": "execute_result"
    }
   ],
   "source": [
    "# 결측치 처리\n",
    "data = data.dropna()\n",
    "data.shape"
   ]
  },
  {
   "cell_type": "code",
   "execution_count": 17,
   "metadata": {},
   "outputs": [],
   "source": [
    "#데이터 드롭\n",
    "data = data.drop( columns = [\"author\", \"date\", \"read_more\"] )"
   ]
  },
  {
   "cell_type": "code",
   "execution_count": 18,
   "metadata": {},
   "outputs": [
    {
     "data": {
      "text/html": [
       "<div>\n",
       "<style scoped>\n",
       "    .dataframe tbody tr th:only-of-type {\n",
       "        vertical-align: middle;\n",
       "    }\n",
       "\n",
       "    .dataframe tbody tr th {\n",
       "        vertical-align: top;\n",
       "    }\n",
       "\n",
       "    .dataframe thead th {\n",
       "        text-align: right;\n",
       "    }\n",
       "</style>\n",
       "<table border=\"1\" class=\"dataframe\">\n",
       "  <thead>\n",
       "    <tr style=\"text-align: right;\">\n",
       "      <th></th>\n",
       "      <th>headlines</th>\n",
       "      <th>text</th>\n",
       "      <th>ctext</th>\n",
       "    </tr>\n",
       "  </thead>\n",
       "  <tbody>\n",
       "    <tr>\n",
       "      <th>0</th>\n",
       "      <td>Daman &amp; Diu revokes mandatory Rakshabandhan in...</td>\n",
       "      <td>The Administration of Union Territory Daman an...</td>\n",
       "      <td>The Daman and Diu administration on Wednesday ...</td>\n",
       "    </tr>\n",
       "    <tr>\n",
       "      <th>1</th>\n",
       "      <td>Malaika slams user who trolled her for 'divorc...</td>\n",
       "      <td>Malaika Arora slammed an Instagram user who tr...</td>\n",
       "      <td>From her special numbers to TV?appearances, Bo...</td>\n",
       "    </tr>\n",
       "    <tr>\n",
       "      <th>2</th>\n",
       "      <td>'Virgin' now corrected to 'Unmarried' in IGIMS...</td>\n",
       "      <td>The Indira Gandhi Institute of Medical Science...</td>\n",
       "      <td>The Indira Gandhi Institute of Medical Science...</td>\n",
       "    </tr>\n",
       "    <tr>\n",
       "      <th>3</th>\n",
       "      <td>Aaj aapne pakad liya: LeT man Dujana before be...</td>\n",
       "      <td>Lashkar-e-Taiba's Kashmir commander Abu Dujana...</td>\n",
       "      <td>Lashkar-e-Taiba's Kashmir commander Abu Dujana...</td>\n",
       "    </tr>\n",
       "    <tr>\n",
       "      <th>4</th>\n",
       "      <td>Hotel staff to get training to spot signs of s...</td>\n",
       "      <td>Hotels in Maharashtra will train their staff t...</td>\n",
       "      <td>Hotels in Mumbai and other Indian cities are t...</td>\n",
       "    </tr>\n",
       "  </tbody>\n",
       "</table>\n",
       "</div>"
      ],
      "text/plain": [
       "                                           headlines  \\\n",
       "0  Daman & Diu revokes mandatory Rakshabandhan in...   \n",
       "1  Malaika slams user who trolled her for 'divorc...   \n",
       "2  'Virgin' now corrected to 'Unmarried' in IGIMS...   \n",
       "3  Aaj aapne pakad liya: LeT man Dujana before be...   \n",
       "4  Hotel staff to get training to spot signs of s...   \n",
       "\n",
       "                                                text  \\\n",
       "0  The Administration of Union Territory Daman an...   \n",
       "1  Malaika Arora slammed an Instagram user who tr...   \n",
       "2  The Indira Gandhi Institute of Medical Science...   \n",
       "3  Lashkar-e-Taiba's Kashmir commander Abu Dujana...   \n",
       "4  Hotels in Maharashtra will train their staff t...   \n",
       "\n",
       "                                               ctext  \n",
       "0  The Daman and Diu administration on Wednesday ...  \n",
       "1  From her special numbers to TV?appearances, Bo...  \n",
       "2  The Indira Gandhi Institute of Medical Science...  \n",
       "3  Lashkar-e-Taiba's Kashmir commander Abu Dujana...  \n",
       "4  Hotels in Mumbai and other Indian cities are t...  "
      ]
     },
     "execution_count": 18,
     "metadata": {},
     "output_type": "execute_result"
    }
   ],
   "source": [
    "data.head()"
   ]
  },
  {
   "cell_type": "code",
   "execution_count": 19,
   "metadata": {},
   "outputs": [
    {
     "data": {
      "text/plain": [
       "0    The Administration of Union Territory Daman an...\n",
       "1    Malaika Arora slammed an Instagram user who tr...\n",
       "2    The Indira Gandhi Institute of Medical Science...\n",
       "3    Lashkar-e-Taiba's Kashmir commander Abu Dujana...\n",
       "4    Hotels in Maharashtra will train their staff t...\n",
       "5    A 32-year-old man on Wednesday was found hangi...\n",
       "6    The Delhi High Court reduced the compensation ...\n",
       "7    A 60-year old Dalit woman was allegedly lynche...\n",
       "8    An inquiry by the Aircraft Accident Investigat...\n",
       "9    The Congress party has opened a bank called 'S...\n",
       "Name: text, dtype: object"
      ]
     },
     "execution_count": 19,
     "metadata": {},
     "output_type": "execute_result"
    }
   ],
   "source": [
    "# text 데이터만 가져오기\n",
    "texts = data[\"text\"]\n",
    "texts[:10]"
   ]
  },
  {
   "cell_type": "code",
   "execution_count": 20,
   "metadata": {},
   "outputs": [
    {
     "data": {
      "text/plain": [
       "0    the administration of union territory daman an...\n",
       "1    malaika arora slammed an instagram user who tr...\n",
       "2    the indira gandhi institute of medical science...\n",
       "3    lashkar-e-taiba's kashmir commander abu dujana...\n",
       "4    hotels in maharashtra will train their staff t...\n",
       "5    a 32-year-old man on wednesday was found hangi...\n",
       "6    the delhi high court reduced the compensation ...\n",
       "7    a 60-year old dalit woman was allegedly lynche...\n",
       "8    an inquiry by the aircraft accident investigat...\n",
       "9    the congress party has opened a bank called 's...\n",
       "Name: text, dtype: object"
      ]
     },
     "execution_count": 20,
     "metadata": {},
     "output_type": "execute_result"
    }
   ],
   "source": [
    "# 불용어 처리위한 소문자화\n",
    "texts = texts.str.lower()\n",
    "texts[:10]"
   ]
  },
  {
   "cell_type": "code",
   "execution_count": 21,
   "metadata": {},
   "outputs": [
    {
     "name": "stderr",
     "output_type": "stream",
     "text": [
      "C:\\Users\\Public\\Documents\\ESTsoft\\CreatorTemp/ipykernel_10176/776463687.py:1: FutureWarning: The default value of regex will change from True to False in a future version.\n",
      "  texts = texts.str.replace(r\"[^a-zA-Z]\", \" \")\n"
     ]
    },
    {
     "data": {
      "text/plain": [
       "0    the administration of union territory daman an...\n",
       "1    malaika arora slammed an instagram user who tr...\n",
       "2    the indira gandhi institute of medical science...\n",
       "3    lashkar e taiba s kashmir commander abu dujana...\n",
       "4    hotels in maharashtra will train their staff t...\n",
       "5    a    year old man on wednesday was found hangi...\n",
       "6    the delhi high court reduced the compensation ...\n",
       "7    a    year old dalit woman was allegedly lynche...\n",
       "8    an inquiry by the aircraft accident investigat...\n",
       "9    the congress party has opened a bank called  s...\n",
       "Name: text, dtype: object"
      ]
     },
     "execution_count": 21,
     "metadata": {},
     "output_type": "execute_result"
    }
   ],
   "source": [
    "#특수문자 처리\n",
    "texts = texts.str.replace(r\"[^a-zA-Z]\", \" \")\n",
    "texts[:10]"
   ]
  },
  {
   "cell_type": "code",
   "execution_count": 22,
   "metadata": {},
   "outputs": [],
   "source": [
    "# 불용어 사전 소환\n",
    "from nltk.corpus import stopwords\n",
    "stop_words = set(stopwords.words(\"english\"))"
   ]
  },
  {
   "cell_type": "code",
   "execution_count": 23,
   "metadata": {},
   "outputs": [
    {
     "data": {
      "text/plain": [
       "0    administration union territory daman diu revok...\n",
       "1    malaika arora slammed instagram user trolled d...\n",
       "2    indira gandhi institute medical sciences igims...\n",
       "3    lashkar e taiba kashmir commander abu dujana k...\n",
       "4    hotels maharashtra train staff spot signs sex ...\n",
       "5    year old man wednesday found hanging inside wa...\n",
       "6    delhi high court reduced compensation awarded ...\n",
       "7    year old dalit woman allegedly lynched agra vi...\n",
       "8    inquiry aircraft accident investigation bureau...\n",
       "9    congress party opened bank called state bank t...\n",
       "Name: text, dtype: object"
      ]
     },
     "execution_count": 23,
     "metadata": {},
     "output_type": "execute_result"
    }
   ],
   "source": [
    "# 불용어 처리(apply는 데이터 프레임에서 사용 가능)\n",
    "texts = texts.apply(\n",
    "    lambda x : \" \".join(word for word in x.split() if word not in stop_words)\n",
    ")\n",
    "texts[:10]"
   ]
  },
  {
   "cell_type": "code",
   "execution_count": 24,
   "metadata": {},
   "outputs": [],
   "source": [
    "# 벡터화 시키기\n",
    "from sklearn.feature_extraction.text import TfidfVectorizer\n",
    "vectorizer = TfidfVectorizer()"
   ]
  },
  {
   "cell_type": "code",
   "execution_count": 25,
   "metadata": {},
   "outputs": [],
   "source": [
    "# 벡터화\n",
    "X = vectorizer.fit_transform(texts)"
   ]
  },
  {
   "cell_type": "code",
   "execution_count": 26,
   "metadata": {},
   "outputs": [
    {
     "data": {
      "text/plain": [
       "<4396x18417 sparse matrix of type '<class 'numpy.float64'>'\n",
       "\twith 134090 stored elements in Compressed Sparse Row format>"
      ]
     },
     "execution_count": 26,
     "metadata": {},
     "output_type": "execute_result"
    }
   ],
   "source": [
    "X"
   ]
  },
  {
   "cell_type": "code",
   "execution_count": 27,
   "metadata": {},
   "outputs": [],
   "source": [
    "# lda 모델 이용한 학습\n",
    "from sklearn.decomposition import LatentDirichletAllocation\n",
    "lda = LatentDirichletAllocation(n_components = 7, random_state = 42)"
   ]
  },
  {
   "cell_type": "code",
   "execution_count": 28,
   "metadata": {},
   "outputs": [
    {
     "data": {
      "text/plain": [
       "LatentDirichletAllocation(n_components=7, random_state=42)"
      ]
     },
     "execution_count": 28,
     "metadata": {},
     "output_type": "execute_result"
    }
   ],
   "source": [
    "# fit 시키기\n",
    "lda.fit(X)"
   ]
  },
  {
   "cell_type": "code",
   "execution_count": 37,
   "metadata": {},
   "outputs": [
    {
     "data": {
      "text/plain": [
       "18417"
      ]
     },
     "execution_count": 37,
     "metadata": {},
     "output_type": "execute_result"
    }
   ],
   "source": [
    "#단어들 길이 보기\n",
    "len(vectorizer.get_feature_names())"
   ]
  },
  {
   "cell_type": "code",
   "execution_count": 30,
   "metadata": {},
   "outputs": [
    {
     "name": "stdout",
     "output_type": "stream",
     "text": [
      "counsellor\n",
      "accuracy\n",
      "weird\n",
      "somerville\n",
      "party\n",
      "litres\n",
      "interests\n",
      "january\n",
      "janaillac\n",
      "sbi\n"
     ]
    }
   ],
   "source": [
    "#랜덤한 곳의 단어 보기\n",
    "#굳이 왜 하는지 모르겠음\n",
    "import random\n",
    "\n",
    "for i in range(10):\n",
    "    id = random.randint(0, len(vectorizer.get_feature_names()))\n",
    "    print(vectorizer.get_feature_names()[id])"
   ]
  },
  {
   "cell_type": "code",
   "execution_count": 31,
   "metadata": {},
   "outputs": [],
   "source": [
    "# R은 1-index langauge / Python은 0-index language\n",
    "cat3 = lda.components_[2]"
   ]
  },
  {
   "cell_type": "code",
   "execution_count": 32,
   "metadata": {},
   "outputs": [
    {
     "data": {
      "text/plain": [
       "array([0.14285792, 0.14285736, 0.14329667, ..., 0.14285733, 0.14285752,\n",
       "       0.16145157])"
      ]
     },
     "execution_count": 32,
     "metadata": {},
     "output_type": "execute_result"
    }
   ],
   "source": [
    "cat3"
   ]
  },
  {
   "cell_type": "code",
   "execution_count": 33,
   "metadata": {},
   "outputs": [
    {
     "data": {
      "text/plain": [
       "array([  206, 14747, 14085, 14226, 18297,   220,   204, 14194,  8769,\n",
       "        6028], dtype=int64)"
      ]
     },
     "execution_count": 33,
     "metadata": {},
     "output_type": "execute_result"
    }
   ],
   "source": [
    "top_words = cat3.argsort()[-10:]\n",
    "top_words"
   ]
  },
  {
   "cell_type": "code",
   "execution_count": 34,
   "metadata": {},
   "outputs": [
    {
     "name": "stdout",
     "output_type": "stream",
     "text": [
      "actress\n",
      "shah\n",
      "rukh\n",
      "salman\n",
      "year\n",
      "added\n",
      "actor\n",
      "said\n",
      "khan\n",
      "film\n"
     ]
    }
   ],
   "source": [
    "for i in top_words:\n",
    "    print(vectorizer.get_feature_names()[i])"
   ]
  },
  {
   "cell_type": "code",
   "execution_count": 35,
   "metadata": {},
   "outputs": [
    {
     "name": "stdout",
     "output_type": "stream",
     "text": [
      "Top 10 words for category #0:\n",
      "['year', 'also', 'minister', 'nadu', 'aiadmk', 'tamil', 'sasikala', 'police', 'added', 'said']\n",
      "\n",
      "\n",
      "Top 10 words for category #1:\n",
      "['delhi', 'added', 'year', 'police', 'minister', 'india', 'court', 'crore', 'government', 'said']\n",
      "\n",
      "\n",
      "Top 10 words for category #2:\n",
      "['actress', 'shah', 'rukh', 'salman', 'year', 'added', 'actor', 'said', 'khan', 'film']\n",
      "\n",
      "\n",
      "Top 10 words for category #3:\n",
      "['film', 'old', 'actress', 'encounter', 'also', 'added', 'police', 'jallikattu', 'year', 'said']\n",
      "\n",
      "\n",
      "Top 10 words for category #4:\n",
      "['added', 'wrote', 'old', 'year', 'government', 'police', 'film', 'india', 'delhi', 'said']\n",
      "\n",
      "\n",
      "Top 10 words for category #5:\n",
      "['chief', 'congress', 'government', 'court', 'delhi', 'minister', 'bjp', 'party', 'india', 'said']\n",
      "\n",
      "\n",
      "Top 10 words for category #6:\n",
      "['girl', 'woman', 'allegedly', 'man', 'accused', 'delhi', 'said', 'year', 'old', 'police']\n",
      "\n",
      "\n"
     ]
    }
   ],
   "source": [
    "# 카테고리별 높은 빈도수 10개 출력\n",
    "for i, cat in enumerate(lda.components_):\n",
    "    print(f\"Top 10 words for category #{i}:\")\n",
    "    print([ vectorizer.get_feature_names()[i] for i in cat.argsort()[-10:] ])\n",
    "    print(\"\\n\")"
   ]
  },
  {
   "cell_type": "code",
   "execution_count": 38,
   "metadata": {},
   "outputs": [
    {
     "data": {
      "text/plain": [
       "(4396, 7)"
      ]
     },
     "execution_count": 38,
     "metadata": {},
     "output_type": "execute_result"
    }
   ],
   "source": [
    "cat_values = lda.transform(X)\n",
    "cat_values.shape"
   ]
  },
  {
   "cell_type": "code",
   "execution_count": 39,
   "metadata": {},
   "outputs": [
    {
     "data": {
      "text/plain": [
       "array([[0.02277567, 0.86341541, 0.0227535 , 0.0227205 , 0.02273734,\n",
       "        0.02285729, 0.02274029],\n",
       "       [0.02241897, 0.02241037, 0.0224236 , 0.86562405, 0.02235187,\n",
       "        0.02243221, 0.02233892],\n",
       "       [0.02220969, 0.02220948, 0.0221585 , 0.02214487, 0.02216691,\n",
       "        0.86692486, 0.0221857 ],\n",
       "       [0.86771353, 0.02193697, 0.02191151, 0.02226047, 0.0219396 ,\n",
       "        0.02232452, 0.0219134 ],\n",
       "       [0.02226177, 0.86674605, 0.02216899, 0.02215371, 0.02215791,\n",
       "        0.02230217, 0.02220939],\n",
       "       [0.0237736 , 0.0237755 , 0.02373039, 0.02374577, 0.85736701,\n",
       "        0.02379948, 0.02380825],\n",
       "       [0.02424194, 0.02429781, 0.02423537, 0.18927074, 0.02431664,\n",
       "        0.5040313 , 0.2096062 ],\n",
       "       [0.85151933, 0.0247591 , 0.02470256, 0.02469239, 0.02468617,\n",
       "        0.02490073, 0.02473972],\n",
       "       [0.70907846, 0.02331438, 0.02328169, 0.023319  , 0.02330459,\n",
       "        0.17432118, 0.02338071],\n",
       "       [0.8485186 , 0.0253304 , 0.0252039 , 0.02519635, 0.02524047,\n",
       "        0.02530584, 0.02520444]])"
      ]
     },
     "execution_count": 39,
     "metadata": {},
     "output_type": "execute_result"
    }
   ],
   "source": [
    "cat_values[:10]"
   ]
  },
  {
   "cell_type": "code",
   "execution_count": 40,
   "metadata": {},
   "outputs": [
    {
     "data": {
      "text/plain": [
       "Index(['headlines', 'text', 'ctext'], dtype='object')"
      ]
     },
     "execution_count": 40,
     "metadata": {},
     "output_type": "execute_result"
    }
   ],
   "source": [
    "data.columns"
   ]
  },
  {
   "cell_type": "code",
   "execution_count": 42,
   "metadata": {},
   "outputs": [],
   "source": [
    "# 행을 기준으로 가장큰거 찾기\n",
    "# 그것을 카테고리로 만들기\n",
    "data[\"Category\"] = cat_values.argmax(axis = 1)"
   ]
  },
  {
   "cell_type": "code",
   "execution_count": 43,
   "metadata": {},
   "outputs": [
    {
     "data": {
      "text/plain": [
       "Index(['headlines', 'text', 'ctext', 'Category'], dtype='object')"
      ]
     },
     "execution_count": 43,
     "metadata": {},
     "output_type": "execute_result"
    }
   ],
   "source": [
    "data.columns"
   ]
  },
  {
   "cell_type": "code",
   "execution_count": 44,
   "metadata": {},
   "outputs": [
    {
     "data": {
      "text/html": [
       "<div>\n",
       "<style scoped>\n",
       "    .dataframe tbody tr th:only-of-type {\n",
       "        vertical-align: middle;\n",
       "    }\n",
       "\n",
       "    .dataframe tbody tr th {\n",
       "        vertical-align: top;\n",
       "    }\n",
       "\n",
       "    .dataframe thead th {\n",
       "        text-align: right;\n",
       "    }\n",
       "</style>\n",
       "<table border=\"1\" class=\"dataframe\">\n",
       "  <thead>\n",
       "    <tr style=\"text-align: right;\">\n",
       "      <th></th>\n",
       "      <th>headlines</th>\n",
       "      <th>text</th>\n",
       "      <th>ctext</th>\n",
       "      <th>Category</th>\n",
       "    </tr>\n",
       "  </thead>\n",
       "  <tbody>\n",
       "    <tr>\n",
       "      <th>0</th>\n",
       "      <td>Daman &amp; Diu revokes mandatory Rakshabandhan in...</td>\n",
       "      <td>The Administration of Union Territory Daman an...</td>\n",
       "      <td>The Daman and Diu administration on Wednesday ...</td>\n",
       "      <td>1</td>\n",
       "    </tr>\n",
       "    <tr>\n",
       "      <th>1</th>\n",
       "      <td>Malaika slams user who trolled her for 'divorc...</td>\n",
       "      <td>Malaika Arora slammed an Instagram user who tr...</td>\n",
       "      <td>From her special numbers to TV?appearances, Bo...</td>\n",
       "      <td>3</td>\n",
       "    </tr>\n",
       "    <tr>\n",
       "      <th>2</th>\n",
       "      <td>'Virgin' now corrected to 'Unmarried' in IGIMS...</td>\n",
       "      <td>The Indira Gandhi Institute of Medical Science...</td>\n",
       "      <td>The Indira Gandhi Institute of Medical Science...</td>\n",
       "      <td>5</td>\n",
       "    </tr>\n",
       "    <tr>\n",
       "      <th>3</th>\n",
       "      <td>Aaj aapne pakad liya: LeT man Dujana before be...</td>\n",
       "      <td>Lashkar-e-Taiba's Kashmir commander Abu Dujana...</td>\n",
       "      <td>Lashkar-e-Taiba's Kashmir commander Abu Dujana...</td>\n",
       "      <td>0</td>\n",
       "    </tr>\n",
       "    <tr>\n",
       "      <th>4</th>\n",
       "      <td>Hotel staff to get training to spot signs of s...</td>\n",
       "      <td>Hotels in Maharashtra will train their staff t...</td>\n",
       "      <td>Hotels in Mumbai and other Indian cities are t...</td>\n",
       "      <td>1</td>\n",
       "    </tr>\n",
       "  </tbody>\n",
       "</table>\n",
       "</div>"
      ],
      "text/plain": [
       "                                           headlines  \\\n",
       "0  Daman & Diu revokes mandatory Rakshabandhan in...   \n",
       "1  Malaika slams user who trolled her for 'divorc...   \n",
       "2  'Virgin' now corrected to 'Unmarried' in IGIMS...   \n",
       "3  Aaj aapne pakad liya: LeT man Dujana before be...   \n",
       "4  Hotel staff to get training to spot signs of s...   \n",
       "\n",
       "                                                text  \\\n",
       "0  The Administration of Union Territory Daman an...   \n",
       "1  Malaika Arora slammed an Instagram user who tr...   \n",
       "2  The Indira Gandhi Institute of Medical Science...   \n",
       "3  Lashkar-e-Taiba's Kashmir commander Abu Dujana...   \n",
       "4  Hotels in Maharashtra will train their staff t...   \n",
       "\n",
       "                                               ctext  Category  \n",
       "0  The Daman and Diu administration on Wednesday ...         1  \n",
       "1  From her special numbers to TV?appearances, Bo...         3  \n",
       "2  The Indira Gandhi Institute of Medical Science...         5  \n",
       "3  Lashkar-e-Taiba's Kashmir commander Abu Dujana...         0  \n",
       "4  Hotels in Mumbai and other Indian cities are t...         1  "
      ]
     },
     "execution_count": 44,
     "metadata": {},
     "output_type": "execute_result"
    }
   ],
   "source": [
    "data.head()"
   ]
  },
  {
   "cell_type": "code",
   "execution_count": null,
   "metadata": {},
   "outputs": [],
   "source": []
  }
 ],
 "metadata": {
  "interpreter": {
   "hash": "c0f2a156638663e52e3310a5b94cba9f1aaa2c6363cff10141cd0a597f3d9860"
  },
  "kernelspec": {
   "display_name": "Python 3.8.6rc1 64-bit ('nltk': venv)",
   "name": "python3"
  },
  "language_info": {
   "codemirror_mode": {
    "name": "ipython",
    "version": 3
   },
   "file_extension": ".py",
   "mimetype": "text/x-python",
   "name": "python",
   "nbconvert_exporter": "python",
   "pygments_lexer": "ipython3",
   "version": "3.8.6rc1"
  },
  "orig_nbformat": 4
 },
 "nbformat": 4,
 "nbformat_minor": 2
}
