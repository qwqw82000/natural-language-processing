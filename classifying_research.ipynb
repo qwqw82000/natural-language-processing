{
 "cells": [
  {
   "cell_type": "code",
   "execution_count": 3,
   "metadata": {},
   "outputs": [],
   "source": [
    "import numpy as np\n",
    "import pandas as pd\n",
    "import matplotlib.pyplot as plt\n",
    "import nltk"
   ]
  },
  {
   "cell_type": "code",
   "execution_count": 4,
   "metadata": {},
   "outputs": [],
   "source": [
    "data = pd.read_csv(\"article_train.csv\")"
   ]
  },
  {
   "cell_type": "code",
   "execution_count": 5,
   "metadata": {},
   "outputs": [
    {
     "data": {
      "text/html": [
       "<div>\n",
       "<style scoped>\n",
       "    .dataframe tbody tr th:only-of-type {\n",
       "        vertical-align: middle;\n",
       "    }\n",
       "\n",
       "    .dataframe tbody tr th {\n",
       "        vertical-align: top;\n",
       "    }\n",
       "\n",
       "    .dataframe thead th {\n",
       "        text-align: right;\n",
       "    }\n",
       "</style>\n",
       "<table border=\"1\" class=\"dataframe\">\n",
       "  <thead>\n",
       "    <tr style=\"text-align: right;\">\n",
       "      <th></th>\n",
       "      <th>ID</th>\n",
       "      <th>TITLE</th>\n",
       "      <th>ABSTRACT</th>\n",
       "      <th>Computer Science</th>\n",
       "      <th>Physics</th>\n",
       "      <th>Mathematics</th>\n",
       "      <th>Statistics</th>\n",
       "      <th>Quantitative Biology</th>\n",
       "      <th>Quantitative Finance</th>\n",
       "    </tr>\n",
       "  </thead>\n",
       "  <tbody>\n",
       "    <tr>\n",
       "      <th>0</th>\n",
       "      <td>1</td>\n",
       "      <td>Reconstructing Subject-Specific Effect Maps</td>\n",
       "      <td>Predictive models allow subject-specific inf...</td>\n",
       "      <td>1</td>\n",
       "      <td>0</td>\n",
       "      <td>0</td>\n",
       "      <td>0</td>\n",
       "      <td>0</td>\n",
       "      <td>0</td>\n",
       "    </tr>\n",
       "    <tr>\n",
       "      <th>1</th>\n",
       "      <td>2</td>\n",
       "      <td>Rotation Invariance Neural Network</td>\n",
       "      <td>Rotation invariance and translation invarian...</td>\n",
       "      <td>1</td>\n",
       "      <td>0</td>\n",
       "      <td>0</td>\n",
       "      <td>0</td>\n",
       "      <td>0</td>\n",
       "      <td>0</td>\n",
       "    </tr>\n",
       "    <tr>\n",
       "      <th>2</th>\n",
       "      <td>3</td>\n",
       "      <td>Spherical polyharmonics and Poisson kernels fo...</td>\n",
       "      <td>We introduce and develop the notion of spher...</td>\n",
       "      <td>0</td>\n",
       "      <td>0</td>\n",
       "      <td>1</td>\n",
       "      <td>0</td>\n",
       "      <td>0</td>\n",
       "      <td>0</td>\n",
       "    </tr>\n",
       "    <tr>\n",
       "      <th>3</th>\n",
       "      <td>4</td>\n",
       "      <td>A finite element approximation for the stochas...</td>\n",
       "      <td>The stochastic Landau--Lifshitz--Gilbert (LL...</td>\n",
       "      <td>0</td>\n",
       "      <td>0</td>\n",
       "      <td>1</td>\n",
       "      <td>0</td>\n",
       "      <td>0</td>\n",
       "      <td>0</td>\n",
       "    </tr>\n",
       "    <tr>\n",
       "      <th>4</th>\n",
       "      <td>5</td>\n",
       "      <td>Comparative study of Discrete Wavelet Transfor...</td>\n",
       "      <td>Fourier-transform infra-red (FTIR) spectra o...</td>\n",
       "      <td>1</td>\n",
       "      <td>0</td>\n",
       "      <td>0</td>\n",
       "      <td>1</td>\n",
       "      <td>0</td>\n",
       "      <td>0</td>\n",
       "    </tr>\n",
       "  </tbody>\n",
       "</table>\n",
       "</div>"
      ],
      "text/plain": [
       "   ID                                              TITLE  \\\n",
       "0   1        Reconstructing Subject-Specific Effect Maps   \n",
       "1   2                 Rotation Invariance Neural Network   \n",
       "2   3  Spherical polyharmonics and Poisson kernels fo...   \n",
       "3   4  A finite element approximation for the stochas...   \n",
       "4   5  Comparative study of Discrete Wavelet Transfor...   \n",
       "\n",
       "                                            ABSTRACT  Computer Science  \\\n",
       "0    Predictive models allow subject-specific inf...                 1   \n",
       "1    Rotation invariance and translation invarian...                 1   \n",
       "2    We introduce and develop the notion of spher...                 0   \n",
       "3    The stochastic Landau--Lifshitz--Gilbert (LL...                 0   \n",
       "4    Fourier-transform infra-red (FTIR) spectra o...                 1   \n",
       "\n",
       "   Physics  Mathematics  Statistics  Quantitative Biology  \\\n",
       "0        0            0           0                     0   \n",
       "1        0            0           0                     0   \n",
       "2        0            1           0                     0   \n",
       "3        0            1           0                     0   \n",
       "4        0            0           1                     0   \n",
       "\n",
       "   Quantitative Finance  \n",
       "0                     0  \n",
       "1                     0  \n",
       "2                     0  \n",
       "3                     0  \n",
       "4                     0  "
      ]
     },
     "execution_count": 5,
     "metadata": {},
     "output_type": "execute_result"
    }
   ],
   "source": [
    "data.head()"
   ]
  },
  {
   "cell_type": "code",
   "execution_count": 6,
   "metadata": {},
   "outputs": [
    {
     "name": "stdout",
     "output_type": "stream",
     "text": [
      "(20972, 9)\n"
     ]
    }
   ],
   "source": [
    "print(data.shape)"
   ]
  },
  {
   "cell_type": "code",
   "execution_count": 7,
   "metadata": {},
   "outputs": [
    {
     "name": "stdout",
     "output_type": "stream",
     "text": [
      "Index(['ID', 'TITLE', 'ABSTRACT', 'Computer Science', 'Physics', 'Mathematics',\n",
      "       'Statistics', 'Quantitative Biology', 'Quantitative Finance'],\n",
      "      dtype='object')\n"
     ]
    }
   ],
   "source": [
    "print(data.columns)"
   ]
  },
  {
   "cell_type": "code",
   "execution_count": 8,
   "metadata": {},
   "outputs": [],
   "source": [
    "#컬럼중 'ID'값 제거\n",
    "data = data[ ['TITLE', 'ABSTRACT', 'Computer Science', 'Physics', 'Mathematics',\n",
    "       'Statistics', 'Quantitative Biology', 'Quantitative Finance'] ]"
   ]
  },
  {
   "cell_type": "code",
   "execution_count": 9,
   "metadata": {},
   "outputs": [
    {
     "name": "stdout",
     "output_type": "stream",
     "text": [
      "Index(['TITLE', 'ABSTRACT', 'Computer Science', 'Physics', 'Mathematics',\n",
      "       'Statistics', 'Quantitative Biology', 'Quantitative Finance'],\n",
      "      dtype='object')\n",
      "(20972, 8)\n"
     ]
    }
   ],
   "source": [
    "print(data.columns)\n",
    "print(data.shape)"
   ]
  },
  {
   "cell_type": "code",
   "execution_count": 10,
   "metadata": {},
   "outputs": [],
   "source": [
    "# axis = 1은 열을 기준으로, axis = 0은 행을 기준으로 제거한다\n",
    "topics = data.drop(\n",
    "    [\"TITLE\",\"ABSTRACT\"],axis  = 1\n",
    ")"
   ]
  },
  {
   "cell_type": "code",
   "execution_count": 11,
   "metadata": {},
   "outputs": [
    {
     "name": "stdout",
     "output_type": "stream",
     "text": [
      "Index(['Computer Science', 'Physics', 'Mathematics', 'Statistics',\n",
      "       'Quantitative Biology', 'Quantitative Finance'],\n",
      "      dtype='object')\n",
      "(20972, 6)\n"
     ]
    }
   ],
   "source": [
    "print(topics.columns)\n",
    "print(topics.shape)"
   ]
  },
  {
   "cell_type": "code",
   "execution_count": 12,
   "metadata": {},
   "outputs": [
    {
     "data": {
      "text/plain": [
       "(Index(['Computer Science', 'Physics', 'Mathematics', 'Statistics',\n",
       "        'Quantitative Biology', 'Quantitative Finance'],\n",
       "       dtype='object'),\n",
       " pandas.core.indexes.base.Index)"
      ]
     },
     "execution_count": 12,
     "metadata": {},
     "output_type": "execute_result"
    }
   ],
   "source": [
    "t_name = topics.columns\n",
    "t_name,type(t_name)"
   ]
  },
  {
   "cell_type": "code",
   "execution_count": 13,
   "metadata": {},
   "outputs": [
    {
     "data": {
      "text/plain": [
       "(list,\n",
       " ['Computer Science',\n",
       "  'Physics',\n",
       "  'Mathematics',\n",
       "  'Statistics',\n",
       "  'Quantitative Biology',\n",
       "  'Quantitative Finance'])"
      ]
     },
     "execution_count": 13,
     "metadata": {},
     "output_type": "execute_result"
    }
   ],
   "source": [
    "#컬럼을 리스트로 변환\n",
    "t_name = topics.columns.tolist()\n",
    "type(t_name),t_name"
   ]
  },
  {
   "cell_type": "code",
   "execution_count": 14,
   "metadata": {},
   "outputs": [
    {
     "data": {
      "text/plain": [
       "(0        1\n",
       " 1        1\n",
       " 2        0\n",
       " 3        0\n",
       " 4        1\n",
       "         ..\n",
       " 20967    1\n",
       " 20968    0\n",
       " 20969    1\n",
       " 20970    0\n",
       " 20971    0\n",
       " Name: Computer Science, Length: 20972, dtype: int64,\n",
       " pandas.core.series.Series)"
      ]
     },
     "execution_count": 14,
     "metadata": {},
     "output_type": "execute_result"
    }
   ],
   "source": [
    "#타입은 시리즈이다(판다스에서 사용)\n",
    "topics[\"Computer Science\"], type(topics[\"Computer Science\"])"
   ]
  },
  {
   "cell_type": "code",
   "execution_count": 15,
   "metadata": {},
   "outputs": [
    {
     "data": {
      "text/plain": [
       "(0        0\n",
       " 1        0\n",
       " 2        0\n",
       " 3        0\n",
       " 4        0\n",
       "         ..\n",
       " 20967    1\n",
       " 20968    1\n",
       " 20969    0\n",
       " 20970    0\n",
       " 20971    0\n",
       " Name: Physics, Length: 20972, dtype: int64,\n",
       " 6013)"
      ]
     },
     "execution_count": 15,
     "metadata": {},
     "output_type": "execute_result"
    }
   ],
   "source": [
    "#\"Physics\"의 개수 구하기\n",
    "topics[\"Physics\"], topics[\"Physics\"].sum()"
   ]
  },
  {
   "cell_type": "code",
   "execution_count": 16,
   "metadata": {},
   "outputs": [
    {
     "data": {
      "text/plain": [
       "['Computer Science',\n",
       " 'Physics',\n",
       " 'Mathematics',\n",
       " 'Statistics',\n",
       " 'Quantitative Biology',\n",
       " 'Quantitative Finance']"
      ]
     },
     "execution_count": 16,
     "metadata": {},
     "output_type": "execute_result"
    }
   ],
   "source": [
    "t_name"
   ]
  },
  {
   "cell_type": "code",
   "execution_count": 17,
   "metadata": {},
   "outputs": [],
   "source": [
    "t_counts = []"
   ]
  },
  {
   "cell_type": "code",
   "execution_count": 18,
   "metadata": {},
   "outputs": [
    {
     "name": "stdout",
     "output_type": "stream",
     "text": [
      "Computer Science 8594\n",
      "Physics 6013\n",
      "Mathematics 5618\n",
      "Statistics 5206\n",
      "Quantitative Biology 587\n",
      "Quantitative Finance 249\n"
     ]
    }
   ],
   "source": [
    "for i in t_name:\n",
    "    print(i, topics[i].sum())"
   ]
  },
  {
   "cell_type": "code",
   "execution_count": 19,
   "metadata": {},
   "outputs": [
    {
     "data": {
      "text/plain": [
       "[('Computer Science', 8594),\n",
       " ('Physics', 6013),\n",
       " ('Mathematics', 5618),\n",
       " ('Statistics', 5206),\n",
       " ('Quantitative Biology', 587),\n",
       " ('Quantitative Finance', 249)]"
      ]
     },
     "execution_count": 19,
     "metadata": {},
     "output_type": "execute_result"
    }
   ],
   "source": [
    "#각각 컬럼의 합계를 구해서 t_counts에 저장\n",
    "for i in t_name:\n",
    "    t_counts.append((i, topics[i].sum()))\n",
    "t_counts"
   ]
  },
  {
   "cell_type": "code",
   "execution_count": 20,
   "metadata": {},
   "outputs": [],
   "source": [
    "t_stats = pd.DataFrame(t_counts, columns= [\"topic\",\"number_of_publications\"])"
   ]
  },
  {
   "cell_type": "code",
   "execution_count": 21,
   "metadata": {},
   "outputs": [
    {
     "data": {
      "text/plain": [
       "(pandas.core.frame.DataFrame,\n",
       "                   topic  number_of_publications\n",
       " 0      Computer Science                    8594\n",
       " 1               Physics                    6013\n",
       " 2           Mathematics                    5618\n",
       " 3            Statistics                    5206\n",
       " 4  Quantitative Biology                     587\n",
       " 5  Quantitative Finance                     249)"
      ]
     },
     "execution_count": 21,
     "metadata": {},
     "output_type": "execute_result"
    }
   ],
   "source": [
    "type(t_stats), t_stats"
   ]
  },
  {
   "cell_type": "code",
   "execution_count": 31,
   "metadata": {},
   "outputs": [
    {
     "data": {
      "text/plain": [
       "Text(0.5, 0, 'Topics')"
      ]
     },
     "execution_count": 31,
     "metadata": {},
     "output_type": "execute_result"
    },
    {
     "data": {
      "image/png": "[encoded data removed]",
      "text/plain": [
       "<Figure size 576x504 with 1 Axes>"
      ]
     },
     "metadata": {
      "needs_background": "light"
     },
     "output_type": "display_data"
    }
   ],
   "source": [
    "# x축을 topic으로 그에 해당하는 y를 number_of_publications로 정하고 그래프의 형태는 bar\n",
    "# legend는 범례이고 사이즈는 8,7로 만든다.\n",
    "# 이름은 각각 Number of publications, Topics로 만든다.\n",
    "\n",
    "t_stats.plot(x = \"topic\", y = \"number_of_publications\", kind = \"bar\", legend = True, figsize = (8, 7))\n",
    "plt.ylabel(\"Number of publications\")\n",
    "plt.xlabel(\"Topics\")"
   ]
  },
  {
   "cell_type": "code",
   "execution_count": 26,
   "metadata": {},
   "outputs": [
    {
     "name": "stdout",
     "output_type": "stream",
     "text": [
      "0        1\n",
      "1        1\n",
      "2        1\n",
      "3        1\n",
      "4        2\n",
      "        ..\n",
      "20967    2\n",
      "20968    1\n",
      "20969    1\n",
      "20970    2\n",
      "20971    2\n",
      "Length: 20972, dtype: int64\n"
     ]
    },
    {
     "name": "stderr",
     "output_type": "stream",
     "text": [
      "C:\\Users\\Public\\Documents\\ESTsoft\\CreatorTemp/ipykernel_17524/1595966583.py:1: FutureWarning: Dropping of nuisance columns in DataFrame reductions (with 'numeric_only=None') is deprecated; in a future version this will raise TypeError.  Select only valid columns before calling the reduction.\n",
      "  num_multilabel = data.sum(axis =1)\n"
     ]
    }
   ],
   "source": [
    "# .sum()에서 axis가 0이면 열을 기준으로 합계를 구해주고 axis가 1이면 행을 기준으로 합계를 구해준다.\n",
    "# 여기서는 행을 기준으로 합계를 구해야 멀티 라벨을 찾을 수 있으니 axis 1을 적어주면 된다.\n",
    "\n",
    "num_multilabel = data.sum(axis =1)\n",
    "print(num_multilabel)"
   ]
  },
  {
   "cell_type": "code",
   "execution_count": 27,
   "metadata": {},
   "outputs": [
    {
     "name": "stdout",
     "output_type": "stream",
     "text": [
      "Number of multilabel :  5044\n"
     ]
    }
   ],
   "source": [
    "# 라벨링이 두개 이상 된거 개수 확인하기\n",
    "count = 0\n",
    "for i in num_multilabel.to_list():\n",
    "    if i > 1:\n",
    "        count += 1\n",
    "print(\"Number of multilabel : \", count)"
   ]
  },
  {
   "cell_type": "code",
   "execution_count": 32,
   "metadata": {},
   "outputs": [],
   "source": [
    "#데이터프레임에서 요약만 뽑아오기\n",
    "abstracts = data[\"ABSTRACT\"]"
   ]
  },
  {
   "cell_type": "code",
   "execution_count": 33,
   "metadata": {},
   "outputs": [
    {
     "data": {
      "text/plain": [
       "(pandas.core.series.Series, (20972,))"
      ]
     },
     "execution_count": 33,
     "metadata": {},
     "output_type": "execute_result"
    }
   ],
   "source": [
    "type(abstracts), abstracts.shape"
   ]
  },
  {
   "cell_type": "code",
   "execution_count": 35,
   "metadata": {},
   "outputs": [
    {
     "name": "stdout",
     "output_type": "stream",
     "text": [
      "0      Predictive models allow subject-specific inf...\n",
      "1      Rotation invariance and translation invarian...\n",
      "2      We introduce and develop the notion of spher...\n",
      "3      The stochastic Landau--Lifshitz--Gilbert (LL...\n",
      "4      Fourier-transform infra-red (FTIR) spectra o...\n",
      "5      Let $\\Omega \\subset \\mathbb{R}^n$ be a bound...\n",
      "6      We observed the newly discovered hyperbolic ...\n",
      "7      The ability of metallic nanoparticles to sup...\n",
      "8      We model large-scale ($\\approx$2000km) impac...\n",
      "9      Time varying susceptibility of host at indiv...\n",
      "Name: ABSTRACT, dtype: object\n"
     ]
    }
   ],
   "source": [
    "print(abstracts[:10])"
   ]
  },
  {
   "cell_type": "code",
   "execution_count": 36,
   "metadata": {},
   "outputs": [
    {
     "name": "stderr",
     "output_type": "stream",
     "text": [
      "C:\\Users\\Public\\Documents\\ESTsoft\\CreatorTemp/ipykernel_17524/2693387634.py:2: FutureWarning: The default value of regex will change from True to False in a future version.\n",
      "  abstracts = abstracts.str.replace(r\"[^A-Za-z]\",\" \")\n"
     ]
    }
   ],
   "source": [
    "# 위에 특수 문자들 제거\n",
    "abstracts = abstracts.str.replace(r\"[^A-Za-z]\",\" \")"
   ]
  },
  {
   "cell_type": "code",
   "execution_count": 37,
   "metadata": {},
   "outputs": [
    {
     "name": "stdout",
     "output_type": "stream",
     "text": [
      "0      Predictive models allow subject specific inf...\n",
      "1      Rotation invariance and translation invarian...\n",
      "2      We introduce and develop the notion of spher...\n",
      "3      The stochastic Landau  Lifshitz  Gilbert  LL...\n",
      "4      Fourier transform infra red  FTIR  spectra o...\n",
      "5      Let   Omega  subset  mathbb R  n  be a bound...\n",
      "6      We observed the newly discovered hyperbolic ...\n",
      "7      The ability of metallic nanoparticles to sup...\n",
      "8      We model large scale    approx     km  impac...\n",
      "9      Time varying susceptibility of host at indiv...\n",
      "Name: ABSTRACT, dtype: object\n"
     ]
    }
   ],
   "source": [
    "print(abstracts[:10])"
   ]
  },
  {
   "cell_type": "code",
   "execution_count": 38,
   "metadata": {},
   "outputs": [],
   "source": [
    "#소문자화\n",
    "abstracts = abstracts.str.lower()"
   ]
  },
  {
   "cell_type": "code",
   "execution_count": 39,
   "metadata": {},
   "outputs": [
    {
     "name": "stdout",
     "output_type": "stream",
     "text": [
      "0      predictive models allow subject specific inf...\n",
      "1      rotation invariance and translation invarian...\n",
      "2      we introduce and develop the notion of spher...\n",
      "3      the stochastic landau  lifshitz  gilbert  ll...\n",
      "4      fourier transform infra red  ftir  spectra o...\n",
      "5      let   omega  subset  mathbb r  n  be a bound...\n",
      "6      we observed the newly discovered hyperbolic ...\n",
      "7      the ability of metallic nanoparticles to sup...\n",
      "8      we model large scale    approx     km  impac...\n",
      "9      time varying susceptibility of host at indiv...\n",
      "Name: ABSTRACT, dtype: object\n"
     ]
    }
   ],
   "source": [
    "print(abstracts[:10])"
   ]
  },
  {
   "cell_type": "code",
   "execution_count": 40,
   "metadata": {},
   "outputs": [],
   "source": [
    "#불용어 처리\n",
    "from nltk.corpus import stopwords"
   ]
  },
  {
   "cell_type": "code",
   "execution_count": 42,
   "metadata": {},
   "outputs": [
    {
     "name": "stdout",
     "output_type": "stream",
     "text": [
      "{'myself', \"haven't\", 'its', 'mustn', 'own', 'during', 'haven', \"wasn't\", 'what', 'into', \"should've\", 'under', 'his', 'so', 'against', 'few', \"doesn't\", 'my', 'because', 'same', 'didn', 'is', 'between', 'needn', 'had', 'at', 'ours', 'here', \"you've\", \"shouldn't\", 'each', 'who', 'but', \"she's\", 'just', 'the', 'by', 'over', 'most', 'm', 'from', 'shan', \"that'll\", 'was', 'where', 'did', 'being', 'doing', 'an', 'all', 'we', 'll', \"hadn't\", 'been', 'it', 'her', 'do', 'no', 'they', 'he', 'those', 'i', 'any', 'their', 'only', 'which', 's', 'them', 'don', 'ma', \"you're\", 've', 'y', 'than', 'down', 'couldn', 'some', 'aren', 'be', \"wouldn't\", \"couldn't\", 'again', \"won't\", \"mightn't\", 'above', 'now', 'that', 'will', 'me', \"isn't\", 'has', 'having', 'in', 'of', 'o', \"needn't\", 'should', 'very', 'until', 'you', 'does', 'then', 'with', 'through', 'him', 'whom', 'not', \"weren't\", 'hers', 'ain', 'while', \"shan't\", 'ourselves', 'for', 'themselves', 'and', 'if', 'both', 'can', 'too', 'about', 'nor', 'won', 'wasn', 'yours', 'she', 'mightn', 'how', 'itself', \"it's\", 're', 'your', 'hasn', 'shouldn', 'these', 'herself', 'out', 'below', 'or', \"hasn't\", 'to', 'yourselves', 'a', 'other', 'doesn', 't', 'before', 'weren', 'were', 'as', 'theirs', \"didn't\", 'our', 'once', 'are', 'd', 'off', \"don't\", 'more', \"you'll\", 'there', 'isn', 'hadn', 'up', \"aren't\", 'yourself', 'this', \"you'd\", 'on', 'such', 'after', 'wouldn', 'himself', 'have', 'am', \"mustn't\", 'further', 'when', 'why'}\n"
     ]
    },
    {
     "data": {
      "text/plain": [
       "(set, None)"
      ]
     },
     "execution_count": 42,
     "metadata": {},
     "output_type": "execute_result"
    }
   ],
   "source": [
    "stop_words = set(stopwords.words(\"english\"))\n",
    "type(stop_words), print(stop_words)"
   ]
  },
  {
   "cell_type": "code",
   "execution_count": 45,
   "metadata": {},
   "outputs": [],
   "source": [
    "# 람다 식을 이용한 불용어 처리\n",
    "# 띄어쓰기를 기준으로 단어를 나눴으니 \" \".join으로 처리한다\n",
    "abstracts = abstracts.apply(\n",
    "    lambda x: \" \".join(word for word in x.split() if word not in stop_words)\n",
    ")"
   ]
  },
  {
   "cell_type": "code",
   "execution_count": 46,
   "metadata": {},
   "outputs": [
    {
     "name": "stdout",
     "output_type": "stream",
     "text": [
      "0    predictive models allow subject specific infer...\n",
      "1    rotation invariance translation invariance gre...\n",
      "2    introduce develop notion spherical polyharmoni...\n",
      "3    stochastic landau lifshitz gilbert llg equatio...\n",
      "4    fourier transform infra red ftir spectra sampl...\n",
      "5    let omega subset mathbb r n bounded domain sat...\n",
      "6    observed newly discovered hyperbolic minor pla...\n",
      "7    ability metallic nanoparticles supply heat liq...\n",
      "8    model large scale approx km impacts mars like ...\n",
      "9    time varying susceptibility host individual le...\n",
      "Name: ABSTRACT, dtype: object\n"
     ]
    }
   ],
   "source": [
    "# 불용어 처리한 abstracts\n",
    "print(abstracts[:10])"
   ]
  },
  {
   "cell_type": "code",
   "execution_count": 47,
   "metadata": {},
   "outputs": [],
   "source": [
    "# 단어의 원래 뜻 찾기 stemming(어근)\n",
    "ps = nltk.PorterStemmer()\n",
    "abstracts = abstracts.apply(\n",
    "    lambda x: \" \".join(ps.stem(word) for word in x.split())\n",
    ")\n"
   ]
  },
  {
   "cell_type": "code",
   "execution_count": 48,
   "metadata": {},
   "outputs": [
    {
     "name": "stdout",
     "output_type": "stream",
     "text": [
      "0    predict model allow subject specif infer analy...\n",
      "1    rotat invari translat invari great valu imag r...\n",
      "2    introduc develop notion spheric polyharmon nat...\n",
      "3    stochast landau lifshitz gilbert llg equat cou...\n",
      "4    fourier transform infra red ftir spectra sampl...\n",
      "5    let omega subset mathbb r n bound domain satis...\n",
      "6    observ newli discov hyperbol minor planet oumu...\n",
      "7    abil metal nanoparticl suppli heat liquid envi...\n",
      "8    model larg scale approx km impact mar like pla...\n",
      "9    time vari suscept host individu level due wane...\n",
      "Name: ABSTRACT, dtype: object\n"
     ]
    }
   ],
   "source": [
    "print(abstracts[:10])"
   ]
  },
  {
   "cell_type": "code",
   "execution_count": 55,
   "metadata": {},
   "outputs": [],
   "source": [
    "from sklearn.feature_extraction.text import TfidfVectorizer\n",
    "vectorizer = TfidfVectorizer()"
   ]
  },
  {
   "cell_type": "code",
   "execution_count": 56,
   "metadata": {},
   "outputs": [],
   "source": [
    "X = vectorizer.fit_transform(abstracts)"
   ]
  },
  {
   "cell_type": "code",
   "execution_count": 58,
   "metadata": {},
   "outputs": [
    {
     "data": {
      "text/plain": [
       "(scipy.sparse.csr.csr_matrix, (20972, 34201))"
      ]
     },
     "execution_count": 58,
     "metadata": {},
     "output_type": "execute_result"
    }
   ],
   "source": [
    "type(X),X.shape"
   ]
  },
  {
   "cell_type": "code",
   "execution_count": null,
   "metadata": {},
   "outputs": [],
   "source": [
    "print(vectorizer.get_feature_names())"
   ]
  },
  {
   "cell_type": "code",
   "execution_count": 61,
   "metadata": {},
   "outputs": [
    {
     "name": "stdout",
     "output_type": "stream",
     "text": [
      "[[0. 0. 0. ... 0. 0. 0.]\n",
      " [0. 0. 0. ... 0. 0. 0.]\n",
      " [0. 0. 0. ... 0. 0. 0.]\n",
      " ...\n",
      " [0. 0. 0. ... 0. 0. 0.]\n",
      " [0. 0. 0. ... 0. 0. 0.]\n",
      " [0. 0. 0. ... 0. 0. 0.]]\n",
      "(20972, 34201)\n"
     ]
    },
    {
     "data": {
      "text/plain": [
       "(None, None)"
      ]
     },
     "execution_count": 61,
     "metadata": {},
     "output_type": "execute_result"
    }
   ],
   "source": [
    "print(X.toarray()), print(X.toarray().shape)"
   ]
  },
  {
   "cell_type": "code",
   "execution_count": 63,
   "metadata": {},
   "outputs": [
    {
     "name": "stdout",
     "output_type": "stream",
     "text": [
      "[[1 0 0 0 0 0]\n",
      " [1 0 0 0 0 0]\n",
      " [0 0 1 0 0 0]\n",
      " ...\n",
      " [1 0 0 0 0 0]\n",
      " [0 0 1 1 0 0]\n",
      " [0 0 1 1 0 0]]\n"
     ]
    }
   ],
   "source": [
    "y= np.array(topics)\n",
    "print(y)"
   ]
  },
  {
   "cell_type": "code",
   "execution_count": 64,
   "metadata": {},
   "outputs": [
    {
     "name": "stdout",
     "output_type": "stream",
     "text": [
      "Collecting imbalanced-learn\n",
      "  Downloading imbalanced_learn-0.8.1-py3-none-any.whl (189 kB)\n",
      "Requirement already satisfied: joblib>=0.11 in d:\\git\\study\\nltk\\nltk\\lib\\site-packages (from imbalanced-learn) (1.1.0)\n",
      "Requirement already satisfied: scikit-learn>=0.24 in d:\\git\\study\\nltk\\nltk\\lib\\site-packages (from imbalanced-learn) (1.0)\n",
      "Requirement already satisfied: scipy>=0.19.1 in d:\\git\\study\\nltk\\nltk\\lib\\site-packages (from imbalanced-learn) (1.7.1)\n",
      "Requirement already satisfied: numpy>=1.13.3 in d:\\git\\study\\nltk\\nltk\\lib\\site-packages (from imbalanced-learn) (1.21.2)\n",
      "Requirement already satisfied: threadpoolctl>=2.0.0 in d:\\git\\study\\nltk\\nltk\\lib\\site-packages (from scikit-learn>=0.24->imbalanced-learn) (3.0.0)\n",
      "Installing collected packages: imbalanced-learn\n",
      "Successfully installed imbalanced-learn-0.8.1\n"
     ]
    },
    {
     "name": "stderr",
     "output_type": "stream",
     "text": [
      "WARNING: You are using pip version 20.2.1; however, version 21.3 is available.\n",
      "You should consider upgrading via the 'd:\\git\\study\\nltk\\nltk\\scripts\\python.exe -m pip install --upgrade pip' command.\n"
     ]
    }
   ],
   "source": [
    "!pip install imbalanced-learn"
   ]
  },
  {
   "cell_type": "code",
   "execution_count": 65,
   "metadata": {},
   "outputs": [],
   "source": [
    "# 이부분은 오류가 났으나 해결을 못한 부분임\n",
    "import imblearn\n",
    "from imblearn.over_sampling import RandomOverSampler"
   ]
  },
  {
   "cell_type": "code",
   "execution_count": 66,
   "metadata": {},
   "outputs": [],
   "source": [
    "# 이부분은 오류가 났으나 해결을 못한 부분임\n",
    "oversample = RandomOverSampler(sampling_strategy= \"not majority\")"
   ]
  },
  {
   "cell_type": "code",
   "execution_count": 68,
   "metadata": {},
   "outputs": [
    {
     "ename": "ValueError",
     "evalue": "Imbalanced-learn currently supports binary, multiclass and binarized encoded multiclasss targets. Multilabel and multioutput targets are not supported.",
     "output_type": "error",
     "traceback": [
      "\u001b[1;31m---------------------------------------------------------------------------\u001b[0m",
      "\u001b[1;31mValueError\u001b[0m                                Traceback (most recent call last)",
      "\u001b[1;32mC:\\Users\\Public\\Documents\\ESTsoft\\CreatorTemp/ipykernel_17524/1193514733.py\u001b[0m in \u001b[0;36m<module>\u001b[1;34m\u001b[0m\n\u001b[1;32m----> 1\u001b[1;33m \u001b[0mX_over\u001b[0m\u001b[1;33m,\u001b[0m\u001b[0my_over\u001b[0m \u001b[1;33m=\u001b[0m\u001b[0moversample\u001b[0m\u001b[1;33m.\u001b[0m\u001b[0mfit_resample\u001b[0m\u001b[1;33m(\u001b[0m\u001b[0mX\u001b[0m\u001b[1;33m,\u001b[0m\u001b[0my\u001b[0m\u001b[1;33m)\u001b[0m\u001b[1;33m\u001b[0m\u001b[1;33m\u001b[0m\u001b[0m\n\u001b[0m",
      "\u001b[1;32md:\\Git\\study\\nltk\\nltk\\lib\\site-packages\\imblearn\\base.py\u001b[0m in \u001b[0;36mfit_resample\u001b[1;34m(self, X, y)\u001b[0m\n\u001b[0;32m     75\u001b[0m         \u001b[0mcheck_classification_targets\u001b[0m\u001b[1;33m(\u001b[0m\u001b[0my\u001b[0m\u001b[1;33m)\u001b[0m\u001b[1;33m\u001b[0m\u001b[1;33m\u001b[0m\u001b[0m\n\u001b[0;32m     76\u001b[0m         \u001b[0marrays_transformer\u001b[0m \u001b[1;33m=\u001b[0m \u001b[0mArraysTransformer\u001b[0m\u001b[1;33m(\u001b[0m\u001b[0mX\u001b[0m\u001b[1;33m,\u001b[0m \u001b[0my\u001b[0m\u001b[1;33m)\u001b[0m\u001b[1;33m\u001b[0m\u001b[1;33m\u001b[0m\u001b[0m\n\u001b[1;32m---> 77\u001b[1;33m         \u001b[0mX\u001b[0m\u001b[1;33m,\u001b[0m \u001b[0my\u001b[0m\u001b[1;33m,\u001b[0m \u001b[0mbinarize_y\u001b[0m \u001b[1;33m=\u001b[0m \u001b[0mself\u001b[0m\u001b[1;33m.\u001b[0m\u001b[0m_check_X_y\u001b[0m\u001b[1;33m(\u001b[0m\u001b[0mX\u001b[0m\u001b[1;33m,\u001b[0m \u001b[0my\u001b[0m\u001b[1;33m)\u001b[0m\u001b[1;33m\u001b[0m\u001b[1;33m\u001b[0m\u001b[0m\n\u001b[0m\u001b[0;32m     78\u001b[0m \u001b[1;33m\u001b[0m\u001b[0m\n\u001b[0;32m     79\u001b[0m         self.sampling_strategy_ = check_sampling_strategy(\n",
      "\u001b[1;32md:\\Git\\study\\nltk\\nltk\\lib\\site-packages\\imblearn\\over_sampling\\_random_over_sampler.py\u001b[0m in \u001b[0;36m_check_X_y\u001b[1;34m(self, X, y)\u001b[0m\n\u001b[0;32m    137\u001b[0m \u001b[1;33m\u001b[0m\u001b[0m\n\u001b[0;32m    138\u001b[0m     \u001b[1;32mdef\u001b[0m \u001b[0m_check_X_y\u001b[0m\u001b[1;33m(\u001b[0m\u001b[0mself\u001b[0m\u001b[1;33m,\u001b[0m \u001b[0mX\u001b[0m\u001b[1;33m,\u001b[0m \u001b[0my\u001b[0m\u001b[1;33m)\u001b[0m\u001b[1;33m:\u001b[0m\u001b[1;33m\u001b[0m\u001b[1;33m\u001b[0m\u001b[0m\n\u001b[1;32m--> 139\u001b[1;33m         \u001b[0my\u001b[0m\u001b[1;33m,\u001b[0m \u001b[0mbinarize_y\u001b[0m \u001b[1;33m=\u001b[0m \u001b[0mcheck_target_type\u001b[0m\u001b[1;33m(\u001b[0m\u001b[0my\u001b[0m\u001b[1;33m,\u001b[0m \u001b[0mindicate_one_vs_all\u001b[0m\u001b[1;33m=\u001b[0m\u001b[1;32mTrue\u001b[0m\u001b[1;33m)\u001b[0m\u001b[1;33m\u001b[0m\u001b[1;33m\u001b[0m\u001b[0m\n\u001b[0m\u001b[0;32m    140\u001b[0m         X, y = self._validate_data(\n\u001b[0;32m    141\u001b[0m             \u001b[0mX\u001b[0m\u001b[1;33m,\u001b[0m\u001b[1;33m\u001b[0m\u001b[1;33m\u001b[0m\u001b[0m\n",
      "\u001b[1;32md:\\Git\\study\\nltk\\nltk\\lib\\site-packages\\imblearn\\utils\\_validation.py\u001b[0m in \u001b[0;36mcheck_target_type\u001b[1;34m(y, indicate_one_vs_all)\u001b[0m\n\u001b[0;32m    131\u001b[0m     \u001b[1;32mif\u001b[0m \u001b[0mtype_y\u001b[0m \u001b[1;33m==\u001b[0m \u001b[1;34m\"multilabel-indicator\"\u001b[0m\u001b[1;33m:\u001b[0m\u001b[1;33m\u001b[0m\u001b[1;33m\u001b[0m\u001b[0m\n\u001b[0;32m    132\u001b[0m         \u001b[1;32mif\u001b[0m \u001b[0mnp\u001b[0m\u001b[1;33m.\u001b[0m\u001b[0many\u001b[0m\u001b[1;33m(\u001b[0m\u001b[0my\u001b[0m\u001b[1;33m.\u001b[0m\u001b[0msum\u001b[0m\u001b[1;33m(\u001b[0m\u001b[0maxis\u001b[0m\u001b[1;33m=\u001b[0m\u001b[1;36m1\u001b[0m\u001b[1;33m)\u001b[0m \u001b[1;33m>\u001b[0m \u001b[1;36m1\u001b[0m\u001b[1;33m)\u001b[0m\u001b[1;33m:\u001b[0m\u001b[1;33m\u001b[0m\u001b[1;33m\u001b[0m\u001b[0m\n\u001b[1;32m--> 133\u001b[1;33m             raise ValueError(\n\u001b[0m\u001b[0;32m    134\u001b[0m                 \u001b[1;34m\"Imbalanced-learn currently supports binary, multiclass and \"\u001b[0m\u001b[1;33m\u001b[0m\u001b[1;33m\u001b[0m\u001b[0m\n\u001b[0;32m    135\u001b[0m                 \u001b[1;34m\"binarized encoded multiclasss targets. Multilabel and \"\u001b[0m\u001b[1;33m\u001b[0m\u001b[1;33m\u001b[0m\u001b[0m\n",
      "\u001b[1;31mValueError\u001b[0m: Imbalanced-learn currently supports binary, multiclass and binarized encoded multiclasss targets. Multilabel and multioutput targets are not supported."
     ]
    }
   ],
   "source": [
    "# 이부분은 오류가 났으나 해결을 못한 부분임\n",
    "X_over,y_over = oversample.fit_resample(X,y)"
   ]
  },
  {
   "cell_type": "code",
   "execution_count": 71,
   "metadata": {},
   "outputs": [],
   "source": [
    "from sklearn.model_selection import train_test_split\n",
    "Train_X, Test_X, Train_Y, Test_Y = train_test_split(X,y,test_size=0.25,random_state=42)"
   ]
  },
  {
   "cell_type": "code",
   "execution_count": 72,
   "metadata": {},
   "outputs": [],
   "source": [
    "from sklearn.neighbors import KNeighborsClassifier\n",
    "classifier = KNeighborsClassifier()"
   ]
  },
  {
   "cell_type": "code",
   "execution_count": 73,
   "metadata": {},
   "outputs": [
    {
     "data": {
      "text/plain": [
       "KNeighborsClassifier()"
      ]
     },
     "execution_count": 73,
     "metadata": {},
     "output_type": "execute_result"
    }
   ],
   "source": [
    "classifier.fit(Train_X,Train_Y)"
   ]
  },
  {
   "cell_type": "code",
   "execution_count": 74,
   "metadata": {},
   "outputs": [],
   "source": [
    "prediction =  classifier.predict(Test_X)"
   ]
  },
  {
   "cell_type": "code",
   "execution_count": 77,
   "metadata": {},
   "outputs": [
    {
     "name": "stdout",
     "output_type": "stream",
     "text": [
      "KNeighbors Accuracy Score is  58.80221247377455\n"
     ]
    }
   ],
   "source": [
    "from sklearn.metrics import accuracy_score\n",
    "print(\"KNeighbors Accuracy Score is \", accuracy_score(prediction, Test_Y) * 100)"
   ]
  },
  {
   "cell_type": "markdown",
   "metadata": {},
   "source": [
    "순서 \n",
    "1. 데이터 준비(read.csv)\n",
    "2. 데이터 전처리(특수문자 제거->불용어 제거-> 벡터화-> 라벨링)\n",
    "3. train test값 분리\n",
    "4. 모델소환\n",
    "5. 학습시키기(.fit)\n",
    "6. accuracy_score로 지표 확인하기"
   ]
  },
  {
   "cell_type": "code",
   "execution_count": null,
   "metadata": {},
   "outputs": [],
   "source": []
  }
 ],
 "metadata": {
  "interpreter": {
   "hash": "c0f2a156638663e52e3310a5b94cba9f1aaa2c6363cff10141cd0a597f3d9860"
  },
  "kernelspec": {
   "display_name": "Python 3.8.6rc1 64-bit ('nltk': venv)",
   "name": "python3"
  },
  "language_info": {
   "codemirror_mode": {
    "name": "ipython",
    "version": 3
   },
   "file_extension": ".py",
   "mimetype": "text/x-python",
   "name": "python",
   "nbconvert_exporter": "python",
   "pygments_lexer": "ipython3",
   "version": "3.8.6"
  },
  "orig_nbformat": 4
 },
 "nbformat": 4,
 "nbformat_minor": 2
}
