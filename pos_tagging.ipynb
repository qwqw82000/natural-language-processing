{
 "cells": [
  {
   "cell_type": "code",
   "execution_count": 1,
   "metadata": {},
   "outputs": [],
   "source": [
    "import numpy as np\n",
    "import pandas as pd\n",
    "import matplotlib.pyplot as plt\n",
    "import nltk"
   ]
  },
  {
   "cell_type": "markdown",
   "metadata": {},
   "source": [
    "# Sentence : I left my phone on the left side of the room."
   ]
  },
  {
   "cell_type": "code",
   "execution_count": 3,
   "metadata": {},
   "outputs": [],
   "source": [
    "text = nltk.word_tokenize(\"I left my phone on the left side of the room.\")"
   ]
  },
  {
   "cell_type": "code",
   "execution_count": 4,
   "metadata": {},
   "outputs": [
    {
     "name": "stdout",
     "output_type": "stream",
     "text": [
      "['I', 'left', 'my', 'phone', 'on', 'the', 'left', 'side', 'of', 'the', 'room', '.']\n"
     ]
    }
   ],
   "source": [
    "print(text)"
   ]
  },
  {
   "cell_type": "code",
   "execution_count": 6,
   "metadata": {},
   "outputs": [],
   "source": [
    "tagged_text = nltk.pos_tag(text)"
   ]
  },
  {
   "cell_type": "code",
   "execution_count": 7,
   "metadata": {},
   "outputs": [
    {
     "data": {
      "text/plain": [
       "[('I', 'PRP'),\n",
       " ('left', 'VBD'),\n",
       " ('my', 'PRP$'),\n",
       " ('phone', 'NN'),\n",
       " ('on', 'IN'),\n",
       " ('the', 'DT'),\n",
       " ('left', 'JJ'),\n",
       " ('side', 'NN'),\n",
       " ('of', 'IN'),\n",
       " ('the', 'DT'),\n",
       " ('room', 'NN'),\n",
       " ('.', '.')]"
      ]
     },
     "execution_count": 7,
     "metadata": {},
     "output_type": "execute_result"
    }
   ],
   "source": [
    "tagged_text"
   ]
  },
  {
   "cell_type": "markdown",
   "metadata": {},
   "source": [
    "# Sentence : Who will play with the dog while they are at the play?"
   ]
  },
  {
   "cell_type": "code",
   "execution_count": 8,
   "metadata": {},
   "outputs": [],
   "source": [
    "text = nltk.word_tokenize(\"Who will play with the dog while they are at the play?\")"
   ]
  },
  {
   "cell_type": "code",
   "execution_count": 9,
   "metadata": {},
   "outputs": [],
   "source": [
    "tagged_text = nltk.pos_tag(text)"
   ]
  },
  {
   "cell_type": "code",
   "execution_count": 10,
   "metadata": {},
   "outputs": [
    {
     "data": {
      "text/plain": [
       "[('Who', 'WP'),\n",
       " ('will', 'MD'),\n",
       " ('play', 'VB'),\n",
       " ('with', 'IN'),\n",
       " ('the', 'DT'),\n",
       " ('dog', 'NN'),\n",
       " ('while', 'IN'),\n",
       " ('they', 'PRP'),\n",
       " ('are', 'VBP'),\n",
       " ('at', 'IN'),\n",
       " ('the', 'DT'),\n",
       " ('play', 'NN'),\n",
       " ('?', '.')]"
      ]
     },
     "execution_count": 10,
     "metadata": {},
     "output_type": "execute_result"
    }
   ],
   "source": [
    "tagged_text"
   ]
  },
  {
   "cell_type": "code",
   "execution_count": 11,
   "metadata": {},
   "outputs": [],
   "source": [
    "from nltk.corpus import brown"
   ]
  },
  {
   "cell_type": "code",
   "execution_count": 17,
   "metadata": {},
   "outputs": [],
   "source": [
    "brown_tagged_sents = brown.tagged_sents(categories=\"news\")\n",
    "brown_sents = brown.sents(categories=\"news\")"
   ]
  },
  {
   "cell_type": "code",
   "execution_count": 20,
   "metadata": {},
   "outputs": [
    {
     "data": {
      "text/plain": [
       "(nltk.corpus.reader.util.ConcatenatedCorpusView, 4623)"
      ]
     },
     "execution_count": 20,
     "metadata": {},
     "output_type": "execute_result"
    }
   ],
   "source": [
    "type(brown_sents), len(brown_sents)"
   ]
  },
  {
   "cell_type": "code",
   "execution_count": 28,
   "metadata": {},
   "outputs": [],
   "source": [
    "# Regular Expresion Tagger\n",
    "\n",
    "patterns = [\n",
    "    (r\".*ing$\", \"VBG\"),\n",
    "    (r\".*ed$\", \"VBD\"),\n",
    "    (r\".*es$\", \"VBZ\"),\n",
    "    (r\".*ould$\", \"MD\"),\n",
    "    (r\".*\\'s$\", \"NN$\"),\n",
    "    (r\".*s$\", \"NNS\"),\n",
    "    (r\"^-?[0-9]+(\\.[0-9]+)?$\", \"CD\"),\n",
    "    (r\".*\", \"NN\")\n",
    "]"
   ]
  },
  {
   "cell_type": "code",
   "execution_count": 16,
   "metadata": {},
   "outputs": [],
   "source": [
    "regexp_tagger = nltk.RegexpTagger(patterns)"
   ]
  },
  {
   "cell_type": "code",
   "execution_count": 22,
   "metadata": {},
   "outputs": [
    {
     "name": "stdout",
     "output_type": "stream",
     "text": [
      "['The', 'largest', 'hurdle', 'the', 'Republicans', 'would', 'have', 'to', 'face', 'is', 'a', 'state', 'law', 'which', 'says', 'that', 'before', 'making', 'a', 'first', 'race', ',', 'one', 'of', 'two', 'alternative', 'courses', 'must', 'be', 'taken', ':', '1']\n"
     ]
    }
   ],
   "source": [
    "print(brown_sents[50])"
   ]
  },
  {
   "cell_type": "code",
   "execution_count": 24,
   "metadata": {},
   "outputs": [
    {
     "name": "stdout",
     "output_type": "stream",
     "text": [
      "[('The', 'NN'), ('largest', 'NN'), ('hurdle', 'NN'), ('the', 'NN'), ('Republicans', 'NNS'), ('would', 'MD'), ('have', 'NN'), ('to', 'NN'), ('face', 'NN'), ('is', 'NNS'), ('a', 'NN'), ('state', 'NN'), ('law', 'NN'), ('which', 'NN'), ('says', 'NNS'), ('that', 'NN'), ('before', 'NN'), ('making', 'VBG'), ('a', 'NN'), ('first', 'NN'), ('race', 'NN'), (',', 'NN'), ('one', 'NN'), ('of', 'NN'), ('two', 'NN'), ('alternative', 'NN'), ('courses', 'VBZ'), ('must', 'NN'), ('be', 'NN'), ('taken', 'NN'), (':', 'NN'), ('1', 'CD')]\n"
     ]
    }
   ],
   "source": [
    "print(regexp_tagger.tag(brown_sents[50]))"
   ]
  },
  {
   "cell_type": "code",
   "execution_count": 26,
   "metadata": {},
   "outputs": [
    {
     "name": "stdout",
     "output_type": "stream",
     "text": [
      "[('The', 'DT'), ('largest', 'JJS'), ('hurdle', 'NN'), ('the', 'DT'), ('Republicans', 'NNPS'), ('would', 'MD'), ('have', 'VB'), ('to', 'TO'), ('face', 'NN'), ('is', 'VBZ'), ('a', 'DT'), ('state', 'NN'), ('law', 'NN'), ('which', 'WDT'), ('says', 'VBZ'), ('that', 'IN'), ('before', 'IN'), ('making', 'VBG'), ('a', 'DT'), ('first', 'JJ'), ('race', 'NN'), (',', ','), ('one', 'CD'), ('of', 'IN'), ('two', 'CD'), ('alternative', 'JJ'), ('courses', 'NNS'), ('must', 'MD'), ('be', 'VB'), ('taken', 'VBN'), (':', ':'), ('1', 'CD')]\n"
     ]
    }
   ],
   "source": [
    "print(nltk.pos_tag(brown_sents[50]))"
   ]
  },
  {
   "cell_type": "code",
   "execution_count": 27,
   "metadata": {},
   "outputs": [
    {
     "data": {
      "text/plain": [
       "0.20186168625812995"
      ]
     },
     "execution_count": 27,
     "metadata": {},
     "output_type": "execute_result"
    }
   ],
   "source": [
    "regexp_tagger.evaluate(brown_tagged_sents)"
   ]
  },
  {
   "cell_type": "code",
   "execution_count": 29,
   "metadata": {},
   "outputs": [],
   "source": [
    "# Lookup Tagger\n",
    "fd = nltk.FreqDist(brown.words(categories = \"news\"))"
   ]
  },
  {
   "cell_type": "code",
   "execution_count": 32,
   "metadata": {},
   "outputs": [],
   "source": [
    "cfd = nltk.ConditionalFreqDist(brown.tagged_words(categories = \"news\")) # 특정 단어에 어떤 태그가 몇 번 사용되었는지 계산"
   ]
  },
  {
   "cell_type": "code",
   "execution_count": 33,
   "metadata": {},
   "outputs": [],
   "source": [
    "most_freq_words = fd.most_common(100)"
   ]
  },
  {
   "cell_type": "code",
   "execution_count": 35,
   "metadata": {},
   "outputs": [
    {
     "data": {
      "text/plain": [
       "[('the', 5580),\n",
       " (',', 5188),\n",
       " ('.', 4030),\n",
       " ('of', 2849),\n",
       " ('and', 2146),\n",
       " ('to', 2116),\n",
       " ('a', 1993),\n",
       " ('in', 1893),\n",
       " ('for', 943),\n",
       " ('The', 806),\n",
       " ('that', 802),\n",
       " ('``', 732),\n",
       " ('is', 732),\n",
       " ('was', 717),\n",
       " (\"''\", 702),\n",
       " ('on', 657),\n",
       " ('at', 598),\n",
       " ('with', 545),\n",
       " ('be', 526),\n",
       " ('by', 497),\n",
       " ('as', 481),\n",
       " ('he', 451),\n",
       " ('said', 402),\n",
       " ('his', 399),\n",
       " ('will', 389),\n",
       " ('it', 363),\n",
       " ('from', 344),\n",
       " ('are', 328),\n",
       " (';', 314),\n",
       " ('an', 300),\n",
       " ('has', 300),\n",
       " ('--', 300),\n",
       " ('had', 279),\n",
       " ('who', 268),\n",
       " ('have', 265),\n",
       " ('not', 254),\n",
       " ('Mrs.', 253),\n",
       " ('were', 252),\n",
       " ('this', 250),\n",
       " ('which', 244),\n",
       " ('would', 244),\n",
       " ('their', 219),\n",
       " ('been', 212),\n",
       " ('they', 205),\n",
       " ('He', 191),\n",
       " ('one', 184),\n",
       " ('I', 179),\n",
       " ('but', 174),\n",
       " ('its', 174),\n",
       " ('or', 173),\n",
       " (')', 171),\n",
       " ('more', 171),\n",
       " ('Mr.', 170),\n",
       " ('(', 168),\n",
       " ('up', 168),\n",
       " ('all', 163),\n",
       " ('out', 161),\n",
       " ('last', 161),\n",
       " ('two', 157),\n",
       " ('other', 149),\n",
       " (':', 149),\n",
       " ('new', 148),\n",
       " ('first', 143),\n",
       " ('than', 138),\n",
       " ('year', 138),\n",
       " ('A', 137),\n",
       " ('about', 136),\n",
       " ('there', 131),\n",
       " ('when', 128),\n",
       " ('home', 127),\n",
       " ('after', 127),\n",
       " ('In', 127),\n",
       " ('also', 120),\n",
       " ('It', 115),\n",
       " ('over', 115),\n",
       " ('into', 114),\n",
       " ('no', 109),\n",
       " ('But', 109),\n",
       " ('made', 107),\n",
       " ('only', 103),\n",
       " ('her', 103),\n",
       " ('years', 102),\n",
       " ('time', 97),\n",
       " ('three', 97),\n",
       " ('them', 96),\n",
       " ('some', 95),\n",
       " ('can', 93),\n",
       " ('him', 93),\n",
       " ('New', 93),\n",
       " ('any', 90),\n",
       " ('state', 90),\n",
       " ('?', 90),\n",
       " ('President', 89),\n",
       " ('before', 86),\n",
       " ('week', 86),\n",
       " ('could', 86),\n",
       " ('under', 83),\n",
       " ('against', 78),\n",
       " ('we', 77),\n",
       " ('what', 76)]"
      ]
     },
     "execution_count": 35,
     "metadata": {},
     "output_type": "execute_result"
    }
   ],
   "source": [
    "most_freq_words"
   ]
  },
  {
   "cell_type": "code",
   "execution_count": 36,
   "metadata": {},
   "outputs": [],
   "source": [
    "likely_tags = dict( (word, cfd[word].max()) for (word, _) in most_freq_words )"
   ]
  },
  {
   "cell_type": "code",
   "execution_count": 37,
   "metadata": {},
   "outputs": [
    {
     "data": {
      "text/plain": [
       "{'the': 'AT',\n",
       " ',': ',',\n",
       " '.': '.',\n",
       " 'of': 'IN',\n",
       " 'and': 'CC',\n",
       " 'to': 'TO',\n",
       " 'a': 'AT',\n",
       " 'in': 'IN',\n",
       " 'for': 'IN',\n",
       " 'The': 'AT',\n",
       " 'that': 'CS',\n",
       " '``': '``',\n",
       " 'is': 'BEZ',\n",
       " 'was': 'BEDZ',\n",
       " \"''\": \"''\",\n",
       " 'on': 'IN',\n",
       " 'at': 'IN',\n",
       " 'with': 'IN',\n",
       " 'be': 'BE',\n",
       " 'by': 'IN',\n",
       " 'as': 'CS',\n",
       " 'he': 'PPS',\n",
       " 'said': 'VBD',\n",
       " 'his': 'PP$',\n",
       " 'will': 'MD',\n",
       " 'it': 'PPS',\n",
       " 'from': 'IN',\n",
       " 'are': 'BER',\n",
       " ';': '.',\n",
       " 'an': 'AT',\n",
       " 'has': 'HVZ',\n",
       " '--': '--',\n",
       " 'had': 'HVD',\n",
       " 'who': 'WPS',\n",
       " 'have': 'HV',\n",
       " 'not': '*',\n",
       " 'Mrs.': 'NP',\n",
       " 'were': 'BED',\n",
       " 'this': 'DT',\n",
       " 'which': 'WDT',\n",
       " 'would': 'MD',\n",
       " 'their': 'PP$',\n",
       " 'been': 'BEN',\n",
       " 'they': 'PPSS',\n",
       " 'He': 'PPS',\n",
       " 'one': 'CD',\n",
       " 'I': 'PPSS',\n",
       " 'but': 'CC',\n",
       " 'its': 'PP$',\n",
       " 'or': 'CC',\n",
       " ')': ')',\n",
       " 'more': 'AP',\n",
       " 'Mr.': 'NP',\n",
       " '(': '(',\n",
       " 'up': 'RP',\n",
       " 'all': 'ABN',\n",
       " 'out': 'RP',\n",
       " 'last': 'AP',\n",
       " 'two': 'CD',\n",
       " 'other': 'AP',\n",
       " ':': ':',\n",
       " 'new': 'JJ',\n",
       " 'first': 'OD',\n",
       " 'than': 'IN',\n",
       " 'year': 'NN',\n",
       " 'A': 'AT',\n",
       " 'about': 'IN',\n",
       " 'there': 'EX',\n",
       " 'when': 'WRB',\n",
       " 'home': 'NN',\n",
       " 'after': 'IN',\n",
       " 'In': 'IN',\n",
       " 'also': 'RB',\n",
       " 'It': 'PPS',\n",
       " 'over': 'IN',\n",
       " 'into': 'IN',\n",
       " 'no': 'AT',\n",
       " 'But': 'CC',\n",
       " 'made': 'VBN',\n",
       " 'only': 'AP',\n",
       " 'her': 'PP$',\n",
       " 'years': 'NNS',\n",
       " 'time': 'NN',\n",
       " 'three': 'CD',\n",
       " 'them': 'PPO',\n",
       " 'some': 'DTI',\n",
       " 'can': 'MD',\n",
       " 'him': 'PPO',\n",
       " 'New': 'JJ-TL',\n",
       " 'any': 'DTI',\n",
       " 'state': 'NN',\n",
       " '?': '.',\n",
       " 'President': 'NN-TL',\n",
       " 'before': 'IN',\n",
       " 'week': 'NN',\n",
       " 'could': 'MD',\n",
       " 'under': 'IN',\n",
       " 'against': 'IN',\n",
       " 'we': 'PPSS',\n",
       " 'what': 'WDT'}"
      ]
     },
     "execution_count": 37,
     "metadata": {},
     "output_type": "execute_result"
    }
   ],
   "source": [
    "likely_tags"
   ]
  },
  {
   "cell_type": "code",
   "execution_count": 38,
   "metadata": {},
   "outputs": [],
   "source": [
    "lookup_tagger = nltk.UnigramTagger(model=likely_tags)"
   ]
  },
  {
   "cell_type": "code",
   "execution_count": 39,
   "metadata": {},
   "outputs": [
    {
     "data": {
      "text/plain": [
       "0.45578495136941344"
      ]
     },
     "execution_count": 39,
     "metadata": {},
     "output_type": "execute_result"
    }
   ],
   "source": [
    "lookup_tagger.evaluate(brown_tagged_sents)"
   ]
  },
  {
   "cell_type": "code",
   "execution_count": 42,
   "metadata": {},
   "outputs": [
    {
     "data": {
      "text/plain": [
       "['``',\n",
       " 'Only',\n",
       " 'a',\n",
       " 'relative',\n",
       " 'handful',\n",
       " 'of',\n",
       " 'such',\n",
       " 'reports',\n",
       " 'was',\n",
       " 'received',\n",
       " \"''\",\n",
       " ',',\n",
       " 'the',\n",
       " 'jury',\n",
       " 'said',\n",
       " ',',\n",
       " '``',\n",
       " 'considering',\n",
       " 'the',\n",
       " 'widespread',\n",
       " 'interest',\n",
       " 'in',\n",
       " 'the',\n",
       " 'election',\n",
       " ',',\n",
       " 'the',\n",
       " 'number',\n",
       " 'of',\n",
       " 'voters',\n",
       " 'and',\n",
       " 'the',\n",
       " 'size',\n",
       " 'of',\n",
       " 'this',\n",
       " 'city',\n",
       " \"''\",\n",
       " '.']"
      ]
     },
     "execution_count": 42,
     "metadata": {},
     "output_type": "execute_result"
    }
   ],
   "source": [
    "sent = brown.sents(categories = \"news\")[3]\n",
    "sent"
   ]
  },
  {
   "cell_type": "code",
   "execution_count": 43,
   "metadata": {},
   "outputs": [
    {
     "data": {
      "text/plain": [
       "[('``', '``'),\n",
       " ('Only', None),\n",
       " ('a', 'AT'),\n",
       " ('relative', None),\n",
       " ('handful', None),\n",
       " ('of', 'IN'),\n",
       " ('such', None),\n",
       " ('reports', None),\n",
       " ('was', 'BEDZ'),\n",
       " ('received', None),\n",
       " (\"''\", \"''\"),\n",
       " (',', ','),\n",
       " ('the', 'AT'),\n",
       " ('jury', None),\n",
       " ('said', 'VBD'),\n",
       " (',', ','),\n",
       " ('``', '``'),\n",
       " ('considering', None),\n",
       " ('the', 'AT'),\n",
       " ('widespread', None),\n",
       " ('interest', None),\n",
       " ('in', 'IN'),\n",
       " ('the', 'AT'),\n",
       " ('election', None),\n",
       " (',', ','),\n",
       " ('the', 'AT'),\n",
       " ('number', None),\n",
       " ('of', 'IN'),\n",
       " ('voters', None),\n",
       " ('and', 'CC'),\n",
       " ('the', 'AT'),\n",
       " ('size', None),\n",
       " ('of', 'IN'),\n",
       " ('this', 'DT'),\n",
       " ('city', None),\n",
       " (\"''\", \"''\"),\n",
       " ('.', '.')]"
      ]
     },
     "execution_count": 43,
     "metadata": {},
     "output_type": "execute_result"
    }
   ],
   "source": [
    "lookup_tagger.tag(sent)"
   ]
  },
  {
   "cell_type": "markdown",
   "metadata": {},
   "source": [
    "# Part-Of-Speech (POS) Tagging\n",
    "\n",
    "# Rule-Based Tagger:\n",
    "## Regular Expresion Tagger\n",
    "## Lookup Tagger"
   ]
  },
  {
   "cell_type": "code",
   "execution_count": 44,
   "metadata": {},
   "outputs": [
    {
     "data": {
      "text/plain": [
       "4160"
      ]
     },
     "execution_count": 44,
     "metadata": {},
     "output_type": "execute_result"
    }
   ],
   "source": [
    "# stochastic Tagger:\n",
    "\n",
    "# Unigram Tagger\n",
    "split_size = int(len(brown_tagged_sents) * 0.9)\n",
    "split_size"
   ]
  },
  {
   "cell_type": "code",
   "execution_count": 45,
   "metadata": {},
   "outputs": [],
   "source": [
    "train_sents = brown_tagged_sents[:split_size]\n",
    "test_sents = brown_tagged_sents[split_size:]"
   ]
  },
  {
   "cell_type": "code",
   "execution_count": 46,
   "metadata": {},
   "outputs": [],
   "source": [
    "unigram_tagger = nltk.UnigramTagger(train_sents)"
   ]
  },
  {
   "cell_type": "code",
   "execution_count": 47,
   "metadata": {},
   "outputs": [
    {
     "data": {
      "text/plain": [
       "0.8121200039868434"
      ]
     },
     "execution_count": 47,
     "metadata": {},
     "output_type": "execute_result"
    }
   ],
   "source": [
    "unigram_tagger.evaluate(test_sents)"
   ]
  },
  {
   "cell_type": "code",
   "execution_count": 48,
   "metadata": {},
   "outputs": [],
   "source": [
    "# Bigram Tagger (N-gram Tagger)\n",
    "bigram_tagger = nltk.BigramTagger(train_sents)"
   ]
  },
  {
   "cell_type": "code",
   "execution_count": 49,
   "metadata": {},
   "outputs": [
    {
     "data": {
      "text/plain": [
       "[('800', 'CD'),\n",
       " ('in', 'IN'),\n",
       " ('Southern', 'JJ-TL'),\n",
       " ('New', 'JJ-TL'),\n",
       " ('England', 'NP'),\n",
       " (',', ','),\n",
       " ('we', 'PPSS'),\n",
       " ('have', 'HV'),\n",
       " ('60', 'CD'),\n",
       " (';', '.'),\n",
       " (';', '.')]"
      ]
     },
     "execution_count": 49,
     "metadata": {},
     "output_type": "execute_result"
    }
   ],
   "source": [
    "bigram_tagger.tag(brown_sents[1000])"
   ]
  },
  {
   "cell_type": "code",
   "execution_count": 50,
   "metadata": {},
   "outputs": [
    {
     "data": {
      "text/plain": [
       "0.10206319146815508"
      ]
     },
     "execution_count": 50,
     "metadata": {},
     "output_type": "execute_result"
    }
   ],
   "source": [
    "bigram_tagger.evaluate(test_sents)"
   ]
  },
  {
   "cell_type": "code",
   "execution_count": null,
   "metadata": {},
   "outputs": [],
   "source": [
    "# I left my phone on the left side of the room.\n",
    "# unigram : I, left, my, phone, on, the , left, side, of, the, room\n",
    "# bigrams : I left, left my, my phone, phone on, on the, the left, left side, side of, of the, the room"
   ]
  },
  {
   "cell_type": "code",
   "execution_count": 51,
   "metadata": {},
   "outputs": [],
   "source": [
    "unseen_sent = brown_sents[4500]"
   ]
  },
  {
   "cell_type": "code",
   "execution_count": 53,
   "metadata": {},
   "outputs": [
    {
     "name": "stdout",
     "output_type": "stream",
     "text": [
      "['Japan', ',', 'since', '1957', ',', 'has', 'been', '``', 'voluntarily', \"''\", 'curbing', 'exports', 'of', 'textiles', 'to', 'the', 'U.S.', '.']\n"
     ]
    }
   ],
   "source": [
    "print(unseen_sent)"
   ]
  },
  {
   "cell_type": "code",
   "execution_count": 55,
   "metadata": {},
   "outputs": [
    {
     "name": "stdout",
     "output_type": "stream",
     "text": [
      "[('Japan', None), (',', None), ('since', None), ('1957', None), (',', None), ('has', None), ('been', None), ('``', None), ('voluntarily', None), (\"''\", None), ('curbing', None), ('exports', None), ('of', None), ('textiles', None), ('to', None), ('the', None), ('U.S.', None), ('.', None)]\n"
     ]
    }
   ],
   "source": [
    "print(bigram_tagger.tag(unseen_sent))"
   ]
  },
  {
   "cell_type": "code",
   "execution_count": 56,
   "metadata": {},
   "outputs": [
    {
     "name": "stdout",
     "output_type": "stream",
     "text": [
      "[('Japan', 'NNP'), (',', ','), ('since', 'IN'), ('1957', 'CD'), (',', ','), ('has', 'VBZ'), ('been', 'VBN'), ('``', '``'), ('voluntarily', 'RB'), (\"''\", \"''\"), ('curbing', 'VBG'), ('exports', 'NNS'), ('of', 'IN'), ('textiles', 'NNS'), ('to', 'TO'), ('the', 'DT'), ('U.S.', 'NNP'), ('.', '.')]\n"
     ]
    }
   ],
   "source": [
    "print(nltk.pos_tag(unseen_sent))"
   ]
  },
  {
   "cell_type": "code",
   "execution_count": 57,
   "metadata": {},
   "outputs": [
    {
     "name": "stdout",
     "output_type": "stream",
     "text": [
      "[('Japan', 'NP'), (',', ','), ('since', 'IN'), ('1957', 'CD'), (',', ','), ('has', 'HVZ'), ('been', 'BEN'), ('``', '``'), ('voluntarily', 'RB'), (\"''\", \"''\"), ('curbing', None), ('exports', None), ('of', 'IN'), ('textiles', None), ('to', 'TO'), ('the', 'AT'), ('U.S.', 'NP'), ('.', '.')]\n"
     ]
    }
   ],
   "source": [
    "print(unigram_tagger.tag(unseen_sent))"
   ]
  },
  {
   "cell_type": "code",
   "execution_count": null,
   "metadata": {},
   "outputs": [],
   "source": []
  }
 ],
 "metadata": {
  "interpreter": {
   "hash": "ac8013a75859c6925308985c5e1ee5242e6e6f0429f283ee420b8cff3c2914b2"
  },
  "kernelspec": {
   "display_name": "Python 3.9.7 64-bit ('venv_night': venv)",
   "name": "python3"
  },
  "language_info": {
   "codemirror_mode": {
    "name": "ipython",
    "version": 3
   },
   "file_extension": ".py",
   "mimetype": "text/x-python",
   "name": "python",
   "nbconvert_exporter": "python",
   "pygments_lexer": "ipython3",
   "version": "3.9.7"
  },
  "orig_nbformat": 4
 },
 "nbformat": 4,
 "nbformat_minor": 2
}
