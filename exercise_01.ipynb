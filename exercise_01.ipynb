{
 "cells": [
  {
   "cell_type": "code",
   "execution_count": 1,
   "metadata": {},
   "outputs": [],
   "source": [
    "import re"
   ]
  },
  {
   "cell_type": "code",
   "execution_count": 2,
   "metadata": {},
   "outputs": [
    {
     "data": {
      "text/plain": [
       "['abc', 'abc']"
      ]
     },
     "execution_count": 2,
     "metadata": {},
     "output_type": "execute_result"
    }
   ],
   "source": [
    "# \"askdfj;akdfj;lajdf;laj;lakdsfabcasdfaabcdadf\" 에서 \"abc\" 찾기\n",
    "re.findall(r\"abc\", \"askdfj;akdfj;lajdf;laj;lakdsfabcasdfaabcdadf\")"
   ]
  },
  {
   "cell_type": "code",
   "execution_count": 3,
   "metadata": {},
   "outputs": [],
   "source": [
    "# \"asdfjl;ajdf;la3534l2k3o;lkdagj;qi4touoq\"에서 숫자만 찾기\n",
    "listFindAll = re.findall(r\"[0-9]\", \"asdfjl;ajdf;la3534l2k3o;lkdagj;qi4touoq\")"
   ]
  },
  {
   "cell_type": "code",
   "execution_count": 4,
   "metadata": {},
   "outputs": [
    {
     "data": {
      "text/plain": [
       "(list, ['3', '5', '3', '4', '2', '3', '4'])"
      ]
     },
     "execution_count": 4,
     "metadata": {},
     "output_type": "execute_result"
    }
   ],
   "source": [
    "type(listFindAll), listFindAll"
   ]
  },
  {
   "cell_type": "code",
   "execution_count": 5,
   "metadata": {},
   "outputs": [
    {
     "data": {
      "text/plain": [
       "['3', '5', '3', '4', '2', '3', '4']"
      ]
     },
     "execution_count": 5,
     "metadata": {},
     "output_type": "execute_result"
    }
   ],
   "source": [
    "re.findall(r\"[9610342587]\", \"asdfjl;ajdf;la3534l2k3o;lkdagj;qi4touoq\")"
   ]
  },
  {
   "cell_type": "code",
   "execution_count": 6,
   "metadata": {},
   "outputs": [
    {
     "data": {
      "text/plain": [
       "['353', '498', '598']"
      ]
     },
     "execution_count": 6,
     "metadata": {},
     "output_type": "execute_result"
    }
   ],
   "source": [
    "text = \"asdfjl;ajdf;la353k4l2k3o;lkdagj;qi498u598touoq\"\n",
    "\n",
    "# re.findall(r\"[0-9]{3}\", text)\n",
    "re.findall(r\"[0-9][0-9][0-9]\", text)"
   ]
  },
  {
   "cell_type": "code",
   "execution_count": 7,
   "metadata": {},
   "outputs": [],
   "source": [
    "documents = ['asdfj;laieorkdjf;aliejr;akjdf23k4j;lajds;l',\n",
    "            'asdfjoqweitulad;ai@weutadg;lajoetiuaodkgjier',\n",
    "            'asdkfjqoitlskdnfoqwiekhas;ioew=adgoie',\n",
    "            'askdfl_asdkfei_asdjkfla****askeasfff',\n",
    "            '{{{{{asdfjowei@@##askdfoie}}}}}']"
   ]
  },
  {
   "cell_type": "code",
   "execution_count": 8,
   "metadata": {},
   "outputs": [
    {
     "name": "stdout",
     "output_type": "stream",
     "text": [
      "asdkfjqoitlskdnfoqwiekhas;ioew=adgoie\n",
      "askdfl_asdkfei_asdjkfla****askeasfff\n"
     ]
    }
   ],
   "source": [
    "for sentence in documents:\n",
    "    if len(re.findall('[0-9:\\'{}()@#&]', sentence)) > 0:\n",
    "        pass\n",
    "    else:\n",
    "        print(sentence)"
   ]
  },
  {
   "cell_type": "code",
   "execution_count": 9,
   "metadata": {},
   "outputs": [
    {
     "name": "stdout",
     "output_type": "stream",
     "text": [
      "asdkfjqoitlskdnfoqwiekhas;ioew=adgoie\n",
      "askdfl_asdkfei_asdjkfla****askeasfff\n"
     ]
    }
   ],
   "source": [
    "for sentence in documents:\n",
    "    if len(re.findall('[^0-9:\\'{}()@#&]', sentence)) == len(sentence):\n",
    "        print(sentence)"
   ]
  },
  {
   "cell_type": "code",
   "execution_count": 10,
   "metadata": {},
   "outputs": [
    {
     "name": "stdout",
     "output_type": "stream",
     "text": [
      "''\n"
     ]
    }
   ],
   "source": [
    "print(\"'\\'\")"
   ]
  },
  {
   "cell_type": "code",
   "execution_count": 11,
   "metadata": {},
   "outputs": [
    {
     "name": "stdout",
     "output_type": "stream",
     "text": [
      "'\\'\n"
     ]
    }
   ],
   "source": [
    "print(\"'\\\\'\")"
   ]
  },
  {
   "cell_type": "code",
   "execution_count": 12,
   "metadata": {},
   "outputs": [
    {
     "data": {
      "text/plain": [
       "['\\\\', '\\\\', '\\\\', '\\\\']"
      ]
     },
     "execution_count": 12,
     "metadata": {},
     "output_type": "execute_result"
    }
   ],
   "source": [
    "# '\\n for new [line, ] \\section and \\document and \\\\\\section \\n'\n",
    "re.findall(r\"\\\\\", '\\n for new [line, ] \\section and \\document and \\\\\\section \\n')"
   ]
  },
  {
   "cell_type": "code",
   "execution_count": 13,
   "metadata": {},
   "outputs": [
    {
     "data": {
      "text/plain": [
       "['\\\\', '\\\\', '\\\\', '\\\\']"
      ]
     },
     "execution_count": 13,
     "metadata": {},
     "output_type": "execute_result"
    }
   ],
   "source": [
    "re.findall(r\"[\\\\]\", '\\n for new [line, ] \\section and \\document and \\\\\\section \\n')"
   ]
  },
  {
   "cell_type": "code",
   "execution_count": 14,
   "metadata": {},
   "outputs": [
    {
     "data": {
      "text/plain": [
       "['\\\\', '\\\\', '\\\\', '\\\\', '\\\\', '\\\\', '\\\\']"
      ]
     },
     "execution_count": 14,
     "metadata": {},
     "output_type": "execute_result"
    }
   ],
   "source": [
    "# 정규식을 적용할 텍스트에 r-string처리를 하면 특수문자들이 문자 그대로 문자로 인식\n",
    "\n",
    "re.findall(r\"[\\\\]\", r'\\n for new [line, ] \\section and \\document and \\\\\\section \\n')"
   ]
  },
  {
   "cell_type": "code",
   "execution_count": 15,
   "metadata": {},
   "outputs": [
    {
     "data": {
      "text/plain": [
       "['\\\\', '\\\\', '\\\\', '\\\\']"
      ]
     },
     "execution_count": 15,
     "metadata": {},
     "output_type": "execute_result"
    }
   ],
   "source": [
    "# 정규식을 적용할 텍스트에 기본 문자열로 다루면 특수문자들이 특수문자의 기능을 유지\n",
    "# 정규식을 적용할 때 해당 특수문자가 제외됨\n",
    "\n",
    "re.findall(r\"[\\\\]\", '\\n for new [line, ] \\section and \\document and \\\\\\section \\n')"
   ]
  },
  {
   "cell_type": "code",
   "execution_count": 16,
   "metadata": {},
   "outputs": [
    {
     "name": "stdout",
     "output_type": "stream",
     "text": [
      "\n",
      " for new [line, ] \\section and \\document and \\\\section \n",
      "\n"
     ]
    }
   ],
   "source": [
    "print('\\n for new [line, ] \\section and \\document and \\\\\\section \\n')"
   ]
  },
  {
   "cell_type": "code",
   "execution_count": 17,
   "metadata": {},
   "outputs": [
    {
     "data": {
      "text/plain": [
       "['\\\\', '[', ']', '\\\\', '\\\\', '\\\\', '\\\\', '\\\\', '\\\\']"
      ]
     },
     "execution_count": 17,
     "metadata": {},
     "output_type": "execute_result"
    }
   ],
   "source": [
    "# re.findall(r\"[\\[\\]\\\\]\", r'\\n for new [line, ] \\section and \\document and \\\\\\section \\n')\n",
    "re.findall(r\"[\\[\\]\\\\]\", r'\\n for new [line, ] \\section and \\document and \\\\\\section \\n')"
   ]
  },
  {
   "cell_type": "code",
   "execution_count": 18,
   "metadata": {},
   "outputs": [
    {
     "data": {
      "text/plain": [
       "['[', ']']"
      ]
     },
     "execution_count": 18,
     "metadata": {},
     "output_type": "execute_result"
    }
   ],
   "source": [
    "# [, ]만 찾고 싶다\n",
    "re.findall(\"[\\[\\]]\", r'\\n for new [line, ] \\section and \\document and \\\\\\section \\n')"
   ]
  },
  {
   "cell_type": "code",
   "execution_count": 19,
   "metadata": {},
   "outputs": [
    {
     "data": {
      "text/plain": [
       "['\\\\', '\\\\', '\\\\', '\\\\', '\\\\', '\\\\', '\\\\', '\\\\']"
      ]
     },
     "execution_count": 19,
     "metadata": {},
     "output_type": "execute_result"
    }
   ],
   "source": [
    "re.findall(\"[\\\\\\]\", r'\\n for new [line, ] \\section \\tand \\document and \\\\\\section \\n')"
   ]
  },
  {
   "cell_type": "code",
   "execution_count": 20,
   "metadata": {},
   "outputs": [
    {
     "name": "stdout",
     "output_type": "stream",
     "text": [
      "\n",
      " for new [line, \\section \tand \\document and \\\\section \n",
      "\n"
     ]
    }
   ],
   "source": [
    "print('\\n for new [line, \\section \\tand \\document and \\\\\\section \\n')"
   ]
  },
  {
   "cell_type": "code",
   "execution_count": 21,
   "metadata": {},
   "outputs": [
    {
     "name": "stdout",
     "output_type": "stream",
     "text": [
      "[]\n"
     ]
    }
   ],
   "source": [
    "print(re.findall(\"[\\\\\\]section\", text))"
   ]
  },
  {
   "cell_type": "code",
   "execution_count": 22,
   "metadata": {},
   "outputs": [
    {
     "name": "stdout",
     "output_type": "stream",
     "text": [
      "[]\n"
     ]
    }
   ],
   "source": [
    "print(re.findall(r\"[\\\\]section\", text))"
   ]
  },
  {
   "cell_type": "code",
   "execution_count": 23,
   "metadata": {},
   "outputs": [],
   "source": [
    "documents = ('asdfj;35laieo2rkdjf;ali4ejr;akjdf23k4j;lajds;l'\n",
    "            'asdfjoqweitu  lad;ai@weuta    dg;lajoetiuaodkgjier'\n",
    "            'asdkfjqoitlskdnfoqwiekhas;ioew=adgoie'\n",
    "            'askdfl_asdkfei_asdjkfla****askeasfff'\n",
    "            '{{{{{asdfjowei@@##askdfoie}}}}}')"
   ]
  },
  {
   "cell_type": "code",
   "execution_count": 24,
   "metadata": {},
   "outputs": [
    {
     "data": {
      "text/plain": [
       "(str,\n",
       " 'asdfj;35laieo2rkdjf;ali4ejr;akjdf23k4j;lajds;lasdfjoqweitu  lad;ai@weuta    dg;lajoetiuaodkgjierasdkfjqoitlskdnfoqwiekhas;ioew=adgoieaskdfl_asdkfei_asdjkfla****askeasfff{{{{{asdfjowei@@##askdfoie}}}}}')"
      ]
     },
     "execution_count": 24,
     "metadata": {},
     "output_type": "execute_result"
    }
   ],
   "source": [
    "type(documents), documents"
   ]
  },
  {
   "cell_type": "code",
   "execution_count": 25,
   "metadata": {},
   "outputs": [
    {
     "name": "stdout",
     "output_type": "stream",
     "text": [
      "['3', '5', '2', '4', '2', '3', '4', ' ', ' ', ' ', ' ', ' ', ' ', '_', '_']\n"
     ]
    }
   ],
   "source": [
    "# 위 documents에서 빈칸, _, 숫자만 찾아내고, 그 갯수\n",
    "print(re.findall(r\"[\\s\\d_]\", documents))"
   ]
  },
  {
   "cell_type": "code",
   "execution_count": 26,
   "metadata": {},
   "outputs": [
    {
     "data": {
      "text/plain": [
       "['Yahoo', 'Yahooo', 'Yahooooooo', 'Yahooooo', 'Yaho', 'Yaho']"
      ]
     },
     "execution_count": 26,
     "metadata": {},
     "output_type": "execute_result"
    }
   ],
   "source": [
    "text = \"YahooYahoooYahoooooooYahoooooYahoasdfl;akj;lYahoaYahaoo\"\n",
    "# Yahoo로 시작하는 것 다 찾아보기\n",
    "re.findall(r\"Yahoo*\", text)"
   ]
  },
  {
   "cell_type": "code",
   "execution_count": 27,
   "metadata": {},
   "outputs": [],
   "source": [
    "doc = ('asdfj;35laieo2rkdjf;ali4ejr;akjdf23k4j;lajds;l'\n",
    "            'asdfjoqweitu  lad;ai@weuta    dg;lajoetiuaodkgjier'\n",
    "            'asdkfjqoitlskdnfoqwiekhas;ioew=adgoie'\n",
    "            'askdfl_asdkfei_asdjkfla****askeasfff'\n",
    "            '{{{{{asdfjowei@@##askdfoie}}}}}')"
   ]
  },
  {
   "cell_type": "code",
   "execution_count": 28,
   "metadata": {},
   "outputs": [
    {
     "data": {
      "text/plain": [
       "['asdfj',\n",
       " 'laieo2rkdjf',\n",
       " 'ali4ejr',\n",
       " 'akjdf23k4j',\n",
       " 'lajds',\n",
       " 'lasdfjoqweitu',\n",
       " 'lad',\n",
       " 'ai',\n",
       " 'weuta',\n",
       " 'dg',\n",
       " 'lajoetiuaodkgjierasdkfjqoitlskdnfoqwiekhas',\n",
       " 'ioew',\n",
       " 'adgoieaskdfl_asdkfei_asdjkfla',\n",
       " 'askeasfff',\n",
       " 'asdfjowei',\n",
       " 'askdfoie']"
      ]
     },
     "execution_count": 28,
     "metadata": {},
     "output_type": "execute_result"
    }
   ],
   "source": [
    "# 위 documents에서 알파벳이랄 숫자가 존재하는 것 찾기, 단어 단위로\n",
    "re.findall(r\"[a-zA-Z]\\w*\", doc)"
   ]
  },
  {
   "cell_type": "code",
   "execution_count": 29,
   "metadata": {},
   "outputs": [
    {
     "data": {
      "text/plain": [
       "['Yahooo', 'Yahooooooo', 'Yahooooo']"
      ]
     },
     "execution_count": 29,
     "metadata": {},
     "output_type": "execute_result"
    }
   ],
   "source": [
    "text = \"YahooYahoooYahoooooooYahoooooYahoasdfl;akj;lYahoaYahaoo\"\n",
    "# Yahoo로 시작하는 것 다 찾아보기\n",
    "re.findall(r\"Yahooo+\", text)"
   ]
  },
  {
   "cell_type": "code",
   "execution_count": 30,
   "metadata": {},
   "outputs": [
    {
     "data": {
      "text/plain": [
       "['Yahoo', 'Yahooo', 'Yahooooooo', 'Yahooooo', 'Yaoooo']"
      ]
     },
     "execution_count": 30,
     "metadata": {},
     "output_type": "execute_result"
    }
   ],
   "source": [
    "text = \"YahooYahoooYahoooooooYahoooooYahoasdfl;akj;lYaooooaYahaoo\"\n",
    "# Yahoo로 시작하는 것 다 찾아보기\n",
    "re.findall(r\"Yah?oo+\", text)"
   ]
  },
  {
   "cell_type": "code",
   "execution_count": 31,
   "metadata": {},
   "outputs": [],
   "source": [
    "doc = ('asdfj;35laieo2rkdjf;ali4ejr;akjdf23k4j;lajds;l'\n",
    "            'asdfjoqweitu  lad;ai@weuta    dg;lajoetiuaodkgjier'\n",
    "            'asdkfjqoitlskdnfoqwiekhas;ioew=adgoie'\n",
    "            'askdfl_asdkfei_asdjk456789fla****askeasfff'\n",
    "            '{{{{{asdfjowei@@##askdfoie}}}}}')"
   ]
  },
  {
   "cell_type": "code",
   "execution_count": 32,
   "metadata": {},
   "outputs": [
    {
     "data": {
      "text/plain": [
       "['35', '23', '45678']"
      ]
     },
     "execution_count": 32,
     "metadata": {},
     "output_type": "execute_result"
    }
   ],
   "source": [
    "re.findall(r\"\\d{2,5}\", doc)"
   ]
  },
  {
   "cell_type": "code",
   "execution_count": 33,
   "metadata": {},
   "outputs": [],
   "source": [
    "p = re.compile(r\"a\\d*b\", re.IGNORECASE)"
   ]
  },
  {
   "cell_type": "code",
   "execution_count": 34,
   "metadata": {},
   "outputs": [
    {
     "data": {
      "text/plain": [
       "['a2345123B', 'Ab']"
      ]
     },
     "execution_count": 34,
     "metadata": {},
     "output_type": "execute_result"
    }
   ],
   "source": [
    "p.findall(\"a2345123B234234Ab\")"
   ]
  },
  {
   "cell_type": "code",
   "execution_count": 35,
   "metadata": {},
   "outputs": [],
   "source": [
    "doc = '      \\t    \\t   \\t how are you today ... asdfjla;joeito;angl;a4o3'\n",
    "\n",
    "p = re.compile(r\"\\s*\")"
   ]
  },
  {
   "cell_type": "code",
   "execution_count": 36,
   "metadata": {},
   "outputs": [],
   "source": [
    "m = p.match(doc)"
   ]
  },
  {
   "cell_type": "code",
   "execution_count": 37,
   "metadata": {},
   "outputs": [
    {
     "name": "stdout",
     "output_type": "stream",
     "text": [
      "(0, 17) 0 17 17\n"
     ]
    }
   ],
   "source": [
    "print(m.span(), m.start(), m.end(), len(m.group()))"
   ]
  },
  {
   "cell_type": "code",
   "execution_count": 38,
   "metadata": {},
   "outputs": [
    {
     "name": "stdout",
     "output_type": "stream",
     "text": [
      "how are you today ... asdfjla;joeito;angl;a4o3\n"
     ]
    }
   ],
   "source": [
    "print(doc[m.end():])"
   ]
  },
  {
   "cell_type": "code",
   "execution_count": 39,
   "metadata": {},
   "outputs": [
    {
     "name": "stdout",
     "output_type": "stream",
     "text": [
      "(2, 19) 2 19 17\n",
      "how are you today ... asdfjla;joeito;angl;a4o3\n"
     ]
    }
   ],
   "source": [
    "doc = 'ab      \\t    \\t   \\t how are you today ... asdfjla;joeito;angl;a4o3'\n",
    "\n",
    "p = re.compile(r\"\\s+\")\n",
    "m = p.search(doc)\n",
    "print(m.span(), m.start(), m.end(), len(m.group()))\n",
    "print(doc[m.end():])"
   ]
  },
  {
   "cell_type": "code",
   "execution_count": null,
   "metadata": {},
   "outputs": [],
   "source": []
  },
  {
   "cell_type": "code",
   "execution_count": null,
   "metadata": {},
   "outputs": [],
   "source": []
  }
 ],
 "metadata": {
  "interpreter": {
   "hash": "c0f2a156638663e52e3310a5b94cba9f1aaa2c6363cff10141cd0a597f3d9860"
  },
  "kernelspec": {
   "display_name": "Python 3.8.6rc1 64-bit ('nltk': venv)",
   "name": "python3"
  },
  "language_info": {
   "codemirror_mode": {
    "name": "ipython",
    "version": 3
   },
   "file_extension": ".py",
   "mimetype": "text/x-python",
   "name": "python",
   "nbconvert_exporter": "python",
   "pygments_lexer": "ipython3",
   "version": "3.8.6"
  },
  "orig_nbformat": 4
 },
 "nbformat": 4,
 "nbformat_minor": 2
}
