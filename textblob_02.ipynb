{
 "cells": [
  {
   "cell_type": "code",
   "execution_count": 2,
   "metadata": {},
   "outputs": [],
   "source": [
    "#유사단어 묶어주는 코드를 설명함\n",
    "from textblob import Word"
   ]
  },
  {
   "cell_type": "code",
   "execution_count": 3,
   "metadata": {},
   "outputs": [],
   "source": [
    "word = Word(\"defend\")"
   ]
  },
  {
   "cell_type": "code",
   "execution_count": 4,
   "metadata": {},
   "outputs": [
    {
     "data": {
      "text/plain": [
       "('defend', textblob.blob.Word)"
      ]
     },
     "execution_count": 4,
     "metadata": {},
     "output_type": "execute_result"
    }
   ],
   "source": [
    "word, type(word)"
   ]
  },
  {
   "cell_type": "code",
   "execution_count": 5,
   "metadata": {},
   "outputs": [],
   "source": [
    "synsets = word.get_synsets()"
   ]
  },
  {
   "cell_type": "code",
   "execution_count": 6,
   "metadata": {},
   "outputs": [
    {
     "data": {
      "text/plain": [
       "[Synset('defend.v.01'),\n",
       " Synset('defend.v.02'),\n",
       " Synset('defend.v.03'),\n",
       " Synset('fight.v.02'),\n",
       " Synset('champion.v.01'),\n",
       " Synset('defend.v.06'),\n",
       " Synset('maintain.v.08')]"
      ]
     },
     "execution_count": 6,
     "metadata": {},
     "output_type": "execute_result"
    }
   ],
   "source": [
    "synsets"
   ]
  },
  {
   "cell_type": "code",
   "execution_count": 7,
   "metadata": {},
   "outputs": [
    {
     "data": {
      "text/plain": [
       "(Synset('defend.v.01'), nltk.corpus.reader.wordnet.Synset)"
      ]
     },
     "execution_count": 7,
     "metadata": {},
     "output_type": "execute_result"
    }
   ],
   "source": [
    "top_syn = synsets[0]\n",
    "top_syn, type(top_syn)"
   ]
  },
  {
   "cell_type": "code",
   "execution_count": 8,
   "metadata": {},
   "outputs": [
    {
     "data": {
      "text/plain": [
       "'defend.v.01'"
      ]
     },
     "execution_count": 8,
     "metadata": {},
     "output_type": "execute_result"
    }
   ],
   "source": [
    "top_syn.name()"
   ]
  },
  {
   "cell_type": "code",
   "execution_count": 9,
   "metadata": {},
   "outputs": [
    {
     "data": {
      "text/plain": [
       "[Lemma('defend.v.01.defend'),\n",
       " Lemma('defend.v.01.support'),\n",
       " Lemma('defend.v.01.fend_for')]"
      ]
     },
     "execution_count": 9,
     "metadata": {},
     "output_type": "execute_result"
    }
   ],
   "source": [
    "# 표제어 추출\n",
    "lemmas = top_syn.lemmas()\n",
    "lemmas"
   ]
  },
  {
   "cell_type": "code",
   "execution_count": 10,
   "metadata": {},
   "outputs": [
    {
     "name": "stdout",
     "output_type": "stream",
     "text": [
      "defend\n",
      "support\n",
      "fend_for\n"
     ]
    }
   ],
   "source": [
    "for lem in lemmas:\n",
    "    print(lem.name())"
   ]
  },
  {
   "cell_type": "code",
   "execution_count": 11,
   "metadata": {},
   "outputs": [],
   "source": [
    "user_input = input()\n",
    "result = []\n",
    "word = Word(user_input)\n",
    "\n",
    "for syn in word.get_synsets():\n",
    "    for lem in syn.lemmas():\n",
    "        name = lem.name()\n",
    "        if name != user_input:\n",
    "            result.append(name)\n"
   ]
  },
  {
   "cell_type": "code",
   "execution_count": 12,
   "metadata": {},
   "outputs": [
    {
     "data": {
      "text/plain": [
       "[]"
      ]
     },
     "execution_count": 12,
     "metadata": {},
     "output_type": "execute_result"
    }
   ],
   "source": [
    "result"
   ]
  },
  {
   "cell_type": "code",
   "execution_count": 19,
   "metadata": {},
   "outputs": [
    {
     "data": {
      "text/plain": [
       "'bank'"
      ]
     },
     "execution_count": 19,
     "metadata": {},
     "output_type": "execute_result"
    }
   ],
   "source": [
    "# bank단어의 뜻을 알아보자\n",
    "# 일단 객체화 해주고\n",
    "word = Word(\"bank\")"
   ]
  },
  {
   "cell_type": "code",
   "execution_count": 14,
   "metadata": {},
   "outputs": [
    {
     "name": "stdout",
     "output_type": "stream",
     "text": [
      "['sloping land (especially the slope beside a body of water)', 'a financial institution that accepts deposits and channels the money into lending activities', 'a long ridge or pile', 'an arrangement of similar objects in a row or in tiers', 'a supply or stock held in reserve for future use (especially in emergencies)', 'the funds held by a gambling house or the dealer in some gambling games', 'a slope in the turn of a road or track; the outside is higher than the inside in order to reduce the effects of centrifugal force', 'a container (usually with a slot in the top) for keeping money at home', 'a building in which the business of banking transacted', 'a flight maneuver; aircraft tips laterally about its longitudinal axis (especially in turning)', 'tip laterally', 'enclose with a bank', 'do business with a bank or keep an account at a bank', 'act as the banker in a game or in gambling', 'be in the banking business', 'put into a bank account', 'cover with ashes so to control the rate of burning', 'have confidence or faith in']\n"
     ]
    }
   ],
   "source": [
    "# 찍어보면 여러개의 뜻이 있음을 알 수 있다\n",
    "print(word.definitions)"
   ]
  },
  {
   "cell_type": "code",
   "execution_count": 15,
   "metadata": {},
   "outputs": [
    {
     "name": "stdout",
     "output_type": "stream",
     "text": [
      "sloping land (especially the slope beside a body of water)\n",
      "a financial institution that accepts deposits and channels the money into lending activities\n",
      "a long ridge or pile\n",
      "an arrangement of similar objects in a row or in tiers\n",
      "a supply or stock held in reserve for future use (especially in emergencies)\n",
      "the funds held by a gambling house or the dealer in some gambling games\n",
      "a slope in the turn of a road or track; the outside is higher than the inside in order to reduce the effects of centrifugal force\n",
      "a container (usually with a slot in the top) for keeping money at home\n",
      "a building in which the business of banking transacted\n",
      "a flight maneuver; aircraft tips laterally about its longitudinal axis (especially in turning)\n",
      "tip laterally\n",
      "enclose with a bank\n",
      "do business with a bank or keep an account at a bank\n",
      "act as the banker in a game or in gambling\n",
      "be in the banking business\n",
      "put into a bank account\n",
      "cover with ashes so to control the rate of burning\n",
      "have confidence or faith in\n"
     ]
    }
   ],
   "source": [
    "# 뜻 하나하나를 다 출력해보기\n",
    "for definition in word.definitions:\n",
    "    print(definition)"
   ]
  },
  {
   "cell_type": "code",
   "execution_count": 21,
   "metadata": {},
   "outputs": [],
   "source": [
    "# 유사한 단어 찾는 라이브러리\n",
    "from textblob.wordnet import Synset"
   ]
  },
  {
   "cell_type": "code",
   "execution_count": 24,
   "metadata": {},
   "outputs": [
    {
     "name": "stdout",
     "output_type": "stream",
     "text": [
      "protect or fight for as a champion\n"
     ]
    }
   ],
   "source": [
    "syn = Synset(\"champion.v.01\")\n",
    "print(syn.definition())"
   ]
  },
  {
   "cell_type": "code",
   "execution_count": 25,
   "metadata": {},
   "outputs": [
    {
     "name": "stdout",
     "output_type": "stream",
     "text": [
      "argue or speak in defense of\n"
     ]
    }
   ],
   "source": [
    "syn = Synset(\"defend.v.01\")\n",
    "print(syn.definition())"
   ]
  },
  {
   "cell_type": "code",
   "execution_count": 37,
   "metadata": {},
   "outputs": [
    {
     "name": "stdout",
     "output_type": "stream",
     "text": [
      "argue or speak in defense of\n",
      "be on the defensive; act against an attack\n",
      "protect against a challenge or attack\n",
      "fight against or resist strongly\n",
      "protect or fight for as a champion\n",
      "be the defense counsel for someone in a trial\n",
      "state or assert\n"
     ]
    }
   ],
   "source": [
    "# defend를 입력해보삼\n",
    "user_input = input()\n",
    "word = Word(user_input)\n",
    "for definition in word.definitions:\n",
    "    print(definition)\n",
    "    "
   ]
  },
  {
   "cell_type": "markdown",
   "metadata": {},
   "source": [
    "# dog와 apple의 유사도 판단"
   ]
  },
  {
   "cell_type": "code",
   "execution_count": 27,
   "metadata": {},
   "outputs": [],
   "source": [
    "syn_1 = Synset(\"dog.n.01\")"
   ]
  },
  {
   "cell_type": "code",
   "execution_count": 28,
   "metadata": {},
   "outputs": [],
   "source": [
    "syn_2 = Synset(\"apple.n.01\")"
   ]
  },
  {
   "cell_type": "code",
   "execution_count": 29,
   "metadata": {},
   "outputs": [
    {
     "data": {
      "text/plain": [
       "0.07692307692307693"
      ]
     },
     "execution_count": 29,
     "metadata": {},
     "output_type": "execute_result"
    }
   ],
   "source": [
    "syn_1.path_similarity(syn_2)"
   ]
  },
  {
   "cell_type": "markdown",
   "metadata": {},
   "source": [
    "# 0.07정도 나왔는데 거의 상관이 없음을 알 수 있음\n",
    "# .path_similarity는 유사도를 알려주는 메소드임\n"
   ]
  },
  {
   "cell_type": "code",
   "execution_count": 65,
   "metadata": {},
   "outputs": [
    {
     "data": {
      "text/plain": [
       "'cat'"
      ]
     },
     "execution_count": 65,
     "metadata": {},
     "output_type": "execute_result"
    }
   ],
   "source": [
    "# cat이라는 단어로 객체화\n",
    "word_1 = Word(\"cat\")\n",
    "word_1"
   ]
  },
  {
   "cell_type": "code",
   "execution_count": 70,
   "metadata": {},
   "outputs": [
    {
     "data": {
      "text/plain": [
       "Synset('cat.n.01')"
      ]
     },
     "execution_count": 70,
     "metadata": {},
     "output_type": "execute_result"
    }
   ],
   "source": [
    "# cat의 첫번째로 나오는 유사단어를 word_1_top_syn에 저장\n",
    "word_1_top_syn = word_1.get_synsets()[0]\n",
    "word_1_top_syn"
   ]
  },
  {
   "cell_type": "code",
   "execution_count": 67,
   "metadata": {},
   "outputs": [
    {
     "data": {
      "text/plain": [
       "'lion'"
      ]
     },
     "execution_count": 67,
     "metadata": {},
     "output_type": "execute_result"
    }
   ],
   "source": [
    "# lion이라는 단어로 객체화\n",
    "word_2 = Word(\"lion\")\n",
    "word_2"
   ]
  },
  {
   "cell_type": "code",
   "execution_count": 76,
   "metadata": {},
   "outputs": [
    {
     "data": {
      "text/plain": [
       "Synset('lion.n.01')"
      ]
     },
     "execution_count": 76,
     "metadata": {},
     "output_type": "execute_result"
    }
   ],
   "source": [
    "word_2_top_syn = word_2.get_synsets()[0]\n",
    "word_2_top_syn"
   ]
  },
  {
   "cell_type": "code",
   "execution_count": 36,
   "metadata": {},
   "outputs": [
    {
     "data": {
      "text/plain": [
       "0.25"
      ]
     },
     "execution_count": 36,
     "metadata": {},
     "output_type": "execute_result"
    }
   ],
   "source": [
    "# 유사도 판단\n",
    "word_1_top_syn.path_similarity(word_2_top_syn)"
   ]
  },
  {
   "cell_type": "markdown",
   "metadata": {},
   "source": [
    "# 도전과제 : \"bank\", \"invest\"\n",
    "# 두 단어 (문자열)이 주어졌을 때, 가장 높은 유사성을 가진 synset의 조합을 찾기!\n",
    "# 이어서 이 두 synset의 이름 정의를 출력해 주는 프로그램"
   ]
  },
  {
   "cell_type": "code",
   "execution_count": 79,
   "metadata": {},
   "outputs": [],
   "source": [
    "# 조합에서 가장 높은 유사성 찾는 함수\n",
    "# 단어 두개를 받아서 \n",
    "def print_syn_definition(word_one = str, word_two = str):\n",
    "    word_one_syns = Word(word_one).get_synsets()# 첫번째 단어의 유사어들 (리스트)\n",
    "    word_two_syns = Word(word_two).get_synsets()# 두번째 단어의 유사어들 (리스트)\n",
    "# 최고의 조합을 None으로 초기화\n",
    "    top_one_syn = None\n",
    "    top_two_syn = None\n",
    "    top_score = 0\n",
    "\n",
    "    for syn1 in word_one_syns:# 유사어들 하나씩 뽑기\n",
    "        for syn2 in word_two_syns:# 유사어들 하나씩 뽑기\n",
    "            score = syn1.path_similarity(syn2) # 두개 단어의 유사도를 비교해서 score에 저장\n",
    "            if score: # score양수이면\n",
    "                if score > top_score: #top_score랑 score랑 비교해서 현재의score가 높으면\n",
    "                    top_score = score # top_score바꿔주고\n",
    "                    top_one_syn = syn1 # 그때의 syn1이 가장 높은 유사어\n",
    "                    top_two_syn = syn2 # 그때의 syn2가 가장 높은 유사어\n",
    "    #top_one_syn이랑 top_two_syn이 둘 다 무언가 들어가 있으면\n",
    "    if top_one_syn and top_two_syn:\n",
    "        print(top_one_syn.name() + \": \" + top_one_syn.definition())\n",
    "        print(top_two_syn.name() + \": \" + top_two_syn.definition())\n",
    "\n",
    "    else:\n",
    "        print(\"유사성을 찾을 수 없네요!\")"
   ]
  },
  {
   "cell_type": "code",
   "execution_count": 80,
   "metadata": {},
   "outputs": [
    {
     "name": "stdout",
     "output_type": "stream",
     "text": [
      "bank.v.05: be in the banking business\n",
      "invest.v.04: provide with power and authority\n"
     ]
    }
   ],
   "source": [
    "print_syn_definition(\"bank\",\"invest\")"
   ]
  },
  {
   "cell_type": "markdown",
   "metadata": {},
   "source": []
  },
  {
   "cell_type": "code",
   "execution_count": null,
   "metadata": {},
   "outputs": [],
   "source": [
    "# 포메팅의 형식이 다른경우\n",
    "#def print_syn_definition(word_one: str, word_two: str):\n",
    "#    word_one_syns = Word(word_one).get_synsets()\n",
    "#    word_two_syns = Word(word_two).get_synsets()\n",
    "#\n",
    "#    top_one_syn = None\n",
    "#    top_two_syn = None\n",
    "#\n",
    "#    top_score = 0\n",
    "#\n",
    "#    for syn1 in word_one_syns:\n",
    "#        for syn2 in word_two_syns:\n",
    "#            score = syn1.path_similarity(syn2)\n",
    "#            if score:\n",
    "#                if score > top_score:\n",
    "#                    top_score = score\n",
    "#                    top_one_syn = syn1\n",
    "#                    top_two_syn = syn2\n",
    "#\n",
    "#    if top_one_syn and top_two_syn:\n",
    "#        # print(top_one_syn.name() + \": \" + top_one_syn.definition())\n",
    "#        # print(top_two_syn.name() + \": \" + top_two_syn.definition())\n",
    "#        print(f\"{top_one_syn.name()} : {top_one_syn.definition()}\") # f-string\n",
    "#        print(f\"{top_two_syn.name()} : {top_two_syn.definition()}\")\n",
    "#        print(\"{} : {}\".format(top_one_syn.name(), top_one_syn.definition()))\n",
    "#        print(\"{} : {}\".format(top_two_syn.name(), top_two_syn.definition()))\n",
    "#        print(\"%s : %s\" % (top_one_syn.name(), top_one_syn.definition()))\n",
    "#        print(\"%s : %s\" % (top_two_syn.name(), top_two_syn.definition()))        \n",
    "#    else:\n",
    "#        print(\"유사성을 찾을 수가 없네요!\")"
   ]
  },
  {
   "cell_type": "code",
   "execution_count": 81,
   "metadata": {},
   "outputs": [
    {
     "name": "stdout",
     "output_type": "stream",
     "text": [
      "bank.n.01: sloping land (especially the slope beside a body of water)\n",
      "lake.n.01: a body of (usually fresh) water surrounded by land\n"
     ]
    }
   ],
   "source": [
    "print_syn_definition(\"bank\", \"lake\")"
   ]
  },
  {
   "cell_type": "code",
   "execution_count": null,
   "metadata": {},
   "outputs": [],
   "source": []
  }
 ],
 "metadata": {
  "interpreter": {
   "hash": "c0f2a156638663e52e3310a5b94cba9f1aaa2c6363cff10141cd0a597f3d9860"
  },
  "kernelspec": {
   "display_name": "Python 3.8.6rc1 64-bit ('nltk': venv)",
   "name": "python3"
  },
  "language_info": {
   "codemirror_mode": {
    "name": "ipython",
    "version": 3
   },
   "file_extension": ".py",
   "mimetype": "text/x-python",
   "name": "python",
   "nbconvert_exporter": "python",
   "pygments_lexer": "ipython3",
   "version": "3.8.6rc1"
  },
  "orig_nbformat": 4
 },
 "nbformat": 4,
 "nbformat_minor": 2
}
