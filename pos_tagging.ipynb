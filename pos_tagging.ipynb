{
 "cells": [
  {
   "cell_type": "code",
   "execution_count": 2,
   "metadata": {},
   "outputs": [],
   "source": [
    "#라이브 러리 소환\n",
    "import numpy as np\n",
    "import pandas as pd\n",
    "import matplotlib.pyplot as plt\n",
    "import nltk"
   ]
  },
  {
   "cell_type": "markdown",
   "metadata": {},
   "source": [
    "# 이 코드에서는 문장을 형태소로 분류해주는 pos_tagging을 해 볼 것이다.\n",
    "Part-Of-Speech tagging(POS tagging)은 문장 내 단어들의 품사를 식별하여 태그를 붙여주는 것을 말한다.  투플(tuple)의 형태로 출력되며 (단어, 태그)로 출력된다. 여기서 태그는 품사(POS) 태그다.\n",
    "\n",
    "# https://excelsior-cjh.tistory.com/71\n",
    "\n"
   ]
  },
  {
   "cell_type": "markdown",
   "metadata": {},
   "source": [
    "# Sentence : I left my phone on the left side of the room."
   ]
  },
  {
   "cell_type": "code",
   "execution_count": 3,
   "metadata": {},
   "outputs": [],
   "source": [
    "# 토큰화\n",
    "text = nltk.word_tokenize(\"I left my phone on the left side of the room.\")"
   ]
  },
  {
   "cell_type": "code",
   "execution_count": 4,
   "metadata": {},
   "outputs": [
    {
     "name": "stdout",
     "output_type": "stream",
     "text": [
      "['I', 'left', 'my', 'phone', 'on', 'the', 'left', 'side', 'of', 'the', 'room', '.']\n"
     ]
    }
   ],
   "source": [
    "#토큰 출력(형태는 리스트)\n",
    "print(text)"
   ]
  },
  {
   "cell_type": "code",
   "execution_count": 5,
   "metadata": {},
   "outputs": [],
   "source": [
    "# 토큰화한 단어들 태깅\n",
    "tagged_text = nltk.pos_tag(text)"
   ]
  },
  {
   "cell_type": "code",
   "execution_count": 6,
   "metadata": {},
   "outputs": [
    {
     "data": {
      "text/plain": [
       "[('I', 'PRP'),\n",
       " ('left', 'VBD'),\n",
       " ('my', 'PRP$'),\n",
       " ('phone', 'NN'),\n",
       " ('on', 'IN'),\n",
       " ('the', 'DT'),\n",
       " ('left', 'JJ'),\n",
       " ('side', 'NN'),\n",
       " ('of', 'IN'),\n",
       " ('the', 'DT'),\n",
       " ('room', 'NN'),\n",
       " ('.', '.')]"
      ]
     },
     "execution_count": 6,
     "metadata": {},
     "output_type": "execute_result"
    }
   ],
   "source": [
    "#투플 형태로 짝을 이루어 태깅된것들 출력하기\n",
    "tagged_text"
   ]
  },
  {
   "cell_type": "markdown",
   "metadata": {},
   "source": [
    "# 태깅 참조표\n",
    "| Tag  | Description                            | 설명             | Example                        |\n",
    "| ---- | :------------------------------------- | ---------------- | ------------------------------ |\n",
    "| CC   | coordinating  conjuntion               |                  |                                |\n",
    "| CD   | cardinal digit                         |                  |                                |\n",
    "| DT   | determiner                             |                  |                                |\n",
    "| EX   | existential there                      |                  | 'there' is.., 'there' exists.. |\n",
    "| FW   | foreign word                           |                  |                                |\n",
    "| IN   | preposition/subordiateing  conjunction |                  |                                |\n",
    "| JJ   | adjective                              | 형용사           | 'big'                          |\n",
    "| JJR  | adjective,  comparative                | 형용사, 비교급   | 'bigger'                       |\n",
    "| JJS  | adjective,  superlative                | 형용사, 최상급   | 'biggest'                      |\n",
    "| LS   | list marker                            |                  | '1)'                           |\n",
    "| MD   | modal                                  |                  | 'could', 'will'                |\n",
    "| NN   | noun, singular                         | 명사, 단수형     | 'desk'                         |\n",
    "| NNS  | noun, plural                           | 명사, 복수형     | 'desks'                        |\n",
    "| NNP  | proper noun, singular                  | 고유명사, 단수형 | 'Harrison'                     |\n",
    "| NNPS | proper noun, plural                    | 고유명사, 복수형 | 'Americans'                    |\n",
    "| PDT  | predeterminer                          |                  | 'all the kids'                 |\n",
    "| POS  | possessive ending                      |                  | 'parent's '                    |\n",
    "| PRP  | personal pronoun                       | 인칭 대명사      | 'I', 'he', 'she'               |\n",
    "| PRP$ | possessive pronoun                     | 소유 대명사      | 'my', 'his', 'hers'            |\n",
    "| RB   | adverb                                 | 형용사           | 'very', 'silently'             |\n",
    "| RBR  | adverb, comparative                    | 형용사, 비교급   | 'better'                       |\n",
    "| RBS  | adverb, superlative                    | 형용사, 최상급   | 'best'                         |\n",
    "| RP   | particle                               |                  | 'give up'                      |\n",
    "| TO   | to                                     |                  | go  'to' the store             |\n",
    "| UH   | interjection                           |                  | 'errrrrm'                      |\n",
    "| VB   | verb, base form                        | 동사, 원형       | 'take'                         |\n",
    "| VBD  | verb, past tense                       | 동사, 과거형     | 'took'                         |\n",
    "| VBG  | verb, gerund/present  participle       | 동사, 현재분사   | 'taking'                       |\n",
    "| VBN  | verb, past participle                  | 동사, 과거분사   | 'taken'                        |\n",
    "| VBP  | verb, sing. Present,  non-3d           |                  | 'take'                         |\n",
    "| VBZ  | verb, 3rd person  sing. Present        |                  | 'takes'                        |\n",
    "| WDT  | wh-determiner                          |                  | 'which'                        |\n",
    "| WP   | wh-pronoun                             |                  | 'who', 'what'                  |\n",
    "| WP$  | possessive                             |                  | 'wh-pronoun', 'whose'          |\n",
    "| WRB  | wh-adverb                              |                  | 'where', 'when'                |"
   ]
  },
  {
   "cell_type": "markdown",
   "metadata": {},
   "source": [
    "# Sentence : Who will play with the dog while they are at the play?"
   ]
  },
  {
   "cell_type": "code",
   "execution_count": 7,
   "metadata": {},
   "outputs": [
    {
     "data": {
      "text/plain": [
       "['Who',\n",
       " 'will',\n",
       " 'play',\n",
       " 'with',\n",
       " 'the',\n",
       " 'dog',\n",
       " 'while',\n",
       " 'they',\n",
       " 'are',\n",
       " 'at',\n",
       " 'the',\n",
       " 'play',\n",
       " '?']"
      ]
     },
     "execution_count": 7,
     "metadata": {},
     "output_type": "execute_result"
    }
   ],
   "source": [
    "# 문장을 단어로 토큰화\n",
    "text = nltk.word_tokenize(\"Who will play with the dog while they are at the play?\")\n",
    "text"
   ]
  },
  {
   "cell_type": "code",
   "execution_count": 8,
   "metadata": {},
   "outputs": [
    {
     "data": {
      "text/plain": [
       "[('Who', 'WP'),\n",
       " ('will', 'MD'),\n",
       " ('play', 'VB'),\n",
       " ('with', 'IN'),\n",
       " ('the', 'DT'),\n",
       " ('dog', 'NN'),\n",
       " ('while', 'IN'),\n",
       " ('they', 'PRP'),\n",
       " ('are', 'VBP'),\n",
       " ('at', 'IN'),\n",
       " ('the', 'DT'),\n",
       " ('play', 'NN'),\n",
       " ('?', '.')]"
      ]
     },
     "execution_count": 8,
     "metadata": {},
     "output_type": "execute_result"
    }
   ],
   "source": [
    "# 태깅 과정\n",
    "# input : 단어 리스트\n",
    "# output : 단어 태깅 리스트\n",
    "tagged_text = nltk.pos_tag(text)\n",
    "tagged_text"
   ]
  },
  {
   "cell_type": "code",
   "execution_count": 10,
   "metadata": {},
   "outputs": [
    {
     "data": {
      "text/plain": [
       "[('Who', 'WP'),\n",
       " ('will', 'MD'),\n",
       " ('play', 'VB'),\n",
       " ('with', 'IN'),\n",
       " ('the', 'DT'),\n",
       " ('dog', 'NN'),\n",
       " ('while', 'IN'),\n",
       " ('they', 'PRP'),\n",
       " ('are', 'VBP'),\n",
       " ('at', 'IN'),\n",
       " ('the', 'DT'),\n",
       " ('play', 'NN'),\n",
       " ('?', '.')]"
      ]
     },
     "execution_count": 10,
     "metadata": {},
     "output_type": "execute_result"
    }
   ],
   "source": [
    "# 단어들을 태깅(위 참조표 확인)\n",
    "tagged_text"
   ]
  },
  {
   "cell_type": "code",
   "execution_count": 10,
   "metadata": {},
   "outputs": [],
   "source": [
    "# brown은 카테고리 별로 코퍼스(언어학)를 나눠놓은 패키지임\n",
    "\n",
    "from nltk.corpus import brown"
   ]
  },
  {
   "cell_type": "code",
   "execution_count": 12,
   "metadata": {},
   "outputs": [
    {
     "data": {
      "text/plain": [
       "[[('The', 'AT'), ('Fulton', 'NP-TL'), ('County', 'NN-TL'), ('Grand', 'JJ-TL'), ('Jury', 'NN-TL'), ('said', 'VBD'), ('Friday', 'NR'), ('an', 'AT'), ('investigation', 'NN'), ('of', 'IN'), (\"Atlanta's\", 'NP$'), ('recent', 'JJ'), ('primary', 'NN'), ('election', 'NN'), ('produced', 'VBD'), ('``', '``'), ('no', 'AT'), ('evidence', 'NN'), (\"''\", \"''\"), ('that', 'CS'), ('any', 'DTI'), ('irregularities', 'NNS'), ('took', 'VBD'), ('place', 'NN'), ('.', '.')], [('The', 'AT'), ('jury', 'NN'), ('further', 'RBR'), ('said', 'VBD'), ('in', 'IN'), ('term-end', 'NN'), ('presentments', 'NNS'), ('that', 'CS'), ('the', 'AT'), ('City', 'NN-TL'), ('Executive', 'JJ-TL'), ('Committee', 'NN-TL'), (',', ','), ('which', 'WDT'), ('had', 'HVD'), ('over-all', 'JJ'), ('charge', 'NN'), ('of', 'IN'), ('the', 'AT'), ('election', 'NN'), (',', ','), ('``', '``'), ('deserves', 'VBZ'), ('the', 'AT'), ('praise', 'NN'), ('and', 'CC'), ('thanks', 'NNS'), ('of', 'IN'), ('the', 'AT'), ('City', 'NN-TL'), ('of', 'IN-TL'), ('Atlanta', 'NP-TL'), (\"''\", \"''\"), ('for', 'IN'), ('the', 'AT'), ('manner', 'NN'), ('in', 'IN'), ('which', 'WDT'), ('the', 'AT'), ('election', 'NN'), ('was', 'BEDZ'), ('conducted', 'VBN'), ('.', '.')], ...]"
      ]
     },
     "execution_count": 12,
     "metadata": {},
     "output_type": "execute_result"
    }
   ],
   "source": [
    "# 뉴스 카테고리에서 문장들 태깅\n",
    "brown_tagged_sents = brown.tagged_sents(categories=\"news\")\n",
    "brown_tagged_sents"
   ]
  },
  {
   "cell_type": "code",
   "execution_count": 13,
   "metadata": {},
   "outputs": [
    {
     "data": {
      "text/plain": [
       "[['The', 'Fulton', 'County', 'Grand', 'Jury', 'said', 'Friday', 'an', 'investigation', 'of', \"Atlanta's\", 'recent', 'primary', 'election', 'produced', '``', 'no', 'evidence', \"''\", 'that', 'any', 'irregularities', 'took', 'place', '.'], ['The', 'jury', 'further', 'said', 'in', 'term-end', 'presentments', 'that', 'the', 'City', 'Executive', 'Committee', ',', 'which', 'had', 'over-all', 'charge', 'of', 'the', 'election', ',', '``', 'deserves', 'the', 'praise', 'and', 'thanks', 'of', 'the', 'City', 'of', 'Atlanta', \"''\", 'for', 'the', 'manner', 'in', 'which', 'the', 'election', 'was', 'conducted', '.'], ...]"
      ]
     },
     "execution_count": 13,
     "metadata": {},
     "output_type": "execute_result"
    }
   ],
   "source": [
    "# 뉴스 카테고리에서 문장들을 토큰화\n",
    "# 각 요소의 인덱스 마다 하나의 문장 토큰화되어 들어가 있음\n",
    "# 아래에서 regex로 분류해보기 위해서 함\n",
    "brown_sents = brown.sents(categories=\"news\")\n",
    "brown_sents"
   ]
  },
  {
   "cell_type": "code",
   "execution_count": 13,
   "metadata": {},
   "outputs": [
    {
     "data": {
      "text/plain": [
       "(nltk.corpus.reader.util.ConcatenatedCorpusView, 4623)"
      ]
     },
     "execution_count": 13,
     "metadata": {},
     "output_type": "execute_result"
    }
   ],
   "source": [
    "# 4323개의 문장\n",
    "type(brown_sents), len(brown_sents)"
   ]
  },
  {
   "cell_type": "code",
   "execution_count": 15,
   "metadata": {},
   "outputs": [],
   "source": [
    "# Regular Expresion Tagger\n",
    "# 패턴 만들어서 집어 넣기\n",
    "patterns = [\n",
    "    (r\".*ing$\", \"VBG\"),\n",
    "    (r\".*ed$\", \"VBD\"),\n",
    "    (r\".*es$\", \"VBZ\"),\n",
    "    (r\".*ould$\", \"MD\"),\n",
    "    (r\".*\\'s$\", \"NN$\"),\n",
    "    (r\".*s$\", \"NNS\"),\n",
    "    (r\"^-?[0-9]+(\\.[0-9]+)?$\", \"CD\"),\n",
    "    (r\".*\", \"NN\")\n",
    "]"
   ]
  },
  {
   "cell_type": "code",
   "execution_count": 16,
   "metadata": {},
   "outputs": [
    {
     "data": {
      "text/plain": [
       "<Regexp Tagger: size=8>"
      ]
     },
     "execution_count": 16,
     "metadata": {},
     "output_type": "execute_result"
    }
   ],
   "source": [
    "# nltk.RegexpTagger이용해서 패턴 적용하기\n",
    "# regexp_tagger 라는 객체에 저장\n",
    "regexp_tagger = nltk.RegexpTagger(patterns)\n",
    "regexp_tagger"
   ]
  },
  {
   "cell_type": "code",
   "execution_count": 16,
   "metadata": {},
   "outputs": [
    {
     "name": "stdout",
     "output_type": "stream",
     "text": [
      "['The', 'largest', 'hurdle', 'the', 'Republicans', 'would', 'have', 'to', 'face', 'is', 'a', 'state', 'law', 'which', 'says', 'that', 'before', 'making', 'a', 'first', 'race', ',', 'one', 'of', 'two', 'alternative', 'courses', 'must', 'be', 'taken', ':', '1']\n"
     ]
    }
   ],
   "source": [
    "# brwon 뉴스카테고리중 51번째 문장 가져오기\n",
    "print(brown_sents[50])"
   ]
  },
  {
   "cell_type": "code",
   "execution_count": 17,
   "metadata": {},
   "outputs": [
    {
     "name": "stdout",
     "output_type": "stream",
     "text": [
      "[('The', 'NN'), ('largest', 'NN'), ('hurdle', 'NN'), ('the', 'NN'), ('Republicans', 'NNS'), ('would', 'MD'), ('have', 'NN'), ('to', 'NN'), ('face', 'NN'), ('is', 'NNS'), ('a', 'NN'), ('state', 'NN'), ('law', 'NN'), ('which', 'NN'), ('says', 'NNS'), ('that', 'NN'), ('before', 'NN'), ('making', 'VBG'), ('a', 'NN'), ('first', 'NN'), ('race', 'NN'), (',', 'NN'), ('one', 'NN'), ('of', 'NN'), ('two', 'NN'), ('alternative', 'NN'), ('courses', 'VBZ'), ('must', 'NN'), ('be', 'NN'), ('taken', 'NN'), (':', 'NN'), ('1', 'CD')]\n"
     ]
    }
   ],
   "source": [
    "# regexp_tagger 라는 객체에서 51번째 문장에 패턴을 적용해보기\n",
    "print(regexp_tagger.tag(brown_sents[50]))"
   ]
  },
  {
   "cell_type": "code",
   "execution_count": 18,
   "metadata": {},
   "outputs": [
    {
     "name": "stdout",
     "output_type": "stream",
     "text": [
      "[('The', 'DT'), ('largest', 'JJS'), ('hurdle', 'NN'), ('the', 'DT'), ('Republicans', 'NNPS'), ('would', 'MD'), ('have', 'VB'), ('to', 'TO'), ('face', 'NN'), ('is', 'VBZ'), ('a', 'DT'), ('state', 'NN'), ('law', 'NN'), ('which', 'WDT'), ('says', 'VBZ'), ('that', 'IN'), ('before', 'IN'), ('making', 'VBG'), ('a', 'DT'), ('first', 'JJ'), ('race', 'NN'), (',', ','), ('one', 'CD'), ('of', 'IN'), ('two', 'CD'), ('alternative', 'JJ'), ('courses', 'NNS'), ('must', 'MD'), ('be', 'VB'), ('taken', 'VBN'), (':', ':'), ('1', 'CD')]\n"
     ]
    }
   ],
   "source": [
    "# 그냥 pos_tag에 적용해보기\n",
    "print(nltk.pos_tag(brown_sents[50]))"
   ]
  },
  {
   "cell_type": "code",
   "execution_count": 18,
   "metadata": {},
   "outputs": [
    {
     "data": {
      "text/plain": [
       "0.20186168625812995"
      ]
     },
     "execution_count": 18,
     "metadata": {},
     "output_type": "execute_result"
    }
   ],
   "source": [
    "# nltk에서 제공하는 태깅을 라벨로 \n",
    "# evaluate(gold)\tScore the accuracy of the tagger against the gold standard.\n",
    "# 즉, 목표의 기준과 객체의 패턴을 비교해서 정확도를 알려주는 함수이다.\n",
    "regexp_tagger.evaluate(brown_tagged_sents)"
   ]
  },
  {
   "cell_type": "code",
   "execution_count": 20,
   "metadata": {},
   "outputs": [
    {
     "data": {
      "text/plain": [
       "['The', 'Fulton', 'County', 'Grand', 'Jury', 'said', ...]"
      ]
     },
     "execution_count": 20,
     "metadata": {},
     "output_type": "execute_result"
    }
   ],
   "source": [
    "brown.words(categories = \"news\")"
   ]
  },
  {
   "cell_type": "code",
   "execution_count": 33,
   "metadata": {},
   "outputs": [
    {
     "data": {
      "text/plain": [
       "FreqDist({'the': 5580, ',': 5188, '.': 4030, 'of': 2849, 'and': 2146, 'to': 2116, 'a': 1993, 'in': 1893, 'for': 943, 'The': 806, ...})"
      ]
     },
     "execution_count": 33,
     "metadata": {},
     "output_type": "execute_result"
    }
   ],
   "source": [
    "# Lookup Tagger\n",
    "# 또다른 방식의 태거이다.\n",
    "# 일단 FreqDist 이용하여 뉴스 카테고리 단어들의 빈도수 체크\n",
    "fd = nltk.FreqDist(brown.words(categories = \"news\"))\n",
    "fd"
   ]
  },
  {
   "cell_type": "code",
   "execution_count": 34,
   "metadata": {},
   "outputs": [
    {
     "data": {
      "text/plain": [
       "<ConditionalFreqDist with 14394 conditions>"
      ]
     },
     "execution_count": 34,
     "metadata": {},
     "output_type": "execute_result"
    }
   ],
   "source": [
    "cfd = nltk.ConditionalFreqDist(brown.tagged_words(categories = \"news\")) # 특정 단어에 어떤 태그가 몇 번 사용되었는지 계산\n",
    "cfd"
   ]
  },
  {
   "cell_type": "code",
   "execution_count": 31,
   "metadata": {},
   "outputs": [],
   "source": [
    "# most_common은 빈도수가 높은 순서대로 내림차순 만들어 주는 것 같음\n",
    "# 세부적인 알고리즘은 이해 하지 못했음\n",
    "# nltk.FreqDist.most_common, List the n most common elements and their counts from the most common to the least. If n is None, then list all element counts.\n",
    "most_freq_words = fd.most_common(100)"
   ]
  },
  {
   "cell_type": "code",
   "execution_count": 32,
   "metadata": {},
   "outputs": [
    {
     "data": {
      "text/plain": [
       "[('the', 5580),\n",
       " (',', 5188),\n",
       " ('.', 4030),\n",
       " ('of', 2849),\n",
       " ('and', 2146),\n",
       " ('to', 2116),\n",
       " ('a', 1993),\n",
       " ('in', 1893),\n",
       " ('for', 943),\n",
       " ('The', 806),\n",
       " ('that', 802),\n",
       " ('``', 732),\n",
       " ('is', 732),\n",
       " ('was', 717),\n",
       " (\"''\", 702),\n",
       " ('on', 657),\n",
       " ('at', 598),\n",
       " ('with', 545),\n",
       " ('be', 526),\n",
       " ('by', 497),\n",
       " ('as', 481),\n",
       " ('he', 451),\n",
       " ('said', 402),\n",
       " ('his', 399),\n",
       " ('will', 389),\n",
       " ('it', 363),\n",
       " ('from', 344),\n",
       " ('are', 328),\n",
       " (';', 314),\n",
       " ('an', 300),\n",
       " ('has', 300),\n",
       " ('--', 300),\n",
       " ('had', 279),\n",
       " ('who', 268),\n",
       " ('have', 265),\n",
       " ('not', 254),\n",
       " ('Mrs.', 253),\n",
       " ('were', 252),\n",
       " ('this', 250),\n",
       " ('which', 244),\n",
       " ('would', 244),\n",
       " ('their', 219),\n",
       " ('been', 212),\n",
       " ('they', 205),\n",
       " ('He', 191),\n",
       " ('one', 184),\n",
       " ('I', 179),\n",
       " ('but', 174),\n",
       " ('its', 174),\n",
       " ('or', 173),\n",
       " (')', 171),\n",
       " ('more', 171),\n",
       " ('Mr.', 170),\n",
       " ('(', 168),\n",
       " ('up', 168),\n",
       " ('all', 163),\n",
       " ('out', 161),\n",
       " ('last', 161),\n",
       " ('two', 157),\n",
       " ('other', 149),\n",
       " (':', 149),\n",
       " ('new', 148),\n",
       " ('first', 143),\n",
       " ('than', 138),\n",
       " ('year', 138),\n",
       " ('A', 137),\n",
       " ('about', 136),\n",
       " ('there', 131),\n",
       " ('when', 128),\n",
       " ('home', 127),\n",
       " ('after', 127),\n",
       " ('In', 127),\n",
       " ('also', 120),\n",
       " ('It', 115),\n",
       " ('over', 115),\n",
       " ('into', 114),\n",
       " ('no', 109),\n",
       " ('But', 109),\n",
       " ('made', 107),\n",
       " ('only', 103),\n",
       " ('her', 103),\n",
       " ('years', 102),\n",
       " ('time', 97),\n",
       " ('three', 97),\n",
       " ('them', 96),\n",
       " ('some', 95),\n",
       " ('can', 93),\n",
       " ('him', 93),\n",
       " ('New', 93),\n",
       " ('any', 90),\n",
       " ('state', 90),\n",
       " ('?', 90),\n",
       " ('President', 89),\n",
       " ('before', 86),\n",
       " ('week', 86),\n",
       " ('could', 86),\n",
       " ('under', 83),\n",
       " ('against', 78),\n",
       " ('we', 77),\n",
       " ('what', 76)]"
      ]
     },
     "execution_count": 32,
     "metadata": {},
     "output_type": "execute_result"
    }
   ],
   "source": [
    "most_freq_words"
   ]
  },
  {
   "cell_type": "code",
   "execution_count": 24,
   "metadata": {},
   "outputs": [],
   "source": [
    "# 이 부분은 이해가 안감\n",
    "likely_tags = dict( (word, cfd[word].max()) for (word, _) in most_freq_words )"
   ]
  },
  {
   "cell_type": "code",
   "execution_count": 25,
   "metadata": {},
   "outputs": [
    {
     "data": {
      "text/plain": [
       "{'the': 'AT',\n",
       " ',': ',',\n",
       " '.': '.',\n",
       " 'of': 'IN',\n",
       " 'and': 'CC',\n",
       " 'to': 'TO',\n",
       " 'a': 'AT',\n",
       " 'in': 'IN',\n",
       " 'for': 'IN',\n",
       " 'The': 'AT',\n",
       " 'that': 'CS',\n",
       " '``': '``',\n",
       " 'is': 'BEZ',\n",
       " 'was': 'BEDZ',\n",
       " \"''\": \"''\",\n",
       " 'on': 'IN',\n",
       " 'at': 'IN',\n",
       " 'with': 'IN',\n",
       " 'be': 'BE',\n",
       " 'by': 'IN',\n",
       " 'as': 'CS',\n",
       " 'he': 'PPS',\n",
       " 'said': 'VBD',\n",
       " 'his': 'PP$',\n",
       " 'will': 'MD',\n",
       " 'it': 'PPS',\n",
       " 'from': 'IN',\n",
       " 'are': 'BER',\n",
       " ';': '.',\n",
       " 'an': 'AT',\n",
       " 'has': 'HVZ',\n",
       " '--': '--',\n",
       " 'had': 'HVD',\n",
       " 'who': 'WPS',\n",
       " 'have': 'HV',\n",
       " 'not': '*',\n",
       " 'Mrs.': 'NP',\n",
       " 'were': 'BED',\n",
       " 'this': 'DT',\n",
       " 'which': 'WDT',\n",
       " 'would': 'MD',\n",
       " 'their': 'PP$',\n",
       " 'been': 'BEN',\n",
       " 'they': 'PPSS',\n",
       " 'He': 'PPS',\n",
       " 'one': 'CD',\n",
       " 'I': 'PPSS',\n",
       " 'but': 'CC',\n",
       " 'its': 'PP$',\n",
       " 'or': 'CC',\n",
       " ')': ')',\n",
       " 'more': 'AP',\n",
       " 'Mr.': 'NP',\n",
       " '(': '(',\n",
       " 'up': 'RP',\n",
       " 'all': 'ABN',\n",
       " 'out': 'RP',\n",
       " 'last': 'AP',\n",
       " 'two': 'CD',\n",
       " 'other': 'AP',\n",
       " ':': ':',\n",
       " 'new': 'JJ',\n",
       " 'first': 'OD',\n",
       " 'than': 'IN',\n",
       " 'year': 'NN',\n",
       " 'A': 'AT',\n",
       " 'about': 'IN',\n",
       " 'there': 'EX',\n",
       " 'when': 'WRB',\n",
       " 'home': 'NN',\n",
       " 'after': 'IN',\n",
       " 'In': 'IN',\n",
       " 'also': 'RB',\n",
       " 'It': 'PPS',\n",
       " 'over': 'IN',\n",
       " 'into': 'IN',\n",
       " 'no': 'AT',\n",
       " 'But': 'CC',\n",
       " 'made': 'VBN',\n",
       " 'only': 'AP',\n",
       " 'her': 'PP$',\n",
       " 'years': 'NNS',\n",
       " 'time': 'NN',\n",
       " 'three': 'CD',\n",
       " 'them': 'PPO',\n",
       " 'some': 'DTI',\n",
       " 'can': 'MD',\n",
       " 'him': 'PPO',\n",
       " 'New': 'JJ-TL',\n",
       " 'any': 'DTI',\n",
       " 'state': 'NN',\n",
       " '?': '.',\n",
       " 'President': 'NN-TL',\n",
       " 'before': 'IN',\n",
       " 'week': 'NN',\n",
       " 'could': 'MD',\n",
       " 'under': 'IN',\n",
       " 'against': 'IN',\n",
       " 'we': 'PPSS',\n",
       " 'what': 'WDT'}"
      ]
     },
     "execution_count": 25,
     "metadata": {},
     "output_type": "execute_result"
    }
   ],
   "source": [
    "likely_tags"
   ]
  },
  {
   "cell_type": "code",
   "execution_count": 26,
   "metadata": {},
   "outputs": [],
   "source": [
    "# UnigramTagger이용한 태깅\n",
    "lookup_tagger = nltk.UnigramTagger(model=likely_tags)"
   ]
  },
  {
   "cell_type": "code",
   "execution_count": 27,
   "metadata": {},
   "outputs": [
    {
     "data": {
      "text/plain": [
       "0.45578495136941344"
      ]
     },
     "execution_count": 27,
     "metadata": {},
     "output_type": "execute_result"
    }
   ],
   "source": [
    "lookup_tagger.evaluate(brown_tagged_sents)"
   ]
  },
  {
   "cell_type": "code",
   "execution_count": 28,
   "metadata": {},
   "outputs": [
    {
     "data": {
      "text/plain": [
       "['``',\n",
       " 'Only',\n",
       " 'a',\n",
       " 'relative',\n",
       " 'handful',\n",
       " 'of',\n",
       " 'such',\n",
       " 'reports',\n",
       " 'was',\n",
       " 'received',\n",
       " \"''\",\n",
       " ',',\n",
       " 'the',\n",
       " 'jury',\n",
       " 'said',\n",
       " ',',\n",
       " '``',\n",
       " 'considering',\n",
       " 'the',\n",
       " 'widespread',\n",
       " 'interest',\n",
       " 'in',\n",
       " 'the',\n",
       " 'election',\n",
       " ',',\n",
       " 'the',\n",
       " 'number',\n",
       " 'of',\n",
       " 'voters',\n",
       " 'and',\n",
       " 'the',\n",
       " 'size',\n",
       " 'of',\n",
       " 'this',\n",
       " 'city',\n",
       " \"''\",\n",
       " '.']"
      ]
     },
     "execution_count": 28,
     "metadata": {},
     "output_type": "execute_result"
    }
   ],
   "source": [
    "# 뉴스 카테고리의 4번쨰 문장을 받아오기\n",
    "# 그 다음에 토큰화까지 해줌\n",
    "sent = brown.sents(categories = \"news\")[3]\n",
    "sent"
   ]
  },
  {
   "cell_type": "code",
   "execution_count": 29,
   "metadata": {},
   "outputs": [
    {
     "data": {
      "text/plain": [
       "[('``', '``'),\n",
       " ('Only', None),\n",
       " ('a', 'AT'),\n",
       " ('relative', None),\n",
       " ('handful', None),\n",
       " ('of', 'IN'),\n",
       " ('such', None),\n",
       " ('reports', None),\n",
       " ('was', 'BEDZ'),\n",
       " ('received', None),\n",
       " (\"''\", \"''\"),\n",
       " (',', ','),\n",
       " ('the', 'AT'),\n",
       " ('jury', None),\n",
       " ('said', 'VBD'),\n",
       " (',', ','),\n",
       " ('``', '``'),\n",
       " ('considering', None),\n",
       " ('the', 'AT'),\n",
       " ('widespread', None),\n",
       " ('interest', None),\n",
       " ('in', 'IN'),\n",
       " ('the', 'AT'),\n",
       " ('election', None),\n",
       " (',', ','),\n",
       " ('the', 'AT'),\n",
       " ('number', None),\n",
       " ('of', 'IN'),\n",
       " ('voters', None),\n",
       " ('and', 'CC'),\n",
       " ('the', 'AT'),\n",
       " ('size', None),\n",
       " ('of', 'IN'),\n",
       " ('this', 'DT'),\n",
       " ('city', None),\n",
       " (\"''\", \"''\"),\n",
       " ('.', '.')]"
      ]
     },
     "execution_count": 29,
     "metadata": {},
     "output_type": "execute_result"
    }
   ],
   "source": [
    "# 태깅해주기\n",
    "lookup_tagger.tag(sent)"
   ]
  },
  {
   "cell_type": "markdown",
   "metadata": {},
   "source": [
    "# Part-Of-Speech (POS) Tagging\n",
    "\n",
    "# Rule-Based Tagger:\n",
    "## Regular Expresion Tagger\n",
    "## Lookup Tagger"
   ]
  },
  {
   "cell_type": "code",
   "execution_count": 30,
   "metadata": {},
   "outputs": [
    {
     "data": {
      "text/plain": [
       "4160"
      ]
     },
     "execution_count": 30,
     "metadata": {},
     "output_type": "execute_result"
    }
   ],
   "source": [
    "# stochastic Tagger:\n",
    "\n",
    "# Unigram Tagger\n",
    "# train과 테스트를 분리\n",
    "# 그 기준을 잡아주는 과정 \n",
    "split_size = int(len(brown_tagged_sents) * 0.9)\n",
    "split_size"
   ]
  },
  {
   "cell_type": "code",
   "execution_count": 31,
   "metadata": {},
   "outputs": [],
   "source": [
    "train_sents = brown_tagged_sents[:split_size]\n",
    "test_sents = brown_tagged_sents[split_size:]"
   ]
  },
  {
   "cell_type": "code",
   "execution_count": 32,
   "metadata": {},
   "outputs": [],
   "source": [
    "unigram_tagger = nltk.UnigramTagger(train_sents)"
   ]
  },
  {
   "cell_type": "code",
   "execution_count": 33,
   "metadata": {},
   "outputs": [
    {
     "data": {
      "text/plain": [
       "0.8121200039868434"
      ]
     },
     "execution_count": 33,
     "metadata": {},
     "output_type": "execute_result"
    }
   ],
   "source": [
    "# train_sents가 잘 학습되었나 평가\n",
    "unigram_tagger.evaluate(test_sents)"
   ]
  },
  {
   "cell_type": "code",
   "execution_count": 34,
   "metadata": {},
   "outputs": [],
   "source": [
    "# Bigram Tagger (N-gram Tagger)\n",
    "bigram_tagger = nltk.BigramTagger(train_sents)"
   ]
  },
  {
   "cell_type": "code",
   "execution_count": 35,
   "metadata": {},
   "outputs": [
    {
     "data": {
      "text/plain": [
       "[('800', 'CD'),\n",
       " ('in', 'IN'),\n",
       " ('Southern', 'JJ-TL'),\n",
       " ('New', 'JJ-TL'),\n",
       " ('England', 'NP'),\n",
       " (',', ','),\n",
       " ('we', 'PPSS'),\n",
       " ('have', 'HV'),\n",
       " ('60', 'CD'),\n",
       " (';', '.'),\n",
       " (';', '.')]"
      ]
     },
     "execution_count": 35,
     "metadata": {},
     "output_type": "execute_result"
    }
   ],
   "source": [
    "bigram_tagger.tag(brown_sents[1000])"
   ]
  },
  {
   "cell_type": "code",
   "execution_count": 36,
   "metadata": {},
   "outputs": [
    {
     "data": {
      "text/plain": [
       "0.10206319146815508"
      ]
     },
     "execution_count": 36,
     "metadata": {},
     "output_type": "execute_result"
    }
   ],
   "source": [
    "bigram_tagger.evaluate(test_sents)"
   ]
  },
  {
   "cell_type": "code",
   "execution_count": 37,
   "metadata": {},
   "outputs": [],
   "source": [
    "# I left my phone on the left side of the room.\n",
    "# unigram : I, left, my, phone, on, the , left, side, of, the, room\n",
    "# bigrams : I left, left my, my phone, phone on, on the, the left, left side, side of, of the, the room"
   ]
  },
  {
   "cell_type": "code",
   "execution_count": 38,
   "metadata": {},
   "outputs": [],
   "source": [
    "unseen_sent = brown_sents[4500]"
   ]
  },
  {
   "cell_type": "code",
   "execution_count": 39,
   "metadata": {},
   "outputs": [
    {
     "name": "stdout",
     "output_type": "stream",
     "text": [
      "['Japan', ',', 'since', '1957', ',', 'has', 'been', '``', 'voluntarily', \"''\", 'curbing', 'exports', 'of', 'textiles', 'to', 'the', 'U.S.', '.']\n"
     ]
    }
   ],
   "source": [
    "print(unseen_sent)"
   ]
  },
  {
   "cell_type": "code",
   "execution_count": 40,
   "metadata": {},
   "outputs": [
    {
     "name": "stdout",
     "output_type": "stream",
     "text": [
      "[('Japan', None), (',', None), ('since', None), ('1957', None), (',', None), ('has', None), ('been', None), ('``', None), ('voluntarily', None), (\"''\", None), ('curbing', None), ('exports', None), ('of', None), ('textiles', None), ('to', None), ('the', None), ('U.S.', None), ('.', None)]\n"
     ]
    }
   ],
   "source": [
    "print(bigram_tagger.tag(unseen_sent))"
   ]
  },
  {
   "cell_type": "code",
   "execution_count": 41,
   "metadata": {},
   "outputs": [
    {
     "name": "stdout",
     "output_type": "stream",
     "text": [
      "[('Japan', 'NNP'), (',', ','), ('since', 'IN'), ('1957', 'CD'), (',', ','), ('has', 'VBZ'), ('been', 'VBN'), ('``', '``'), ('voluntarily', 'RB'), (\"''\", \"''\"), ('curbing', 'VBG'), ('exports', 'NNS'), ('of', 'IN'), ('textiles', 'NNS'), ('to', 'TO'), ('the', 'DT'), ('U.S.', 'NNP'), ('.', '.')]\n"
     ]
    }
   ],
   "source": [
    "print(nltk.pos_tag(unseen_sent))"
   ]
  },
  {
   "cell_type": "code",
   "execution_count": 42,
   "metadata": {},
   "outputs": [
    {
     "name": "stdout",
     "output_type": "stream",
     "text": [
      "[('Japan', 'NP'), (',', ','), ('since', 'IN'), ('1957', 'CD'), (',', ','), ('has', 'HVZ'), ('been', 'BEN'), ('``', '``'), ('voluntarily', 'RB'), (\"''\", \"''\"), ('curbing', None), ('exports', None), ('of', 'IN'), ('textiles', None), ('to', 'TO'), ('the', 'AT'), ('U.S.', 'NP'), ('.', '.')]\n"
     ]
    }
   ],
   "source": [
    "print(unigram_tagger.tag(unseen_sent))"
   ]
  },
  {
   "cell_type": "markdown",
   "metadata": {},
   "source": [
    "# 개념은 이해했지만 세부적인 내용은 하나도 이해안된 상태\n",
    "# 원론적인 공부가 필요해보임\n"
   ]
  },
  {
   "cell_type": "code",
   "execution_count": null,
   "metadata": {},
   "outputs": [],
   "source": []
  }
 ],
 "metadata": {
  "interpreter": {
   "hash": "c0f2a156638663e52e3310a5b94cba9f1aaa2c6363cff10141cd0a597f3d9860"
  },
  "kernelspec": {
   "display_name": "Python 3.8.6rc1 64-bit ('nltk': venv)",
   "name": "python3"
  },
  "language_info": {
   "codemirror_mode": {
    "name": "ipython",
    "version": 3
   },
   "file_extension": ".py",
   "mimetype": "text/x-python",
   "name": "python",
   "nbconvert_exporter": "python",
   "pygments_lexer": "ipython3",
   "version": "3.8.6"
  },
  "orig_nbformat": 4
 },
 "nbformat": 4,
 "nbformat_minor": 2
}
