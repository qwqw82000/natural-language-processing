{
 "cells": [
  {
   "cell_type": "markdown",
   "metadata": {},
   "source": [
    "# 맞춤법 검사와 빈도 확인"
   ]
  },
  {
   "cell_type": "code",
   "execution_count": 65,
   "metadata": {},
   "outputs": [],
   "source": [
    "from textblob import TextBlob"
   ]
  },
  {
   "cell_type": "code",
   "execution_count": 66,
   "metadata": {},
   "outputs": [],
   "source": [
    "text = \"I went to the store to buy some apples and bananas. But, when I got there, all of their apples were sold out.\""
   ]
  },
  {
   "cell_type": "code",
   "execution_count": 67,
   "metadata": {},
   "outputs": [
    {
     "data": {
      "text/plain": [
       "(TextBlob(\"I went to the store to buy some apples and bananas. But, when I got there, all of their apples were sold out.\"),\n",
       " textblob.blob.TextBlob)"
      ]
     },
     "execution_count": 67,
     "metadata": {},
     "output_type": "execute_result"
    }
   ],
   "source": [
    "# 가장 먼저 해야하는 bolb만들기\n",
    "blob = TextBlob(text)\n",
    "blob, type(blob)"
   ]
  },
  {
   "cell_type": "code",
   "execution_count": 68,
   "metadata": {},
   "outputs": [
    {
     "data": {
      "text/plain": [
       "WordList(['I', 'went', 'to', 'the', 'store', 'to', 'buy', 'some', 'apples', 'and', 'bananas', 'But', 'when', 'I', 'got', 'there', 'all', 'of', 'their', 'apples', 'were', 'sold', 'out'])"
      ]
     },
     "execution_count": 68,
     "metadata": {},
     "output_type": "execute_result"
    }
   ],
   "source": [
    "# 단어 리스트 만들기\n",
    "blob.words"
   ]
  },
  {
   "cell_type": "code",
   "execution_count": 69,
   "metadata": {},
   "outputs": [
    {
     "data": {
      "text/plain": [
       "23"
      ]
     },
     "execution_count": 69,
     "metadata": {},
     "output_type": "execute_result"
    }
   ],
   "source": [
    "# 단어 개수 세기\n",
    "len(blob.words)"
   ]
  },
  {
   "cell_type": "code",
   "execution_count": 70,
   "metadata": {},
   "outputs": [
    {
     "data": {
      "text/plain": [
       "2"
      ]
     },
     "execution_count": 70,
     "metadata": {},
     "output_type": "execute_result"
    }
   ],
   "source": [
    "# 단어 리스트 내부에 특정 단어가 몇개 있는가\n",
    "blob.words.count(\"apples\")"
   ]
  },
  {
   "cell_type": "code",
   "execution_count": 71,
   "metadata": {},
   "outputs": [
    {
     "data": {
      "text/plain": [
       "0"
      ]
     },
     "execution_count": 71,
     "metadata": {},
     "output_type": "execute_result"
    }
   ],
   "source": [
    "# 단어 리스트 내부에 특정 단어가 몇개 있는가\n",
    "blob.words.count(\"Apples\", case_sensitive = True)"
   ]
  },
  {
   "cell_type": "code",
   "execution_count": 72,
   "metadata": {},
   "outputs": [
    {
     "data": {
      "text/plain": [
       "TextBlob(\"dog dogs running\")"
      ]
     },
     "execution_count": 72,
     "metadata": {},
     "output_type": "execute_result"
    }
   ],
   "source": [
    "# blob 만들기\n",
    "blob_2 = TextBlob(\"dog dogs running\")\n",
    "blob_2"
   ]
  },
  {
   "cell_type": "code",
   "execution_count": 73,
   "metadata": {},
   "outputs": [
    {
     "name": "stdout",
     "output_type": "stream",
     "text": [
      "WORD :  dog\n",
      "SIGN :  dog\n",
      "STEM :  dog\n",
      "-----------------\n",
      "WORD :  dogs\n",
      "SIGN :  dog\n",
      "STEM :  dog\n",
      "-----------------\n",
      "WORD :  running\n",
      "SIGN :  running\n",
      "STEM :  run\n",
      "-----------------\n"
     ]
    }
   ],
   "source": [
    "# 앞에서는 여러가지 귀찮게 사전작업을 해야만 아래 작업들이 가능하지만\n",
    "# textblob에서는 한번에 가능하다\n",
    "for word in blob_2.words:\n",
    "    print(\"WORD : \",word)\n",
    "    print(\"SIGN : \",word.singularize()) # 복수를 단수로 만들어줌\n",
    "    print(\"STEM : \",word.stem())\n",
    "    print(\"-----------------\")"
   ]
  },
  {
   "cell_type": "code",
   "execution_count": 74,
   "metadata": {},
   "outputs": [],
   "source": [
    "blob_3 = TextBlob(\"I was studying Python in th library\")"
   ]
  },
  {
   "cell_type": "code",
   "execution_count": 75,
   "metadata": {},
   "outputs": [],
   "source": [
    "# result_list = list()\n",
    "result_list = []"
   ]
  },
  {
   "cell_type": "code",
   "execution_count": 76,
   "metadata": {},
   "outputs": [],
   "source": [
    "for word in blob_3.words:\n",
    "    result_list.append(word.stem())"
   ]
  },
  {
   "cell_type": "code",
   "execution_count": 77,
   "metadata": {},
   "outputs": [
    {
     "name": "stdout",
     "output_type": "stream",
     "text": [
      "['i', 'wa', 'studi', 'python', 'in', 'th', 'librari']\n"
     ]
    }
   ],
   "source": [
    "print(result_list)"
   ]
  },
  {
   "cell_type": "code",
   "execution_count": 78,
   "metadata": {},
   "outputs": [],
   "source": [
    "# 리스트 요소 이어주기\n",
    "result_string = \" \".join(result_list)"
   ]
  },
  {
   "cell_type": "code",
   "execution_count": 79,
   "metadata": {},
   "outputs": [
    {
     "name": "stdout",
     "output_type": "stream",
     "text": [
      "i wa studi python in th librari\n"
     ]
    }
   ],
   "source": [
    "print(result_string)"
   ]
  },
  {
   "cell_type": "code",
   "execution_count": 80,
   "metadata": {},
   "outputs": [],
   "source": [
    "# blob 만들어 주기\n",
    "#blob_4 = TextBlob(\"I am suuck at spelling\")\n",
    "blob_4 = TextBlob(\"I suuck at spelling\")"
   ]
  },
  {
   "cell_type": "markdown",
   "metadata": {},
   "source": [
    "# **구문:** TextBlob.correct() \n",
    "# **반환:** 철자 오류 없이 올바른 문장을 반환합니다. "
   ]
  },
  {
   "cell_type": "code",
   "execution_count": 81,
   "metadata": {},
   "outputs": [
    {
     "name": "stdout",
     "output_type": "stream",
     "text": [
      "I stuck at spelling\n"
     ]
    }
   ],
   "source": [
    "# 맞춤법 검사기\n",
    "blob_5 = blob_4.correct()\n",
    "print(blob_5)"
   ]
  },
  {
   "cell_type": "code",
   "execution_count": 82,
   "metadata": {},
   "outputs": [],
   "source": [
    "blob_6 = TextBlob(\"What should we eat tonight?\")"
   ]
  },
  {
   "cell_type": "markdown",
   "metadata": {},
   "source": [
    "### 3.5N-그램\n",
    "\n",
    "여러 단어의 조합을 N-Grams라고 합니다. N 그램(N > 1)은 일반적으로 단어에 비해 더 많은 정보를 제공하며 언어 모델링의 기능으로 사용할 수 있습니다. N-gram 은 n개의 연속 단어의 튜플을 반환하는 ***ngrams\\*** 함수를 사용하여 ***TextBlob\\*** 에서 쉽게 액세스할 수 있습니다 ."
   ]
  },
  {
   "cell_type": "code",
   "execution_count": 83,
   "metadata": {},
   "outputs": [
    {
     "name": "stdout",
     "output_type": "stream",
     "text": [
      "[WordList(['What', 'should']), WordList(['should', 'we']), WordList(['we', 'eat']), WordList(['eat', 'tonight'])]\n"
     ]
    }
   ],
   "source": [
    "result = blob_6.ngrams(n=2)\n",
    "print(result)"
   ]
  },
  {
   "cell_type": "code",
   "execution_count": 84,
   "metadata": {},
   "outputs": [
    {
     "name": "stdout",
     "output_type": "stream",
     "text": [
      "[WordList(['What', 'should', 'we']), WordList(['should', 'we', 'eat']), WordList(['we', 'eat', 'tonight'])]\n"
     ]
    }
   ],
   "source": [
    "result = blob_6.ngrams(n=3)\n",
    "print(result)"
   ]
  },
  {
   "cell_type": "code",
   "execution_count": 85,
   "metadata": {},
   "outputs": [
    {
     "data": {
      "text/plain": [
       "WordList(['What', 'should', 'we'])"
      ]
     },
     "execution_count": 85,
     "metadata": {},
     "output_type": "execute_result"
    }
   ],
   "source": [
    "word_list_1 = result[0]\n",
    "word_list_1"
   ]
  },
  {
   "cell_type": "code",
   "execution_count": 86,
   "metadata": {},
   "outputs": [
    {
     "name": "stdout",
     "output_type": "stream",
     "text": [
      "<class 'textblob.blob.WordList'>\n"
     ]
    }
   ],
   "source": [
    "print(type(word_list_1))"
   ]
  },
  {
   "cell_type": "code",
   "execution_count": 87,
   "metadata": {},
   "outputs": [],
   "source": [
    "blob_text_gen = TextBlob(\"I took my dog for a walk in the park when it started raining. Thankfully, I brought my umbrella, but my dog got wet\")"
   ]
  },
  {
   "cell_type": "code",
   "execution_count": 88,
   "metadata": {},
   "outputs": [
    {
     "name": "stdout",
     "output_type": "stream",
     "text": [
      "[WordList(['I', 'took']), WordList(['took', 'my']), WordList(['my', 'dog']), WordList(['dog', 'for']), WordList(['for', 'a']), WordList(['a', 'walk']), WordList(['walk', 'in']), WordList(['in', 'the']), WordList(['the', 'park']), WordList(['park', 'when']), WordList(['when', 'it']), WordList(['it', 'started']), WordList(['started', 'raining']), WordList(['raining', 'Thankfully']), WordList(['Thankfully', 'I']), WordList(['I', 'brought']), WordList(['brought', 'my']), WordList(['my', 'umbrella']), WordList(['umbrella', 'but']), WordList(['but', 'my']), WordList(['my', 'dog']), WordList(['dog', 'got']), WordList(['got', 'wet'])]\n"
     ]
    }
   ],
   "source": [
    "# ngrams로 두개씩 묶어주기\n",
    "n_grams = blob_text_gen.ngrams(n=2)\n",
    "print(n_grams)"
   ]
  },
  {
   "cell_type": "code",
   "execution_count": 89,
   "metadata": {},
   "outputs": [],
   "source": [
    "# n_gram_dic = dict()\n",
    "n_gram_dic = {}"
   ]
  },
  {
   "cell_type": "code",
   "execution_count": 90,
   "metadata": {},
   "outputs": [],
   "source": [
    "# 빈도 찾는 알고리즘\n",
    "for gram in n_grams:\n",
    "    key = \"-\".join(gram)\n",
    "    if key in n_gram_dic:\n",
    "        n_gram_dic[key] += 1\n",
    "    else:\n",
    "        n_gram_dic[key] = 1"
   ]
  },
  {
   "cell_type": "code",
   "execution_count": 91,
   "metadata": {},
   "outputs": [
    {
     "name": "stdout",
     "output_type": "stream",
     "text": [
      "{'I-took': 1, 'took-my': 1, 'my-dog': 2, 'dog-for': 1, 'for-a': 1, 'a-walk': 1, 'walk-in': 1, 'in-the': 1, 'the-park': 1, 'park-when': 1, 'when-it': 1, 'it-started': 1, 'started-raining': 1, 'raining-Thankfully': 1, 'Thankfully-I': 1, 'I-brought': 1, 'brought-my': 1, 'my-umbrella': 1, 'umbrella-but': 1, 'but-my': 1, 'dog-got': 1, 'got-wet': 1}\n"
     ]
    }
   ],
   "source": [
    "print(n_gram_dic)"
   ]
  },
  {
   "cell_type": "code",
   "execution_count": 92,
   "metadata": {},
   "outputs": [
    {
     "name": "stdout",
     "output_type": "stream",
     "text": [
      "count: \n",
      "my dog:  2\n",
      "my umbrella 1\n"
     ]
    }
   ],
   "source": [
    "print(\"count: \")\n",
    "print(\"my dog: \", n_gram_dic[\"my-dog\"])\n",
    "print(\"my umbrella\", n_gram_dic[\"my-umbrella\"])"
   ]
  },
  {
   "cell_type": "code",
   "execution_count": 93,
   "metadata": {},
   "outputs": [
    {
     "name": "stdout",
     "output_type": "stream",
     "text": [
      "0.6666666666666666\n",
      "0.3333333333333333\n"
     ]
    }
   ],
   "source": [
    "p_my_dog = n_gram_dic[\"my-dog\"] / blob_text_gen.words.count(\"my\")\n",
    "p_my_umbrella = n_gram_dic[\"my-umbrella\"] / blob_text_gen.words.count(\"my\")\n",
    "\n",
    "print(p_my_dog)\n",
    "print(p_my_umbrella)"
   ]
  },
  {
   "cell_type": "code",
   "execution_count": 94,
   "metadata": {},
   "outputs": [
    {
     "name": "stdout",
     "output_type": "stream",
     "text": [
      "0.5\n",
      "0.5\n"
     ]
    }
   ],
   "source": [
    "p_dog_for = n_gram_dic[\"dog-for\"] / blob_text_gen.words.count(\"dog\")\n",
    "p_dog_got = n_gram_dic[\"dog-got\"] / blob_text_gen.words.count(\"dog\")\n",
    "\n",
    "print(p_dog_for)\n",
    "print(p_dog_got)"
   ]
  },
  {
   "cell_type": "code",
   "execution_count": 95,
   "metadata": {},
   "outputs": [],
   "source": [
    "# 도전 과제!\n",
    "# 1. 사용자 입력을 받습니다. 사용자 입력 => testt word test tesst apple fun\n",
    "# 2. 맞춤법을 수정\n",
    "# 3. 빈도가 가장 높은 단어를 찾기\n"
   ]
  },
  {
   "cell_type": "code",
   "execution_count": 58,
   "metadata": {},
   "outputs": [
    {
     "name": "stdout",
     "output_type": "stream",
     "text": [
      "3\n",
      "test\n"
     ]
    }
   ],
   "source": [
    "# 내가 만든 과제 정답 알고리즘\n",
    "#word = input()\n",
    "#blob = TextBlob(word)\n",
    "#blob_correct = blob.correct()\n",
    "#frequency = blob_correct.word_counts\n",
    "#freq_word = None\n",
    "#most_freq = 0\n",
    "#for key, value in frequency.items():\n",
    "#    if value > most_freq:\n",
    "#        most_freq = value\n",
    "#        freq_word = key\n",
    "#print(most_freq)\n",
    "#print(freq_word)\n",
    "\n"
   ]
  },
  {
   "cell_type": "code",
   "execution_count": null,
   "metadata": {},
   "outputs": [],
   "source": [
    "# 또다른 알고리즘\n",
    "user_input = input()\n",
    "blob = TextBlob(user_input)\n",
    "blob_corrected = blob.correct()\n",
    "\n",
    "highest_word_string = \"\"\n",
    "highest_count = 0\n",
    "\n",
    "for word in blob_corrected.words:\n",
    "    count = blob_corrected.words.count(word.string, case_sensitive=False)\n",
    "    if count >= highest_count:\n",
    "        highest_count = count\n",
    "        highest_word_string = word.string\n",
    "\n",
    "print(f\"가장 많이 사용된 단어는 {highest_word_string}이고 그 숫자는 {highest_count}이다.\")"
   ]
  },
  {
   "cell_type": "code",
   "execution_count": 59,
   "metadata": {},
   "outputs": [],
   "source": [
    "blob = TextBlob(\"test apple test run\")\n",
    "dic = blob.word_counts"
   ]
  },
  {
   "cell_type": "code",
   "execution_count": 60,
   "metadata": {},
   "outputs": [
    {
     "name": "stdout",
     "output_type": "stream",
     "text": [
      "defaultdict(<class 'int'>, {'test': 2, 'apple': 1, 'run': 1})\n"
     ]
    }
   ],
   "source": [
    "print(dic)"
   ]
  },
  {
   "cell_type": "code",
   "execution_count": 63,
   "metadata": {},
   "outputs": [
    {
     "name": "stdout",
     "output_type": "stream",
     "text": [
      "test\n",
      "2\n"
     ]
    }
   ],
   "source": [
    "max_key = max(dic, key = dic.get)\n",
    "print(max_key)\n",
    "print(dic[max_key])"
   ]
  },
  {
   "cell_type": "code",
   "execution_count": 62,
   "metadata": {},
   "outputs": [
    {
     "name": "stdout",
     "output_type": "stream",
     "text": [
      "2\n"
     ]
    }
   ],
   "source": [
    "print(dic[max_key])"
   ]
  },
  {
   "cell_type": "code",
   "execution_count": null,
   "metadata": {},
   "outputs": [],
   "source": [
    "# 라이브 러리 + max() 함수 이용해서 쉽게 만들 수 있음\n",
    "# testt word test tesst apple fun 입력하셈\n"
   ]
  },
  {
   "cell_type": "code",
   "execution_count": 64,
   "metadata": {},
   "outputs": [
    {
     "name": "stdout",
     "output_type": "stream",
     "text": [
      "가장 많이 사용된 단어는 test이고 그 숫자는 3이다.\n"
     ]
    }
   ],
   "source": [
    "user_input = input()\n",
    "blob = TextBlob(user_input)\n",
    "blob_corrected = blob.correct()\n",
    "\n",
    "dic = blob_corrected.word_counts\n",
    "max_key = max(dic, key= dic.get)\n",
    "max_value = dic[max_key]\n",
    "\n",
    "print(f\"가장 많이 사용된 단어는 {max_key}이고 그 숫자는 {max_value}이다.\")"
   ]
  },
  {
   "cell_type": "code",
   "execution_count": null,
   "metadata": {},
   "outputs": [],
   "source": []
  }
 ],
 "metadata": {
  "interpreter": {
   "hash": "c0f2a156638663e52e3310a5b94cba9f1aaa2c6363cff10141cd0a597f3d9860"
  },
  "kernelspec": {
   "display_name": "Python 3.8.6rc1 64-bit ('nltk': venv)",
   "name": "python3"
  },
  "language_info": {
   "codemirror_mode": {
    "name": "ipython",
    "version": 3
   },
   "file_extension": ".py",
   "mimetype": "text/x-python",
   "name": "python",
   "nbconvert_exporter": "python",
   "pygments_lexer": "ipython3",
   "version": "3.8.6rc1"
  },
  "orig_nbformat": 4
 },
 "nbformat": 4,
 "nbformat_minor": 2
}
